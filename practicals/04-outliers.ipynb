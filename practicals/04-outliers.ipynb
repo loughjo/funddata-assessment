{
 "cells": [
  {
   "cell_type": "markdown",
   "id": "9d8509fa",
   "metadata": {},
   "source": [
    "# Outliers"
   ]
  },
  {
   "cell_type": "code",
   "execution_count": 1,
   "id": "646b9feb",
   "metadata": {},
   "outputs": [],
   "source": [
    "# Numerical arrays.\n",
    "import numpy as np\n",
    "\n",
    "# Plotting.\n",
    "import matplotlib.pyplot as plt\n",
    "\n",
    "# Statistics.\n",
    "import scipy.stats as ss"
   ]
  },
  {
   "cell_type": "markdown",
   "id": "bb56dc7b",
   "metadata": {},
   "source": [
    "## Exercise 1\n",
    "Remember to do these exercises in your own notebook in your assessment repository.\n",
    "\n",
    "Create box plots on a single set of axes for all five experiments in the morley data set."
   ]
  },
  {
   "cell_type": "code",
   "execution_count": 3,
   "id": "2dc8d8c5",
   "metadata": {},
   "outputs": [],
   "source": [
    "# Read in the morley data.\n",
    "data = np.genfromtxt('morley.csv', skip_header=1, delimiter=',', deletechars='\"')"
   ]
  },
  {
   "cell_type": "code",
   "execution_count": 5,
   "id": "29a4b5a9",
   "metadata": {},
   "outputs": [],
   "source": [
    "# Remove the first column.\n",
    "data = data[:,1:]"
   ]
  },
  {
   "cell_type": "code",
   "execution_count": 8,
   "id": "94d9b7c4",
   "metadata": {},
   "outputs": [],
   "source": [
    "#data"
   ]
  },
  {
   "cell_type": "code",
   "execution_count": 9,
   "id": "1fc99a0a",
   "metadata": {},
   "outputs": [
    {
     "data": {
      "text/plain": [
       "array([ 850.,  740.,  900., 1070.,  930.,  850.,  950.,  980.,  980.,\n",
       "        880., 1000.,  980.,  930.,  650.,  760.,  810., 1000., 1000.,\n",
       "        960.,  960.])"
      ]
     },
     "execution_count": 9,
     "metadata": {},
     "output_type": "execute_result"
    }
   ],
   "source": [
    "# Select the data for the first experiment.\n",
    "exper_1 = data[:20, 2]\n",
    "\n",
    "exper_1"
   ]
  },
  {
   "cell_type": "code",
   "execution_count": 10,
   "id": "7fd5138d",
   "metadata": {},
   "outputs": [
    {
     "data": {
      "text/plain": [
       "array([960., 940., 960., 940., 880., 800., 850., 880., 900., 840., 830.,\n",
       "       790., 810., 880., 880., 830., 800., 790., 760., 800.])"
      ]
     },
     "execution_count": 10,
     "metadata": {},
     "output_type": "execute_result"
    }
   ],
   "source": [
    "# Select the data for the first experiment.\n",
    "exper_2 = data[20:40, 2]\n",
    "\n",
    "exper_2"
   ]
  },
  {
   "cell_type": "code",
   "execution_count": 11,
   "id": "909e6cbe",
   "metadata": {},
   "outputs": [
    {
     "data": {
      "text/plain": [
       "array([880., 880., 880., 860., 720., 720., 620., 860., 970., 950., 880.,\n",
       "       910., 850., 870., 840., 840., 850., 840., 840., 840.])"
      ]
     },
     "execution_count": 11,
     "metadata": {},
     "output_type": "execute_result"
    }
   ],
   "source": [
    "# Select the data for the first experiment.\n",
    "exper_3 = data[40:60, 2]\n",
    "\n",
    "exper_3"
   ]
  },
  {
   "cell_type": "code",
   "execution_count": 12,
   "id": "67cb1d74",
   "metadata": {},
   "outputs": [
    {
     "data": {
      "text/plain": [
       "array([890., 810., 810., 820., 800., 770., 760., 740., 750., 760., 910.,\n",
       "       920., 890., 860., 880., 720., 840., 850., 850., 780.])"
      ]
     },
     "execution_count": 12,
     "metadata": {},
     "output_type": "execute_result"
    }
   ],
   "source": [
    "# Select the data for the first experiment.\n",
    "exper_4 = data[60:80, 2]\n",
    "\n",
    "exper_4"
   ]
  },
  {
   "cell_type": "code",
   "execution_count": 16,
   "id": "2630a0e1",
   "metadata": {},
   "outputs": [
    {
     "data": {
      "text/plain": [
       "array([890., 840., 780., 810., 760., 810., 790., 810., 820., 850., 870.,\n",
       "       870., 810., 740., 810., 940., 950., 800., 810., 870.])"
      ]
     },
     "execution_count": 16,
     "metadata": {},
     "output_type": "execute_result"
    }
   ],
   "source": [
    "# Select the data for the first experiment.\n",
    "exper_5 = data[80:100, 2]\n",
    "\n",
    "exper_5"
   ]
  },
  {
   "cell_type": "code",
   "execution_count": 17,
   "id": "b270b316",
   "metadata": {},
   "outputs": [
    {
     "data": {
      "image/png": "[encoded data removed]",
      "text/plain": [
       "<Figure size 640x480 with 1 Axes>"
      ]
     },
     "metadata": {},
     "output_type": "display_data"
    }
   ],
   "source": [
    "plt.boxplot(np.array([exper_1, exper_2, exper_3, exper_4, exper_5 ]).T);"
   ]
  },
  {
   "cell_type": "code",
   "execution_count": 22,
   "id": "23df85d3",
   "metadata": {},
   "outputs": [],
   "source": [
    "box = data[:,2].reshape(5, 20).T"
   ]
  },
  {
   "cell_type": "code",
   "execution_count": 26,
   "id": "2cb864c7",
   "metadata": {},
   "outputs": [],
   "source": [
    "exp_1 = box[:,0]\n",
    "exp_2 = box[:,1]\n",
    "exp_3 = box[:,2]\n",
    "exp_4 = box[:,3]\n",
    "exp_5 = box[:,4]"
   ]
  },
  {
   "cell_type": "code",
   "execution_count": 29,
   "id": "a36be05b",
   "metadata": {},
   "outputs": [],
   "source": [
    "box_data=[exper_1,exper_2,exper_3,exper_4,exper_5]"
   ]
  },
  {
   "cell_type": "code",
   "execution_count": 38,
   "id": "57a3d048",
   "metadata": {},
   "outputs": [
    {
     "data": {
      "text/plain": [
       "<matplotlib.collections.LineCollection at 0x18978b66970>"
      ]
     },
     "execution_count": 38,
     "metadata": {},
     "output_type": "execute_result"
    },
    {
     "data": {
      "image/png": "[encoded data removed]",
      "text/plain": [
       "<Figure size 640x480 with 1 Axes>"
      ]
     },
     "metadata": {},
     "output_type": "display_data"
    }
   ],
   "source": [
    "box=plt.boxplot(box_data,vert=1,patch_artist=False,labels=['1','2','3','4','5'],)\n",
    "reference = [780]\n",
    "left, right = plt.xlim()\n",
    "plt.hlines(reference, xmin=left, xmax=right, color='r', linestyles='-')\n"
   ]
  },
  {
   "cell_type": "code",
   "execution_count": 21,
   "id": "a4c8acfc",
   "metadata": {},
   "outputs": [
    {
     "ename": "AttributeError",
     "evalue": "'list' object has no attribute 'T'",
     "output_type": "error",
     "traceback": [
      "\u001b[1;31m---------------------------------------------------------------------------\u001b[0m",
      "\u001b[1;31mAttributeError\u001b[0m                            Traceback (most recent call last)",
      "\u001b[1;32m~\\AppData\\Local\\Temp\\ipykernel_16320\\1888201045.py\u001b[0m in \u001b[0;36m<module>\u001b[1;34m\u001b[0m\n\u001b[1;32m----> 1\u001b[1;33m \u001b[0mbox_plot_data\u001b[0m\u001b[1;33m=\u001b[0m\u001b[1;33m[\u001b[0m\u001b[0mexper_1\u001b[0m\u001b[1;33m,\u001b[0m\u001b[0mexper_2\u001b[0m\u001b[1;33m,\u001b[0m\u001b[0mexper_3\u001b[0m\u001b[1;33m,\u001b[0m\u001b[0mexper_4\u001b[0m\u001b[1;33m,\u001b[0m\u001b[0mexper_5\u001b[0m\u001b[1;33m]\u001b[0m\u001b[1;33m.\u001b[0m\u001b[0mT\u001b[0m\u001b[1;33m\u001b[0m\u001b[1;33m\u001b[0m\u001b[0m\n\u001b[0m\u001b[0;32m      2\u001b[0m box=plt.boxplot(box_plot_data,vert=0,patch_artist=True,labels=['1','2','3','4','5'],\n\u001b[0;32m      3\u001b[0m             )\n\u001b[0;32m      4\u001b[0m \u001b[1;33m\u001b[0m\u001b[0m\n\u001b[0;32m      5\u001b[0m \u001b[0mcolors\u001b[0m \u001b[1;33m=\u001b[0m \u001b[1;33m[\u001b[0m\u001b[1;34m'cyan'\u001b[0m\u001b[1;33m,\u001b[0m \u001b[1;34m'lightblue'\u001b[0m\u001b[1;33m,\u001b[0m \u001b[1;34m'lightgreen'\u001b[0m\u001b[1;33m,\u001b[0m \u001b[1;34m'tan'\u001b[0m\u001b[1;33m,\u001b[0m\u001b[1;34m'red'\u001b[0m\u001b[1;33m]\u001b[0m\u001b[1;33m\u001b[0m\u001b[1;33m\u001b[0m\u001b[0m\n",
      "\u001b[1;31mAttributeError\u001b[0m: 'list' object has no attribute 'T'"
     ]
    }
   ],
   "source": [
    "box_plot_data=[exper_1,exper_2,exper_3,exper_4,exper_5]\n",
    "box=plt.boxplot(box_plot_data,vert=0,patch_artist=True,labels=['1','2','3','4','5'],\n",
    "            )\n",
    " \n",
    "colors = ['cyan', 'lightblue', 'lightgreen', 'tan','red']\n",
    "for patch, color in zip(box['boxes'], colors):\n",
    "    patch.set_facecolor(color)\n",
    "plt.show()\n"
   ]
  },
  {
   "cell_type": "markdown",
   "id": "a809833e",
   "metadata": {},
   "source": [
    "## Exercise 2\n",
    "Remember to do these exercises in your own notebook in your assessment repository.\n",
    "\n",
    "Create box plots for all of the numercial variables in Fisher's Iris Data Set."
   ]
  },
  {
   "cell_type": "code",
   "execution_count": null,
   "id": "4d26705a",
   "metadata": {},
   "outputs": [],
   "source": []
  },
  {
   "cell_type": "code",
   "execution_count": null,
   "id": "148124fc",
   "metadata": {},
   "outputs": [],
   "source": []
  },
  {
   "cell_type": "code",
   "execution_count": null,
   "id": "0f1adad3",
   "metadata": {},
   "outputs": [],
   "source": []
  }
 ],
 "metadata": {
  "kernelspec": {
   "display_name": "Python 3 (ipykernel)",
   "language": "python",
   "name": "python3"
  },
  "language_info": {
   "codemirror_mode": {
    "name": "ipython",
    "version": 3
   },
   "file_extension": ".py",
   "mimetype": "text/x-python",
   "name": "python",
   "nbconvert_exporter": "python",
   "pygments_lexer": "ipython3",
   "version": "3.9.13"
  }
 },
 "nbformat": 4,
 "nbformat_minor": 5
}
