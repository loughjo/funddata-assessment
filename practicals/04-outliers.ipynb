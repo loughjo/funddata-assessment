{
 "cells": [
  {
   "cell_type": "markdown",
   "id": "9d8509fa",
   "metadata": {},
   "source": [
    "# Outliers"
   ]
  },
  {
   "cell_type": "code",
   "execution_count": 12,
   "id": "646b9feb",
   "metadata": {},
   "outputs": [],
   "source": [
    "# Numerical arrays.\n",
    "import numpy as np\n",
    "\n",
    "# Plotting.\n",
    "import matplotlib.pyplot as plt\n",
    "\n",
    "# Statistics.\n",
    "import scipy.stats as ss\n",
    "\n",
    "import pandas as pd"
   ]
  },
  {
   "cell_type": "markdown",
   "id": "bb56dc7b",
   "metadata": {},
   "source": [
    "## Exercise 1\n",
    "Remember to do these exercises in your own notebook in your assessment repository.\n",
    "\n",
    "Create box plots on a single set of axes for all five experiments in the morley data set."
   ]
  },
  {
   "cell_type": "code",
   "execution_count": 7,
   "id": "2dc8d8c5",
   "metadata": {},
   "outputs": [],
   "source": [
    "# Read in the morley data.\n",
    "data = np.genfromtxt('morley.csv', skip_header=1, delimiter=',', deletechars='\"')"
   ]
  },
  {
   "cell_type": "code",
   "execution_count": 8,
   "id": "b626b667",
   "metadata": {},
   "outputs": [
    {
     "data": {
      "text/plain": [
       "array([[     nan, 1.00e+00, 1.00e+00, 8.50e+02],\n",
       "       [     nan, 1.00e+00, 2.00e+00, 7.40e+02],\n",
       "       [     nan, 1.00e+00, 3.00e+00, 9.00e+02],\n",
       "       [     nan, 1.00e+00, 4.00e+00, 1.07e+03],\n",
       "       [     nan, 1.00e+00, 5.00e+00, 9.30e+02],\n",
       "       [     nan, 1.00e+00, 6.00e+00, 8.50e+02],\n",
       "       [     nan, 1.00e+00, 7.00e+00, 9.50e+02],\n",
       "       [     nan, 1.00e+00, 8.00e+00, 9.80e+02],\n",
       "       [     nan, 1.00e+00, 9.00e+00, 9.80e+02],\n",
       "       [     nan, 1.00e+00, 1.00e+01, 8.80e+02],\n",
       "       [     nan, 1.00e+00, 1.10e+01, 1.00e+03],\n",
       "       [     nan, 1.00e+00, 1.20e+01, 9.80e+02],\n",
       "       [     nan, 1.00e+00, 1.30e+01, 9.30e+02],\n",
       "       [     nan, 1.00e+00, 1.40e+01, 6.50e+02],\n",
       "       [     nan, 1.00e+00, 1.50e+01, 7.60e+02],\n",
       "       [     nan, 1.00e+00, 1.60e+01, 8.10e+02],\n",
       "       [     nan, 1.00e+00, 1.70e+01, 1.00e+03],\n",
       "       [     nan, 1.00e+00, 1.80e+01, 1.00e+03],\n",
       "       [     nan, 1.00e+00, 1.90e+01, 9.60e+02],\n",
       "       [     nan, 1.00e+00, 2.00e+01, 9.60e+02],\n",
       "       [     nan, 2.00e+00, 1.00e+00, 9.60e+02],\n",
       "       [     nan, 2.00e+00, 2.00e+00, 9.40e+02],\n",
       "       [     nan, 2.00e+00, 3.00e+00, 9.60e+02],\n",
       "       [     nan, 2.00e+00, 4.00e+00, 9.40e+02],\n",
       "       [     nan, 2.00e+00, 5.00e+00, 8.80e+02],\n",
       "       [     nan, 2.00e+00, 6.00e+00, 8.00e+02],\n",
       "       [     nan, 2.00e+00, 7.00e+00, 8.50e+02],\n",
       "       [     nan, 2.00e+00, 8.00e+00, 8.80e+02],\n",
       "       [     nan, 2.00e+00, 9.00e+00, 9.00e+02],\n",
       "       [     nan, 2.00e+00, 1.00e+01, 8.40e+02],\n",
       "       [     nan, 2.00e+00, 1.10e+01, 8.30e+02],\n",
       "       [     nan, 2.00e+00, 1.20e+01, 7.90e+02],\n",
       "       [     nan, 2.00e+00, 1.30e+01, 8.10e+02],\n",
       "       [     nan, 2.00e+00, 1.40e+01, 8.80e+02],\n",
       "       [     nan, 2.00e+00, 1.50e+01, 8.80e+02],\n",
       "       [     nan, 2.00e+00, 1.60e+01, 8.30e+02],\n",
       "       [     nan, 2.00e+00, 1.70e+01, 8.00e+02],\n",
       "       [     nan, 2.00e+00, 1.80e+01, 7.90e+02],\n",
       "       [     nan, 2.00e+00, 1.90e+01, 7.60e+02],\n",
       "       [     nan, 2.00e+00, 2.00e+01, 8.00e+02],\n",
       "       [     nan, 3.00e+00, 1.00e+00, 8.80e+02],\n",
       "       [     nan, 3.00e+00, 2.00e+00, 8.80e+02],\n",
       "       [     nan, 3.00e+00, 3.00e+00, 8.80e+02],\n",
       "       [     nan, 3.00e+00, 4.00e+00, 8.60e+02],\n",
       "       [     nan, 3.00e+00, 5.00e+00, 7.20e+02],\n",
       "       [     nan, 3.00e+00, 6.00e+00, 7.20e+02],\n",
       "       [     nan, 3.00e+00, 7.00e+00, 6.20e+02],\n",
       "       [     nan, 3.00e+00, 8.00e+00, 8.60e+02],\n",
       "       [     nan, 3.00e+00, 9.00e+00, 9.70e+02],\n",
       "       [     nan, 3.00e+00, 1.00e+01, 9.50e+02],\n",
       "       [     nan, 3.00e+00, 1.10e+01, 8.80e+02],\n",
       "       [     nan, 3.00e+00, 1.20e+01, 9.10e+02],\n",
       "       [     nan, 3.00e+00, 1.30e+01, 8.50e+02],\n",
       "       [     nan, 3.00e+00, 1.40e+01, 8.70e+02],\n",
       "       [     nan, 3.00e+00, 1.50e+01, 8.40e+02],\n",
       "       [     nan, 3.00e+00, 1.60e+01, 8.40e+02],\n",
       "       [     nan, 3.00e+00, 1.70e+01, 8.50e+02],\n",
       "       [     nan, 3.00e+00, 1.80e+01, 8.40e+02],\n",
       "       [     nan, 3.00e+00, 1.90e+01, 8.40e+02],\n",
       "       [     nan, 3.00e+00, 2.00e+01, 8.40e+02],\n",
       "       [     nan, 4.00e+00, 1.00e+00, 8.90e+02],\n",
       "       [     nan, 4.00e+00, 2.00e+00, 8.10e+02],\n",
       "       [     nan, 4.00e+00, 3.00e+00, 8.10e+02],\n",
       "       [     nan, 4.00e+00, 4.00e+00, 8.20e+02],\n",
       "       [     nan, 4.00e+00, 5.00e+00, 8.00e+02],\n",
       "       [     nan, 4.00e+00, 6.00e+00, 7.70e+02],\n",
       "       [     nan, 4.00e+00, 7.00e+00, 7.60e+02],\n",
       "       [     nan, 4.00e+00, 8.00e+00, 7.40e+02],\n",
       "       [     nan, 4.00e+00, 9.00e+00, 7.50e+02],\n",
       "       [     nan, 4.00e+00, 1.00e+01, 7.60e+02],\n",
       "       [     nan, 4.00e+00, 1.10e+01, 9.10e+02],\n",
       "       [     nan, 4.00e+00, 1.20e+01, 9.20e+02],\n",
       "       [     nan, 4.00e+00, 1.30e+01, 8.90e+02],\n",
       "       [     nan, 4.00e+00, 1.40e+01, 8.60e+02],\n",
       "       [     nan, 4.00e+00, 1.50e+01, 8.80e+02],\n",
       "       [     nan, 4.00e+00, 1.60e+01, 7.20e+02],\n",
       "       [     nan, 4.00e+00, 1.70e+01, 8.40e+02],\n",
       "       [     nan, 4.00e+00, 1.80e+01, 8.50e+02],\n",
       "       [     nan, 4.00e+00, 1.90e+01, 8.50e+02],\n",
       "       [     nan, 4.00e+00, 2.00e+01, 7.80e+02],\n",
       "       [     nan, 5.00e+00, 1.00e+00, 8.90e+02],\n",
       "       [     nan, 5.00e+00, 2.00e+00, 8.40e+02],\n",
       "       [     nan, 5.00e+00, 3.00e+00, 7.80e+02],\n",
       "       [     nan, 5.00e+00, 4.00e+00, 8.10e+02],\n",
       "       [     nan, 5.00e+00, 5.00e+00, 7.60e+02],\n",
       "       [     nan, 5.00e+00, 6.00e+00, 8.10e+02],\n",
       "       [     nan, 5.00e+00, 7.00e+00, 7.90e+02],\n",
       "       [     nan, 5.00e+00, 8.00e+00, 8.10e+02],\n",
       "       [     nan, 5.00e+00, 9.00e+00, 8.20e+02],\n",
       "       [     nan, 5.00e+00, 1.00e+01, 8.50e+02],\n",
       "       [     nan, 5.00e+00, 1.10e+01, 8.70e+02],\n",
       "       [     nan, 5.00e+00, 1.20e+01, 8.70e+02],\n",
       "       [     nan, 5.00e+00, 1.30e+01, 8.10e+02],\n",
       "       [     nan, 5.00e+00, 1.40e+01, 7.40e+02],\n",
       "       [     nan, 5.00e+00, 1.50e+01, 8.10e+02],\n",
       "       [     nan, 5.00e+00, 1.60e+01, 9.40e+02],\n",
       "       [     nan, 5.00e+00, 1.70e+01, 9.50e+02],\n",
       "       [     nan, 5.00e+00, 1.80e+01, 8.00e+02],\n",
       "       [     nan, 5.00e+00, 1.90e+01, 8.10e+02],\n",
       "       [     nan, 5.00e+00, 2.00e+01, 8.70e+02]])"
      ]
     },
     "execution_count": 8,
     "metadata": {},
     "output_type": "execute_result"
    }
   ],
   "source": [
    "data"
   ]
  },
  {
   "cell_type": "code",
   "execution_count": 9,
   "id": "29a4b5a9",
   "metadata": {},
   "outputs": [],
   "source": [
    "# Remove the first column.\n",
    "data = data[:,1:]"
   ]
  },
  {
   "cell_type": "code",
   "execution_count": 10,
   "id": "94d9b7c4",
   "metadata": {},
   "outputs": [
    {
     "name": "stdout",
     "output_type": "stream",
     "text": [
      "[[1.00e+00 1.00e+00 8.50e+02]\n",
      " [1.00e+00 2.00e+00 7.40e+02]\n",
      " [1.00e+00 3.00e+00 9.00e+02]\n",
      " [1.00e+00 4.00e+00 1.07e+03]\n",
      " [1.00e+00 5.00e+00 9.30e+02]\n",
      " [1.00e+00 6.00e+00 8.50e+02]\n",
      " [1.00e+00 7.00e+00 9.50e+02]\n",
      " [1.00e+00 8.00e+00 9.80e+02]\n",
      " [1.00e+00 9.00e+00 9.80e+02]\n",
      " [1.00e+00 1.00e+01 8.80e+02]\n",
      " [1.00e+00 1.10e+01 1.00e+03]\n",
      " [1.00e+00 1.20e+01 9.80e+02]\n",
      " [1.00e+00 1.30e+01 9.30e+02]\n",
      " [1.00e+00 1.40e+01 6.50e+02]\n",
      " [1.00e+00 1.50e+01 7.60e+02]\n",
      " [1.00e+00 1.60e+01 8.10e+02]\n",
      " [1.00e+00 1.70e+01 1.00e+03]\n",
      " [1.00e+00 1.80e+01 1.00e+03]\n",
      " [1.00e+00 1.90e+01 9.60e+02]\n",
      " [1.00e+00 2.00e+01 9.60e+02]\n",
      " [2.00e+00 1.00e+00 9.60e+02]\n",
      " [2.00e+00 2.00e+00 9.40e+02]\n",
      " [2.00e+00 3.00e+00 9.60e+02]\n",
      " [2.00e+00 4.00e+00 9.40e+02]\n",
      " [2.00e+00 5.00e+00 8.80e+02]\n",
      " [2.00e+00 6.00e+00 8.00e+02]\n",
      " [2.00e+00 7.00e+00 8.50e+02]\n",
      " [2.00e+00 8.00e+00 8.80e+02]\n",
      " [2.00e+00 9.00e+00 9.00e+02]\n",
      " [2.00e+00 1.00e+01 8.40e+02]\n",
      " [2.00e+00 1.10e+01 8.30e+02]\n",
      " [2.00e+00 1.20e+01 7.90e+02]\n",
      " [2.00e+00 1.30e+01 8.10e+02]\n",
      " [2.00e+00 1.40e+01 8.80e+02]\n",
      " [2.00e+00 1.50e+01 8.80e+02]\n",
      " [2.00e+00 1.60e+01 8.30e+02]\n",
      " [2.00e+00 1.70e+01 8.00e+02]\n",
      " [2.00e+00 1.80e+01 7.90e+02]\n",
      " [2.00e+00 1.90e+01 7.60e+02]\n",
      " [2.00e+00 2.00e+01 8.00e+02]\n",
      " [3.00e+00 1.00e+00 8.80e+02]\n",
      " [3.00e+00 2.00e+00 8.80e+02]\n",
      " [3.00e+00 3.00e+00 8.80e+02]\n",
      " [3.00e+00 4.00e+00 8.60e+02]\n",
      " [3.00e+00 5.00e+00 7.20e+02]\n",
      " [3.00e+00 6.00e+00 7.20e+02]\n",
      " [3.00e+00 7.00e+00 6.20e+02]\n",
      " [3.00e+00 8.00e+00 8.60e+02]\n",
      " [3.00e+00 9.00e+00 9.70e+02]\n",
      " [3.00e+00 1.00e+01 9.50e+02]\n",
      " [3.00e+00 1.10e+01 8.80e+02]\n",
      " [3.00e+00 1.20e+01 9.10e+02]\n",
      " [3.00e+00 1.30e+01 8.50e+02]\n",
      " [3.00e+00 1.40e+01 8.70e+02]\n",
      " [3.00e+00 1.50e+01 8.40e+02]\n",
      " [3.00e+00 1.60e+01 8.40e+02]\n",
      " [3.00e+00 1.70e+01 8.50e+02]\n",
      " [3.00e+00 1.80e+01 8.40e+02]\n",
      " [3.00e+00 1.90e+01 8.40e+02]\n",
      " [3.00e+00 2.00e+01 8.40e+02]\n",
      " [4.00e+00 1.00e+00 8.90e+02]\n",
      " [4.00e+00 2.00e+00 8.10e+02]\n",
      " [4.00e+00 3.00e+00 8.10e+02]\n",
      " [4.00e+00 4.00e+00 8.20e+02]\n",
      " [4.00e+00 5.00e+00 8.00e+02]\n",
      " [4.00e+00 6.00e+00 7.70e+02]\n",
      " [4.00e+00 7.00e+00 7.60e+02]\n",
      " [4.00e+00 8.00e+00 7.40e+02]\n",
      " [4.00e+00 9.00e+00 7.50e+02]\n",
      " [4.00e+00 1.00e+01 7.60e+02]\n",
      " [4.00e+00 1.10e+01 9.10e+02]\n",
      " [4.00e+00 1.20e+01 9.20e+02]\n",
      " [4.00e+00 1.30e+01 8.90e+02]\n",
      " [4.00e+00 1.40e+01 8.60e+02]\n",
      " [4.00e+00 1.50e+01 8.80e+02]\n",
      " [4.00e+00 1.60e+01 7.20e+02]\n",
      " [4.00e+00 1.70e+01 8.40e+02]\n",
      " [4.00e+00 1.80e+01 8.50e+02]\n",
      " [4.00e+00 1.90e+01 8.50e+02]\n",
      " [4.00e+00 2.00e+01 7.80e+02]\n",
      " [5.00e+00 1.00e+00 8.90e+02]\n",
      " [5.00e+00 2.00e+00 8.40e+02]\n",
      " [5.00e+00 3.00e+00 7.80e+02]\n",
      " [5.00e+00 4.00e+00 8.10e+02]\n",
      " [5.00e+00 5.00e+00 7.60e+02]\n",
      " [5.00e+00 6.00e+00 8.10e+02]\n",
      " [5.00e+00 7.00e+00 7.90e+02]\n",
      " [5.00e+00 8.00e+00 8.10e+02]\n",
      " [5.00e+00 9.00e+00 8.20e+02]\n",
      " [5.00e+00 1.00e+01 8.50e+02]\n",
      " [5.00e+00 1.10e+01 8.70e+02]\n",
      " [5.00e+00 1.20e+01 8.70e+02]\n",
      " [5.00e+00 1.30e+01 8.10e+02]\n",
      " [5.00e+00 1.40e+01 7.40e+02]\n",
      " [5.00e+00 1.50e+01 8.10e+02]\n",
      " [5.00e+00 1.60e+01 9.40e+02]\n",
      " [5.00e+00 1.70e+01 9.50e+02]\n",
      " [5.00e+00 1.80e+01 8.00e+02]\n",
      " [5.00e+00 1.90e+01 8.10e+02]\n",
      " [5.00e+00 2.00e+01 8.70e+02]]\n"
     ]
    }
   ],
   "source": [
    "print(data)\n"
   ]
  },
  {
   "cell_type": "code",
   "execution_count": 9,
   "id": "1fc99a0a",
   "metadata": {},
   "outputs": [
    {
     "data": {
      "text/plain": [
       "array([ 850.,  740.,  900., 1070.,  930.,  850.,  950.,  980.,  980.,\n",
       "        880., 1000.,  980.,  930.,  650.,  760.,  810., 1000., 1000.,\n",
       "        960.,  960.])"
      ]
     },
     "execution_count": 9,
     "metadata": {},
     "output_type": "execute_result"
    }
   ],
   "source": [
    "# Select the data for the first experiment.\n",
    "exper_1 = data[:20, 2]\n",
    "\n",
    "exper_1"
   ]
  },
  {
   "cell_type": "code",
   "execution_count": 10,
   "id": "7fd5138d",
   "metadata": {},
   "outputs": [
    {
     "data": {
      "text/plain": [
       "array([960., 940., 960., 940., 880., 800., 850., 880., 900., 840., 830.,\n",
       "       790., 810., 880., 880., 830., 800., 790., 760., 800.])"
      ]
     },
     "execution_count": 10,
     "metadata": {},
     "output_type": "execute_result"
    }
   ],
   "source": [
    "# Select the data for the first experiment.\n",
    "exper_2 = data[20:40, 2]\n",
    "\n",
    "exper_2"
   ]
  },
  {
   "cell_type": "code",
   "execution_count": 11,
   "id": "909e6cbe",
   "metadata": {},
   "outputs": [
    {
     "data": {
      "text/plain": [
       "array([880., 880., 880., 860., 720., 720., 620., 860., 970., 950., 880.,\n",
       "       910., 850., 870., 840., 840., 850., 840., 840., 840.])"
      ]
     },
     "execution_count": 11,
     "metadata": {},
     "output_type": "execute_result"
    }
   ],
   "source": [
    "# Select the data for the first experiment.\n",
    "exper_3 = data[40:60, 2]\n",
    "\n",
    "exper_3"
   ]
  },
  {
   "cell_type": "code",
   "execution_count": 12,
   "id": "67cb1d74",
   "metadata": {},
   "outputs": [
    {
     "data": {
      "text/plain": [
       "array([890., 810., 810., 820., 800., 770., 760., 740., 750., 760., 910.,\n",
       "       920., 890., 860., 880., 720., 840., 850., 850., 780.])"
      ]
     },
     "execution_count": 12,
     "metadata": {},
     "output_type": "execute_result"
    }
   ],
   "source": [
    "# Select the data for the first experiment.\n",
    "exper_4 = data[60:80, 2]\n",
    "\n",
    "exper_4"
   ]
  },
  {
   "cell_type": "code",
   "execution_count": 16,
   "id": "2630a0e1",
   "metadata": {},
   "outputs": [
    {
     "data": {
      "text/plain": [
       "array([890., 840., 780., 810., 760., 810., 790., 810., 820., 850., 870.,\n",
       "       870., 810., 740., 810., 940., 950., 800., 810., 870.])"
      ]
     },
     "execution_count": 16,
     "metadata": {},
     "output_type": "execute_result"
    }
   ],
   "source": [
    "# Select the data for the first experiment.\n",
    "exper_5 = data[80:100, 2]\n",
    "\n",
    "exper_5"
   ]
  },
  {
   "cell_type": "code",
   "execution_count": 17,
   "id": "b270b316",
   "metadata": {},
   "outputs": [
    {
     "data": {
      "image/png": "[encoded data removed]",
      "text/plain": [
       "<Figure size 640x480 with 1 Axes>"
      ]
     },
     "metadata": {},
     "output_type": "display_data"
    }
   ],
   "source": [
    "plt.boxplot(np.array([exper_1, exper_2, exper_3, exper_4, exper_5 ]).T);"
   ]
  },
  {
   "cell_type": "code",
   "execution_count": 23,
   "id": "23df85d3",
   "metadata": {},
   "outputs": [],
   "source": [
    "box = data[:,2].reshape(5, 20).T"
   ]
  },
  {
   "cell_type": "code",
   "execution_count": 24,
   "id": "2cb864c7",
   "metadata": {},
   "outputs": [],
   "source": [
    "exp_1 = box[:,0]\n",
    "exp_2 = box[:,1]\n",
    "exp_3 = box[:,2]\n",
    "exp_4 = box[:,3]\n",
    "exp_5 = box[:,4]"
   ]
  },
  {
   "cell_type": "code",
   "execution_count": 26,
   "id": "a36be05b",
   "metadata": {},
   "outputs": [],
   "source": [
    "box_data=[exp_1,exp_2,exp_3,exp_4,exp_5]"
   ]
  },
  {
   "cell_type": "code",
   "execution_count": 64,
   "id": "57a3d048",
   "metadata": {},
   "outputs": [
    {
     "data": {
      "image/png": "[encoded data removed]",
      "text/plain": [
       "<Figure size 640x480 with 1 Axes>"
      ]
     },
     "metadata": {},
     "output_type": "display_data"
    }
   ],
   "source": [
    "box=plt.boxplot(box_data,vert=1,patch_artist=False,labels=['1','2','3','4','5'])\n",
    "reference = [792.458]\n",
    "left, right = plt.xlim()\n",
    "plt.hlines(reference, xmin=left, xmax=right, color='r', linestyles='-')\n",
    "\n",
    "# Add title\n",
    "plt.xlabel('Experiment No.')\n",
    "plt.ylabel('Speed of Light (km/s minus 299,000)')\n",
    "plt.text(3,778,\"true speed\")\n",
    "\n",
    "plt.show()\n",
    "#plt.yticks([1, 2, 3], ['mon', 'tue', 'wed'])\n",
    "#box.set_xlabel('xlabel')\n",
    "#box.set_ylabel('ylabel')\n",
    "#fig = plt.figure()\n",
    "#fig.suptitle('bold figure suptitle', fontsize=14, fontweight='bold')"
   ]
  },
  {
   "cell_type": "code",
   "execution_count": 21,
   "id": "a4c8acfc",
   "metadata": {},
   "outputs": [
    {
     "ename": "AttributeError",
     "evalue": "'list' object has no attribute 'T'",
     "output_type": "error",
     "traceback": [
      "\u001b[1;31m---------------------------------------------------------------------------\u001b[0m",
      "\u001b[1;31mAttributeError\u001b[0m                            Traceback (most recent call last)",
      "\u001b[1;32m~\\AppData\\Local\\Temp\\ipykernel_16320\\1888201045.py\u001b[0m in \u001b[0;36m<module>\u001b[1;34m\u001b[0m\n\u001b[1;32m----> 1\u001b[1;33m \u001b[0mbox_plot_data\u001b[0m\u001b[1;33m=\u001b[0m\u001b[1;33m[\u001b[0m\u001b[0mexper_1\u001b[0m\u001b[1;33m,\u001b[0m\u001b[0mexper_2\u001b[0m\u001b[1;33m,\u001b[0m\u001b[0mexper_3\u001b[0m\u001b[1;33m,\u001b[0m\u001b[0mexper_4\u001b[0m\u001b[1;33m,\u001b[0m\u001b[0mexper_5\u001b[0m\u001b[1;33m]\u001b[0m\u001b[1;33m.\u001b[0m\u001b[0mT\u001b[0m\u001b[1;33m\u001b[0m\u001b[1;33m\u001b[0m\u001b[0m\n\u001b[0m\u001b[0;32m      2\u001b[0m box=plt.boxplot(box_plot_data,vert=0,patch_artist=True,labels=['1','2','3','4','5'],\n\u001b[0;32m      3\u001b[0m             )\n\u001b[0;32m      4\u001b[0m \u001b[1;33m\u001b[0m\u001b[0m\n\u001b[0;32m      5\u001b[0m \u001b[0mcolors\u001b[0m \u001b[1;33m=\u001b[0m \u001b[1;33m[\u001b[0m\u001b[1;34m'cyan'\u001b[0m\u001b[1;33m,\u001b[0m \u001b[1;34m'lightblue'\u001b[0m\u001b[1;33m,\u001b[0m \u001b[1;34m'lightgreen'\u001b[0m\u001b[1;33m,\u001b[0m \u001b[1;34m'tan'\u001b[0m\u001b[1;33m,\u001b[0m\u001b[1;34m'red'\u001b[0m\u001b[1;33m]\u001b[0m\u001b[1;33m\u001b[0m\u001b[1;33m\u001b[0m\u001b[0m\n",
      "\u001b[1;31mAttributeError\u001b[0m: 'list' object has no attribute 'T'"
     ]
    }
   ],
   "source": [
    "box_plot_data=[exper_1,exper_2,exper_3,exper_4,exper_5]\n",
    "box=plt.boxplot(box_plot_data,vert=0,patch_artist=True,labels=['1','2','3','4','5'],\n",
    "            )\n",
    " \n",
    "colors = ['cyan', 'lightblue', 'lightgreen', 'tan','red']\n",
    "for patch, color in zip(box['boxes'], colors):\n",
    "    patch.set_facecolor(color)\n",
    "plt.show()\n"
   ]
  },
  {
   "cell_type": "markdown",
   "id": "a809833e",
   "metadata": {},
   "source": [
    "## Exercise 2\n",
    "Remember to do these exercises in your own notebook in your assessment repository.\n",
    "\n",
    "Create box plots for all of the numercial variables in Fisher's Iris Data Set."
   ]
  },
  {
   "cell_type": "code",
   "execution_count": 13,
   "id": "4d26705a",
   "metadata": {},
   "outputs": [],
   "source": [
    "colnames=['sepal length in cm', 'sepal width in cm', 'petal length in cm', 'petal width in cm', 'class']\n",
    "index=('Iris Setosa', 'Iris Versicolour', 'Iris Virginica')\n",
    "df = pd.read_csv(\"iris.data\",names=colnames)"
   ]
  },
  {
   "cell_type": "code",
   "execution_count": 16,
   "id": "e9ef8f5d",
   "metadata": {},
   "outputs": [
    {
     "data": {
      "text/html": [
       "<div>\n",
       "<style scoped>\n",
       "    .dataframe tbody tr th:only-of-type {\n",
       "        vertical-align: middle;\n",
       "    }\n",
       "\n",
       "    .dataframe tbody tr th {\n",
       "        vertical-align: top;\n",
       "    }\n",
       "\n",
       "    .dataframe thead th {\n",
       "        text-align: right;\n",
       "    }\n",
       "</style>\n",
       "<table border=\"1\" class=\"dataframe\">\n",
       "  <thead>\n",
       "    <tr style=\"text-align: right;\">\n",
       "      <th></th>\n",
       "      <th>sepal length in cm</th>\n",
       "      <th>sepal width in cm</th>\n",
       "      <th>petal length in cm</th>\n",
       "      <th>petal width in cm</th>\n",
       "      <th>class</th>\n",
       "    </tr>\n",
       "  </thead>\n",
       "  <tbody>\n",
       "    <tr>\n",
       "      <th>0</th>\n",
       "      <td>5.1</td>\n",
       "      <td>3.5</td>\n",
       "      <td>1.4</td>\n",
       "      <td>0.2</td>\n",
       "      <td>Iris-setosa</td>\n",
       "    </tr>\n",
       "    <tr>\n",
       "      <th>1</th>\n",
       "      <td>4.9</td>\n",
       "      <td>3.0</td>\n",
       "      <td>1.4</td>\n",
       "      <td>0.2</td>\n",
       "      <td>Iris-setosa</td>\n",
       "    </tr>\n",
       "    <tr>\n",
       "      <th>2</th>\n",
       "      <td>4.7</td>\n",
       "      <td>3.2</td>\n",
       "      <td>1.3</td>\n",
       "      <td>0.2</td>\n",
       "      <td>Iris-setosa</td>\n",
       "    </tr>\n",
       "    <tr>\n",
       "      <th>3</th>\n",
       "      <td>4.6</td>\n",
       "      <td>3.1</td>\n",
       "      <td>1.5</td>\n",
       "      <td>0.2</td>\n",
       "      <td>Iris-setosa</td>\n",
       "    </tr>\n",
       "    <tr>\n",
       "      <th>4</th>\n",
       "      <td>5.0</td>\n",
       "      <td>3.6</td>\n",
       "      <td>1.4</td>\n",
       "      <td>0.2</td>\n",
       "      <td>Iris-setosa</td>\n",
       "    </tr>\n",
       "    <tr>\n",
       "      <th>...</th>\n",
       "      <td>...</td>\n",
       "      <td>...</td>\n",
       "      <td>...</td>\n",
       "      <td>...</td>\n",
       "      <td>...</td>\n",
       "    </tr>\n",
       "    <tr>\n",
       "      <th>145</th>\n",
       "      <td>6.7</td>\n",
       "      <td>3.0</td>\n",
       "      <td>5.2</td>\n",
       "      <td>2.3</td>\n",
       "      <td>Iris-virginica</td>\n",
       "    </tr>\n",
       "    <tr>\n",
       "      <th>146</th>\n",
       "      <td>6.3</td>\n",
       "      <td>2.5</td>\n",
       "      <td>5.0</td>\n",
       "      <td>1.9</td>\n",
       "      <td>Iris-virginica</td>\n",
       "    </tr>\n",
       "    <tr>\n",
       "      <th>147</th>\n",
       "      <td>6.5</td>\n",
       "      <td>3.0</td>\n",
       "      <td>5.2</td>\n",
       "      <td>2.0</td>\n",
       "      <td>Iris-virginica</td>\n",
       "    </tr>\n",
       "    <tr>\n",
       "      <th>148</th>\n",
       "      <td>6.2</td>\n",
       "      <td>3.4</td>\n",
       "      <td>5.4</td>\n",
       "      <td>2.3</td>\n",
       "      <td>Iris-virginica</td>\n",
       "    </tr>\n",
       "    <tr>\n",
       "      <th>149</th>\n",
       "      <td>5.9</td>\n",
       "      <td>3.0</td>\n",
       "      <td>5.1</td>\n",
       "      <td>1.8</td>\n",
       "      <td>Iris-virginica</td>\n",
       "    </tr>\n",
       "  </tbody>\n",
       "</table>\n",
       "<p>150 rows × 5 columns</p>\n",
       "</div>"
      ],
      "text/plain": [
       "     sepal length in cm  sepal width in cm  petal length in cm  \\\n",
       "0                   5.1                3.5                 1.4   \n",
       "1                   4.9                3.0                 1.4   \n",
       "2                   4.7                3.2                 1.3   \n",
       "3                   4.6                3.1                 1.5   \n",
       "4                   5.0                3.6                 1.4   \n",
       "..                  ...                ...                 ...   \n",
       "145                 6.7                3.0                 5.2   \n",
       "146                 6.3                2.5                 5.0   \n",
       "147                 6.5                3.0                 5.2   \n",
       "148                 6.2                3.4                 5.4   \n",
       "149                 5.9                3.0                 5.1   \n",
       "\n",
       "     petal width in cm           class  \n",
       "0                  0.2     Iris-setosa  \n",
       "1                  0.2     Iris-setosa  \n",
       "2                  0.2     Iris-setosa  \n",
       "3                  0.2     Iris-setosa  \n",
       "4                  0.2     Iris-setosa  \n",
       "..                 ...             ...  \n",
       "145                2.3  Iris-virginica  \n",
       "146                1.9  Iris-virginica  \n",
       "147                2.0  Iris-virginica  \n",
       "148                2.3  Iris-virginica  \n",
       "149                1.8  Iris-virginica  \n",
       "\n",
       "[150 rows x 5 columns]"
      ]
     },
     "execution_count": 16,
     "metadata": {},
     "output_type": "execute_result"
    }
   ],
   "source": [
    "df"
   ]
  },
  {
   "cell_type": "code",
   "execution_count": 15,
   "id": "148124fc",
   "metadata": {},
   "outputs": [
    {
     "ename": "NameError",
     "evalue": "name 'setosa_petal_length' is not defined",
     "output_type": "error",
     "traceback": [
      "\u001b[1;31m---------------------------------------------------------------------------\u001b[0m",
      "\u001b[1;31mNameError\u001b[0m                                 Traceback (most recent call last)",
      "\u001b[1;32m~\\AppData\\Local\\Temp\\ipykernel_6308\\2786822651.py\u001b[0m in \u001b[0;36m<module>\u001b[1;34m\u001b[0m\n\u001b[1;32m----> 1\u001b[1;33m \u001b[0mbox_plot_data\u001b[0m\u001b[1;33m=\u001b[0m\u001b[1;33m[\u001b[0m\u001b[0msetosa_petal_length\u001b[0m\u001b[1;33m,\u001b[0m\u001b[0mversicolor_petal_length\u001b[0m\u001b[1;33m,\u001b[0m\u001b[0mvirginica_petal_length\u001b[0m\u001b[1;33m]\u001b[0m\u001b[1;33m\u001b[0m\u001b[1;33m\u001b[0m\u001b[0m\n\u001b[0m\u001b[0;32m      2\u001b[0m \u001b[1;31m#plt.boxplot(box_plot_data)\u001b[0m\u001b[1;33m\u001b[0m\u001b[1;33m\u001b[0m\u001b[0m\n\u001b[0;32m      3\u001b[0m \u001b[1;33m\u001b[0m\u001b[0m\n\u001b[0;32m      4\u001b[0m box=plt.boxplot(box_plot_data,vert=0,patch_artist=True,labels=['setosa petal length','versicolor petal length','virginica petal length'],\n\u001b[0;32m      5\u001b[0m             )\n",
      "\u001b[1;31mNameError\u001b[0m: name 'setosa_petal_length' is not defined"
     ]
    }
   ],
   "source": [
    "box_plot_data=[setosa_petal_length,versicolor_petal_length,virginica_petal_length]\n",
    "#plt.boxplot(box_plot_data)\n",
    "\n",
    "box=plt.boxplot(box_plot_data,vert=0,patch_artist=True,labels=['setosa petal length','versicolor petal length','virginica petal length'],\n",
    "            )\n",
    " \n",
    "colors = ['cyan', 'lightblue', 'lightgreen', 'tan']\n",
    "for patch, color in zip(box['boxes'], colors):\n",
    "    patch.set_facecolor(color)\n",
    "plt.show()"
   ]
  },
  {
   "cell_type": "code",
   "execution_count": null,
   "id": "0f1adad3",
   "metadata": {},
   "outputs": [],
   "source": []
  },
  {
   "cell_type": "code",
   "execution_count": null,
   "id": "f5292b65",
   "metadata": {},
   "outputs": [],
   "source": []
  }
 ],
 "metadata": {
  "kernelspec": {
   "display_name": "Python 3 (ipykernel)",
   "language": "python",
   "name": "python3"
  },
  "language_info": {
   "codemirror_mode": {
    "name": "ipython",
    "version": 3
   },
   "file_extension": ".py",
   "mimetype": "text/x-python",
   "name": "python",
   "nbconvert_exporter": "python",
   "pygments_lexer": "ipython3",
   "version": "3.9.13"
  }
 },
 "nbformat": 4,
 "nbformat_minor": 5
}
