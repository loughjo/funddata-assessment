{
 "cells": [
  {
   "cell_type": "markdown",
   "id": "004c7dc0",
   "metadata": {},
   "source": [
    "# Cleansing\n",
    "***"
   ]
  },
  {
   "cell_type": "markdown",
   "id": "49ccc7e7",
   "metadata": {},
   "source": [
    "## Exercise 1"
   ]
  },
  {
   "cell_type": "markdown",
   "id": "9d8869a5",
   "metadata": {},
   "source": [
    "Remember to do these exercises in your own notebook in your assessment repository.\n",
    "\n",
    "Write a Python function to remove all non-alphanumeric characters from a string.\n",
    "***"
   ]
  },
  {
   "cell_type": "markdown",
   "id": "d6a1099f",
   "metadata": {},
   "source": [
    "Non-alphanumeric characters are characters that are not numbers (0-9) or alphabetic characters. \n",
    "So Alphanumeric characters are A to Z, a to z and 0 to 9. I assume spaces or underscores are not considered."
   ]
  },
  {
   "cell_type": "code",
   "execution_count": 1,
   "id": "7adc4efd",
   "metadata": {},
   "outputs": [],
   "source": [
    "import re"
   ]
  },
  {
   "cell_type": "code",
   "execution_count": 187,
   "id": "9b1bba0c",
   "metadata": {},
   "outputs": [],
   "source": [
    "aString = \"What is the weather like  ?\""
   ]
  },
  {
   "cell_type": "code",
   "execution_count": 11,
   "id": "7a8037ad",
   "metadata": {},
   "outputs": [
    {
     "name": "stdout",
     "output_type": "stream",
     "text": [
      "purple alice@yo-yo-dyne.com, blah monkey bob@yo-yo-dyne.com blah dishwasher\n"
     ]
    }
   ],
   "source": [
    "str = 'purple alice@google.com, blah monkey bob@abc.com blah dishwasher'\n",
    "## re.sub(pat, replacement, str) -- returns new string with all replacements,\n",
    "## \\1 is group(1), \\2 group(2) in the replacement\n",
    "print(re.sub(r'([\\w\\.-]+)@([\\w\\.-]+)', r'\\1@yo-yo-dyne.com', str))\n",
    "## purple alice@yo-yo-dyne.com, blah monkey bob@yo-yo-dyne.com blah dishwasher"
   ]
  },
  {
   "cell_type": "code",
   "execution_count": null,
   "id": "de6d65b4",
   "metadata": {},
   "outputs": [],
   "source": [
    "str = 'purple alice@google.com, blah monkey bob@abc.com blah dishwasher'\n",
    "## re.sub(pat, replacement, str) -- returns new string with all replacements,\n",
    "## \\1 is group(1), \\2 group(2) in the replacement\n",
    "print(re.sub(r'([\\w\\.-]+)@([\\w\\.-]+)', r'\\1@yo-yo-dyne.com', str))\n",
    "## purple alice@yo-yo-dyne.com, blah monkey bob@yo-yo-dyne.com blah dishwasher"
   ]
  },
  {
   "cell_type": "code",
   "execution_count": 13,
   "id": "4599c548",
   "metadata": {},
   "outputs": [
    {
     "name": "stdout",
     "output_type": "stream",
     "text": [
      "Thebigpigflewoverthehousepat12g712\n"
     ]
    }
   ],
   "source": [
    "my_str = 'The big pig! flew over the house? @&#>! pat% 12 g712'\n",
    "\n",
    "new_str = re.sub(r'[\\W_]', '', my_str)\n",
    "print(new_str)"
   ]
  },
  {
   "cell_type": "code",
   "execution_count": 14,
   "id": "21cf646f",
   "metadata": {},
   "outputs": [
    {
     "data": {
      "text/plain": [
       "'The big pig flew over the house  pat 12 g712'"
      ]
     },
     "execution_count": 14,
     "metadata": {},
     "output_type": "execute_result"
    }
   ],
   "source": [
    "s = 'The big pig! flew over the house? @&#>! pat% 12 g712'\n",
    "\n",
    "re.sub(r'[^A-Za-z0-9 ]+', '', s)"
   ]
  },
  {
   "cell_type": "code",
   "execution_count": 15,
   "id": "f73d0f4d",
   "metadata": {},
   "outputs": [
    {
     "data": {
      "text/plain": [
       "'The big pig flew over the house  pat 12 g712'"
      ]
     },
     "execution_count": 15,
     "metadata": {},
     "output_type": "execute_result"
    }
   ],
   "source": [
    "s = 'The big pig! flew over the house? @&#>! pat% 12 g712'\n",
    "re.sub(r'[^A-Za-z0-9 ]+', '', s)"
   ]
  },
  {
   "cell_type": "code",
   "execution_count": 16,
   "id": "3d4fac9f",
   "metadata": {},
   "outputs": [
    {
     "data": {
      "text/plain": [
       "'The big pig flew over the house  pat 12 g712'"
      ]
     },
     "execution_count": 16,
     "metadata": {},
     "output_type": "execute_result"
    }
   ],
   "source": [
    "s = 'The big pig! flew over the house? @&#>! pat% 12 g712'\n",
    "\n",
    "re.sub(r'[^\\w\\s]', '', my_str)"
   ]
  },
  {
   "cell_type": "code",
   "execution_count": 19,
   "id": "166d45a2",
   "metadata": {},
   "outputs": [
    {
     "data": {
      "text/plain": [
       "'The big pig flew over the house  pat 12 g712'"
      ]
     },
     "execution_count": 19,
     "metadata": {},
     "output_type": "execute_result"
    }
   ],
   "source": [
    "my_str = 'The big pig! flew over the house? @&#>! pat% 12 g712'\n",
    "new_str = ''.join(char for char in my_str if char.isalnum() or char == ' ')\n",
    "new_str"
   ]
  },
  {
   "cell_type": "code",
   "execution_count": 27,
   "id": "471c71b1",
   "metadata": {},
   "outputs": [
    {
     "data": {
      "text/plain": [
       "'The big pig flew over the house pat g'"
      ]
     },
     "execution_count": 27,
     "metadata": {},
     "output_type": "execute_result"
    }
   ],
   "source": [
    "my_str = 'The big pig!              flew over the house? @&#>! pat% 12 g712'\n",
    "a = re.sub(r'[^\\w\\s]', '', my_str)\n",
    "b = re.sub(r'[0-9]', '', a)\n",
    "re.sub(r' {2,}' , ' ', b)"
   ]
  },
  {
   "cell_type": "code",
   "execution_count": null,
   "id": "ab96366b",
   "metadata": {},
   "outputs": [],
   "source": [
    "def my_function():\n",
    "  print(\"Hello from a function\")\n",
    "\n",
    "my_function()"
   ]
  },
  {
   "cell_type": "code",
   "execution_count": 71,
   "id": "90661793",
   "metadata": {},
   "outputs": [],
   "source": [
    "string = 'The big pig!              flew over the house? @&#>! pat% 12 g712 tftftftftf football(*702j>). The BIG Brown fox &* (-+ = {}[] Christmas)'"
   ]
  },
  {
   "cell_type": "code",
   "execution_count": 95,
   "id": "4db3abb4",
   "metadata": {},
   "outputs": [],
   "source": [
    "def removeAlphaNumeric1(string):\n",
    "    # \n",
    "    strip1 = re.sub(r'([^\\w\\s])|([0-9])', r' {2,}' '', string)\n",
    "    #a = re.sub(r'[^\\w\\s]', '', string)\n",
    "    #b = re.sub(r'[0-9]', '', a)\n",
    "    strip2 = re.sub(r' {2,}' , ' ', strip1)\n",
    "    return strip2"
   ]
  },
  {
   "cell_type": "code",
   "execution_count": 96,
   "id": "0ce755ce",
   "metadata": {},
   "outputs": [
    {
     "data": {
      "text/plain": [
       "'The big pig {2,} flew over the house {2,} {2,} {2,} {2,} {2,} {2,} pat {2,} {2,} {2,} g {2,} {2,} {2,} tftftftftf football {2,} {2,} {2,} {2,} {2,}j {2,} {2,} {2,} The BIG Brown fox {2,} {2,} {2,} {2,} {2,} {2,} {2,} {2,} {2,} {2,} Christmas {2,}'"
      ]
     },
     "execution_count": 96,
     "metadata": {},
     "output_type": "execute_result"
    }
   ],
   "source": [
    "removeAlphaNumeric1(string)"
   ]
  },
  {
   "cell_type": "code",
   "execution_count": 82,
   "id": "8e811475",
   "metadata": {},
   "outputs": [],
   "source": [
    "string2 = \"Bob the builder |\\\\ can ?785 he 09^ fix -£ it\""
   ]
  },
  {
   "cell_type": "code",
   "execution_count": 83,
   "id": "b7d1cee3",
   "metadata": {},
   "outputs": [
    {
     "data": {
      "text/plain": [
       "'Bob the builder can he fix it'"
      ]
     },
     "execution_count": 83,
     "metadata": {},
     "output_type": "execute_result"
    }
   ],
   "source": [
    "removeAlphaNumeric(string2)"
   ]
  },
  {
   "cell_type": "code",
   "execution_count": 91,
   "id": "4c721e90",
   "metadata": {},
   "outputs": [],
   "source": [
    "string = 'The big pig!              flew over the house? @&#>! pat% 12 g712 tftftftftf football(*702j>). The BIG Brown fox &* (-+ = {}[] Christmas)'"
   ]
  },
  {
   "cell_type": "code",
   "execution_count": 85,
   "id": "24906e08",
   "metadata": {},
   "outputs": [
    {
     "data": {
      "text/plain": [
       "'The big pig flew over the house pat g tftftftftf footballj The BIG Brown fox Christmas'"
      ]
     },
     "execution_count": 85,
     "metadata": {},
     "output_type": "execute_result"
    }
   ],
   "source": [
    "removeAlphaNumeric(string)"
   ]
  },
  {
   "cell_type": "code",
   "execution_count": 88,
   "id": "09296890",
   "metadata": {},
   "outputs": [
    {
     "data": {
      "text/plain": [
       "'Thebigpigflewoverthehousepat12g712tftftftftffootball702jTheBIGBrownfoxChristmas'"
      ]
     },
     "execution_count": 88,
     "metadata": {},
     "output_type": "execute_result"
    }
   ],
   "source": [
    "re.sub(r'\\W+', '', string)"
   ]
  },
  {
   "cell_type": "code",
   "execution_count": 101,
   "id": "09defaf4",
   "metadata": {},
   "outputs": [],
   "source": [
    "def removeNonAlphaNumeric(string):\n",
    "    # \n",
    "    strip = re.sub(r'[^\\w\\s]', '', string)\n",
    "    #a = re.sub(r'[^\\w\\s]', '', string)\n",
    "    #b = re.sub(r'[0-9]', '', a)\n",
    "    #strip2 = re.sub(r' {2,}' , ' ', strip1)\n",
    "    return strip"
   ]
  },
  {
   "cell_type": "code",
   "execution_count": 102,
   "id": "db6e9bcd",
   "metadata": {},
   "outputs": [],
   "source": [
    "string = 'The big pig!              flew over the house? @&#>! pat% 12 g712 tftftftftf football(*702j>). The BIG Brown fox &* (-+ = {}[] Christmas)'"
   ]
  },
  {
   "cell_type": "code",
   "execution_count": 103,
   "id": "adf4d46d",
   "metadata": {},
   "outputs": [
    {
     "data": {
      "text/plain": [
       "'The big pig              flew over the house  pat 12 g712 tftftftftf football702j The BIG Brown fox     Christmas'"
      ]
     },
     "execution_count": 103,
     "metadata": {},
     "output_type": "execute_result"
    }
   ],
   "source": []
  },
  {
   "cell_type": "markdown",
   "id": "f4b3c3e7",
   "metadata": {},
   "source": [
    "## Exercise 2\n",
    "***"
   ]
  },
  {
   "cell_type": "markdown",
   "id": "23dcb61c",
   "metadata": {},
   "source": [
    "Remember to do these exercises in your own notebook in your assessment repository.\n",
    "\n",
    "Adapt the above code to capitalise the first letter of the iris species, using regular expressions.\n",
    "***"
   ]
  },
  {
   "cell_type": "code",
   "execution_count": 188,
   "id": "912335ee",
   "metadata": {},
   "outputs": [
    {
     "data": {
      "text/plain": [
       "['5.1,3.5,1.4,0.2,Iris-setosa',\n",
       " '4.9,3.0,1.4,0.2,Iris-setosa',\n",
       " '4.7,3.2,1.3,0.2,Iris-setosa',\n",
       " '4.6,3.1,1.5,0.2,Iris-setosa',\n",
       " '5.0,3.6,1.4,0.2,Iris-setosa',\n",
       " '5.4,3.9,1.7,0.4,Iris-setosa',\n",
       " '4.6,3.4,1.4,0.3,Iris-setosa',\n",
       " '5.0,3.4,1.5,0.2,Iris-setosa',\n",
       " '4.4,2.9,1.4,0.2,Iris-setosa',\n",
       " '4.9,3.1,1.5,0.1,Iris-setosa',\n",
       " '5.4,3.7,1.5,0.2,Iris-setosa',\n",
       " '4.8,3.4,1.6,0.2,Iris-setosa',\n",
       " '4.8,3.0,1.4,0.1,Iris-setosa',\n",
       " '4.3,3.0,1.1,0.1,Iris-setosa',\n",
       " '5.8,4.0,1.2,0.2,Iris-setosa',\n",
       " '5.7,4.4,1.5,0.4,Iris-setosa',\n",
       " '5.4,3.9,1.3,0.4,Iris-setosa',\n",
       " '5.1,3.5,1.4,0.3,Iris-setosa',\n",
       " '5.7,3.8,1.7,0.3,Iris-setosa',\n",
       " '5.1,3.8,1.5,0.3,Iris-setosa',\n",
       " '5.4,3.4,1.7,0.2,Iris-setosa',\n",
       " '5.1,3.7,1.5,0.4,Iris-setosa',\n",
       " '4.6,3.6,1.0,0.2,Iris-setosa',\n",
       " '5.1,3.3,1.7,0.5,Iris-setosa',\n",
       " '4.8,3.4,1.9,0.2,Iris-setosa',\n",
       " '5.0,3.0,1.6,0.2,Iris-setosa',\n",
       " '5.0,3.4,1.6,0.4,Iris-setosa',\n",
       " '5.2,3.5,1.5,0.2,Iris-setosa',\n",
       " '5.2,3.4,1.4,0.2,Iris-setosa',\n",
       " '4.7,3.2,1.6,0.2,Iris-setosa',\n",
       " '4.8,3.1,1.6,0.2,Iris-setosa',\n",
       " '5.4,3.4,1.5,0.4,Iris-setosa',\n",
       " '5.2,4.1,1.5,0.1,Iris-setosa',\n",
       " '5.5,4.2,1.4,0.2,Iris-setosa',\n",
       " '4.9,3.1,1.5,0.1,Iris-setosa',\n",
       " '5.0,3.2,1.2,0.2,Iris-setosa',\n",
       " '5.5,3.5,1.3,0.2,Iris-setosa',\n",
       " '4.9,3.1,1.5,0.1,Iris-setosa',\n",
       " '4.4,3.0,1.3,0.2,Iris-setosa',\n",
       " '5.1,3.4,1.5,0.2,Iris-setosa',\n",
       " '5.0,3.5,1.3,0.3,Iris-setosa',\n",
       " '4.5,2.3,1.3,0.3,Iris-setosa',\n",
       " '4.4,3.2,1.3,0.2,Iris-setosa',\n",
       " '5.0,3.5,1.6,0.6,Iris-setosa',\n",
       " '5.1,3.8,1.9,0.4,Iris-setosa',\n",
       " '4.8,3.0,1.4,0.3,Iris-setosa',\n",
       " '5.1,3.8,1.6,0.2,Iris-setosa',\n",
       " '4.6,3.2,1.4,0.2,Iris-setosa',\n",
       " '5.3,3.7,1.5,0.2,Iris-setosa',\n",
       " '5.0,3.3,1.4,0.2,Iris-setosa',\n",
       " '7.0,3.2,4.7,1.4,Iris-versicolor',\n",
       " '6.4,3.2,4.5,1.5,Iris-versicolor',\n",
       " '6.9,3.1,4.9,1.5,Iris-versicolor',\n",
       " '5.5,2.3,4.0,1.3,Iris-versicolor',\n",
       " '6.5,2.8,4.6,1.5,Iris-versicolor',\n",
       " '5.7,2.8,4.5,1.3,Iris-versicolor',\n",
       " '6.3,3.3,4.7,1.6,Iris-versicolor',\n",
       " '4.9,2.4,3.3,1.0,Iris-versicolor',\n",
       " '6.6,2.9,4.6,1.3,Iris-versicolor',\n",
       " '5.2,2.7,3.9,1.4,Iris-versicolor',\n",
       " '5.0,2.0,3.5,1.0,Iris-versicolor',\n",
       " '5.9,3.0,4.2,1.5,Iris-versicolor',\n",
       " '6.0,2.2,4.0,1.0,Iris-versicolor',\n",
       " '6.1,2.9,4.7,1.4,Iris-versicolor',\n",
       " '5.6,2.9,3.6,1.3,Iris-versicolor',\n",
       " '6.7,3.1,4.4,1.4,Iris-versicolor',\n",
       " '5.6,3.0,4.5,1.5,Iris-versicolor',\n",
       " '5.8,2.7,4.1,1.0,Iris-versicolor',\n",
       " '6.2,2.2,4.5,1.5,Iris-versicolor',\n",
       " '5.6,2.5,3.9,1.1,Iris-versicolor',\n",
       " '5.9,3.2,4.8,1.8,Iris-versicolor',\n",
       " '6.1,2.8,4.0,1.3,Iris-versicolor',\n",
       " '6.3,2.5,4.9,1.5,Iris-versicolor',\n",
       " '6.1,2.8,4.7,1.2,Iris-versicolor',\n",
       " '6.4,2.9,4.3,1.3,Iris-versicolor',\n",
       " '6.6,3.0,4.4,1.4,Iris-versicolor',\n",
       " '6.8,2.8,4.8,1.4,Iris-versicolor',\n",
       " '6.7,3.0,5.0,1.7,Iris-versicolor',\n",
       " '6.0,2.9,4.5,1.5,Iris-versicolor',\n",
       " '5.7,2.6,3.5,1.0,Iris-versicolor',\n",
       " '5.5,2.4,3.8,1.1,Iris-versicolor',\n",
       " '5.5,2.4,3.7,1.0,Iris-versicolor',\n",
       " '5.8,2.7,3.9,1.2,Iris-versicolor',\n",
       " '6.0,2.7,5.1,1.6,Iris-versicolor',\n",
       " '5.4,3.0,4.5,1.5,Iris-versicolor',\n",
       " '6.0,3.4,4.5,1.6,Iris-versicolor',\n",
       " '6.7,3.1,4.7,1.5,Iris-versicolor',\n",
       " '6.3,2.3,4.4,1.3,Iris-versicolor',\n",
       " '5.6,3.0,4.1,1.3,Iris-versicolor',\n",
       " '5.5,2.5,4.0,1.3,Iris-versicolor',\n",
       " '5.5,2.6,4.4,1.2,Iris-versicolor',\n",
       " '6.1,3.0,4.6,1.4,Iris-versicolor',\n",
       " '5.8,2.6,4.0,1.2,Iris-versicolor',\n",
       " '5.0,2.3,3.3,1.0,Iris-versicolor',\n",
       " '5.6,2.7,4.2,1.3,Iris-versicolor',\n",
       " '5.7,3.0,4.2,1.2,Iris-versicolor',\n",
       " '5.7,2.9,4.2,1.3,Iris-versicolor',\n",
       " '6.2,2.9,4.3,1.3,Iris-versicolor',\n",
       " '5.1,2.5,3.0,1.1,Iris-versicolor',\n",
       " '5.7,2.8,4.1,1.3,Iris-versicolor',\n",
       " '6.3,3.3,6.0,2.5,Iris-virginica',\n",
       " '5.8,2.7,5.1,1.9,Iris-virginica',\n",
       " '7.1,3.0,5.9,2.1,Iris-virginica',\n",
       " '6.3,2.9,5.6,1.8,Iris-virginica',\n",
       " '6.5,3.0,5.8,2.2,Iris-virginica',\n",
       " '7.6,3.0,6.6,2.1,Iris-virginica',\n",
       " '4.9,2.5,4.5,1.7,Iris-virginica',\n",
       " '7.3,2.9,6.3,1.8,Iris-virginica',\n",
       " '6.7,2.5,5.8,1.8,Iris-virginica',\n",
       " '7.2,3.6,6.1,2.5,Iris-virginica',\n",
       " '6.5,3.2,5.1,2.0,Iris-virginica',\n",
       " '6.4,2.7,5.3,1.9,Iris-virginica',\n",
       " '6.8,3.0,5.5,2.1,Iris-virginica',\n",
       " '5.7,2.5,5.0,2.0,Iris-virginica',\n",
       " '5.8,2.8,5.1,2.4,Iris-virginica',\n",
       " '6.4,3.2,5.3,2.3,Iris-virginica',\n",
       " '6.5,3.0,5.5,1.8,Iris-virginica',\n",
       " '7.7,3.8,6.7,2.2,Iris-virginica',\n",
       " '7.7,2.6,6.9,2.3,Iris-virginica',\n",
       " '6.0,2.2,5.0,1.5,Iris-virginica',\n",
       " '6.9,3.2,5.7,2.3,Iris-virginica',\n",
       " '5.6,2.8,4.9,2.0,Iris-virginica',\n",
       " '7.7,2.8,6.7,2.0,Iris-virginica',\n",
       " '6.3,2.7,4.9,1.8,Iris-virginica',\n",
       " '6.7,3.3,5.7,2.1,Iris-virginica',\n",
       " '7.2,3.2,6.0,1.8,Iris-virginica',\n",
       " '6.2,2.8,4.8,1.8,Iris-virginica',\n",
       " '6.1,3.0,4.9,1.8,Iris-virginica',\n",
       " '6.4,2.8,5.6,2.1,Iris-virginica',\n",
       " '7.2,3.0,5.8,1.6,Iris-virginica',\n",
       " '7.4,2.8,6.1,1.9,Iris-virginica',\n",
       " '7.9,3.8,6.4,2.0,Iris-virginica',\n",
       " '6.4,2.8,5.6,2.2,Iris-virginica',\n",
       " '6.3,2.8,5.1,1.5,Iris-virginica',\n",
       " '6.1,2.6,5.6,1.4,Iris-virginica',\n",
       " '7.7,3.0,6.1,2.3,Iris-virginica',\n",
       " '6.3,3.4,5.6,2.4,Iris-virginica',\n",
       " '6.4,3.1,5.5,1.8,Iris-virginica',\n",
       " '6.0,3.0,4.8,1.8,Iris-virginica',\n",
       " '6.9,3.1,5.4,2.1,Iris-virginica',\n",
       " '6.7,3.1,5.6,2.4,Iris-virginica',\n",
       " '6.9,3.1,5.1,2.3,Iris-virginica',\n",
       " '5.8,2.7,5.1,1.9,Iris-virginica',\n",
       " '6.8,3.2,5.9,2.3,Iris-virginica',\n",
       " '6.7,3.3,5.7,2.5,Iris-virginica',\n",
       " '6.7,3.0,5.2,2.3,Iris-virginica',\n",
       " '6.3,2.5,5.0,1.9,Iris-virginica',\n",
       " '6.5,3.0,5.2,2.0,Iris-virginica',\n",
       " '6.2,3.4,5.4,2.3,Iris-virginica',\n",
       " '5.9,3.0,5.1,1.8,Iris-virginica',\n",
       " '']"
      ]
     },
     "execution_count": 188,
     "metadata": {},
     "output_type": "execute_result"
    }
   ],
   "source": [
    "# https://stackoverflow.com/a/1393367\n",
    "\n",
    "import urllib.request\n",
    "\n",
    "url = r'https://archive.ics.uci.edu/ml/machine-learning-databases/iris/iris.data'\n",
    "\n",
    "iris = [line.decode('utf-8').strip() for line in urllib.request.urlopen(url)]\n",
    "\n",
    "iris"
   ]
  },
  {
   "cell_type": "code",
   "execution_count": 216,
   "id": "fc5dfcf0",
   "metadata": {},
   "outputs": [
    {
     "name": "stdout",
     "output_type": "stream",
     "text": [
      "['5.1,3.5,1.4,0.2,Iris-Setosa', '4.9,3.0,1.4,0.2,Iris-Setosa', '4.7,3.2,1.3,0.2,Iris-Setosa', '4.6,3.1,1.5,0.2,Iris-Setosa', '5.0,3.6,1.4,0.2,Iris-Setosa', '5.4,3.9,1.7,0.4,Iris-Setosa', '4.6,3.4,1.4,0.3,Iris-Setosa', '5.0,3.4,1.5,0.2,Iris-Setosa', '4.4,2.9,1.4,0.2,Iris-Setosa', '4.9,3.1,1.5,0.1,Iris-Setosa', '5.4,3.7,1.5,0.2,Iris-Setosa', '4.8,3.4,1.6,0.2,Iris-Setosa', '4.8,3.0,1.4,0.1,Iris-Setosa', '4.3,3.0,1.1,0.1,Iris-Setosa', '5.8,4.0,1.2,0.2,Iris-Setosa', '5.7,4.4,1.5,0.4,Iris-Setosa', '5.4,3.9,1.3,0.4,Iris-Setosa', '5.1,3.5,1.4,0.3,Iris-Setosa', '5.7,3.8,1.7,0.3,Iris-Setosa', '5.1,3.8,1.5,0.3,Iris-Setosa', '5.4,3.4,1.7,0.2,Iris-Setosa', '5.1,3.7,1.5,0.4,Iris-Setosa', '4.6,3.6,1.0,0.2,Iris-Setosa', '5.1,3.3,1.7,0.5,Iris-Setosa', '4.8,3.4,1.9,0.2,Iris-Setosa', '5.0,3.0,1.6,0.2,Iris-Setosa', '5.0,3.4,1.6,0.4,Iris-Setosa', '5.2,3.5,1.5,0.2,Iris-Setosa', '5.2,3.4,1.4,0.2,Iris-Setosa', '4.7,3.2,1.6,0.2,Iris-Setosa', '4.8,3.1,1.6,0.2,Iris-Setosa', '5.4,3.4,1.5,0.4,Iris-Setosa', '5.2,4.1,1.5,0.1,Iris-Setosa', '5.5,4.2,1.4,0.2,Iris-Setosa', '4.9,3.1,1.5,0.1,Iris-Setosa', '5.0,3.2,1.2,0.2,Iris-Setosa', '5.5,3.5,1.3,0.2,Iris-Setosa', '4.9,3.1,1.5,0.1,Iris-Setosa', '4.4,3.0,1.3,0.2,Iris-Setosa', '5.1,3.4,1.5,0.2,Iris-Setosa', '5.0,3.5,1.3,0.3,Iris-Setosa', '4.5,2.3,1.3,0.3,Iris-Setosa', '4.4,3.2,1.3,0.2,Iris-Setosa', '5.0,3.5,1.6,0.6,Iris-Setosa', '5.1,3.8,1.9,0.4,Iris-Setosa', '4.8,3.0,1.4,0.3,Iris-Setosa', '5.1,3.8,1.6,0.2,Iris-Setosa', '4.6,3.2,1.4,0.2,Iris-Setosa', '5.3,3.7,1.5,0.2,Iris-Setosa', '5.0,3.3,1.4,0.2,Iris-Setosa', '7.0,3.2,4.7,1.4,Iris-Versicolor', '6.4,3.2,4.5,1.5,Iris-Versicolor', '6.9,3.1,4.9,1.5,Iris-Versicolor', '5.5,2.3,4.0,1.3,Iris-Versicolor', '6.5,2.8,4.6,1.5,Iris-Versicolor', '5.7,2.8,4.5,1.3,Iris-Versicolor', '6.3,3.3,4.7,1.6,Iris-Versicolor', '4.9,2.4,3.3,1.0,Iris-Versicolor', '6.6,2.9,4.6,1.3,Iris-Versicolor', '5.2,2.7,3.9,1.4,Iris-Versicolor', '5.0,2.0,3.5,1.0,Iris-Versicolor', '5.9,3.0,4.2,1.5,Iris-Versicolor', '6.0,2.2,4.0,1.0,Iris-Versicolor', '6.1,2.9,4.7,1.4,Iris-Versicolor', '5.6,2.9,3.6,1.3,Iris-Versicolor', '6.7,3.1,4.4,1.4,Iris-Versicolor', '5.6,3.0,4.5,1.5,Iris-Versicolor', '5.8,2.7,4.1,1.0,Iris-Versicolor', '6.2,2.2,4.5,1.5,Iris-Versicolor', '5.6,2.5,3.9,1.1,Iris-Versicolor', '5.9,3.2,4.8,1.8,Iris-Versicolor', '6.1,2.8,4.0,1.3,Iris-Versicolor', '6.3,2.5,4.9,1.5,Iris-Versicolor', '6.1,2.8,4.7,1.2,Iris-Versicolor', '6.4,2.9,4.3,1.3,Iris-Versicolor', '6.6,3.0,4.4,1.4,Iris-Versicolor', '6.8,2.8,4.8,1.4,Iris-Versicolor', '6.7,3.0,5.0,1.7,Iris-Versicolor', '6.0,2.9,4.5,1.5,Iris-Versicolor', '5.7,2.6,3.5,1.0,Iris-Versicolor', '5.5,2.4,3.8,1.1,Iris-Versicolor', '5.5,2.4,3.7,1.0,Iris-Versicolor', '5.8,2.7,3.9,1.2,Iris-Versicolor', '6.0,2.7,5.1,1.6,Iris-Versicolor', '5.4,3.0,4.5,1.5,Iris-Versicolor', '6.0,3.4,4.5,1.6,Iris-Versicolor', '6.7,3.1,4.7,1.5,Iris-Versicolor', '6.3,2.3,4.4,1.3,Iris-Versicolor', '5.6,3.0,4.1,1.3,Iris-Versicolor', '5.5,2.5,4.0,1.3,Iris-Versicolor', '5.5,2.6,4.4,1.2,Iris-Versicolor', '6.1,3.0,4.6,1.4,Iris-Versicolor', '5.8,2.6,4.0,1.2,Iris-Versicolor', '5.0,2.3,3.3,1.0,Iris-Versicolor', '5.6,2.7,4.2,1.3,Iris-Versicolor', '5.7,3.0,4.2,1.2,Iris-Versicolor', '5.7,2.9,4.2,1.3,Iris-Versicolor', '6.2,2.9,4.3,1.3,Iris-Versicolor', '5.1,2.5,3.0,1.1,Iris-Versicolor', '5.7,2.8,4.1,1.3,Iris-Versicolor', '6.3,3.3,6.0,2.5,Iris-Virginica', '5.8,2.7,5.1,1.9,Iris-Virginica', '7.1,3.0,5.9,2.1,Iris-Virginica', '6.3,2.9,5.6,1.8,Iris-Virginica', '6.5,3.0,5.8,2.2,Iris-Virginica', '7.6,3.0,6.6,2.1,Iris-Virginica', '4.9,2.5,4.5,1.7,Iris-Virginica', '7.3,2.9,6.3,1.8,Iris-Virginica', '6.7,2.5,5.8,1.8,Iris-Virginica', '7.2,3.6,6.1,2.5,Iris-Virginica', '6.5,3.2,5.1,2.0,Iris-Virginica', '6.4,2.7,5.3,1.9,Iris-Virginica', '6.8,3.0,5.5,2.1,Iris-Virginica', '5.7,2.5,5.0,2.0,Iris-Virginica', '5.8,2.8,5.1,2.4,Iris-Virginica', '6.4,3.2,5.3,2.3,Iris-Virginica', '6.5,3.0,5.5,1.8,Iris-Virginica', '7.7,3.8,6.7,2.2,Iris-Virginica', '7.7,2.6,6.9,2.3,Iris-Virginica', '6.0,2.2,5.0,1.5,Iris-Virginica', '6.9,3.2,5.7,2.3,Iris-Virginica', '5.6,2.8,4.9,2.0,Iris-Virginica', '7.7,2.8,6.7,2.0,Iris-Virginica', '6.3,2.7,4.9,1.8,Iris-Virginica', '6.7,3.3,5.7,2.1,Iris-Virginica', '7.2,3.2,6.0,1.8,Iris-Virginica', '6.2,2.8,4.8,1.8,Iris-Virginica', '6.1,3.0,4.9,1.8,Iris-Virginica', '6.4,2.8,5.6,2.1,Iris-Virginica', '7.2,3.0,5.8,1.6,Iris-Virginica', '7.4,2.8,6.1,1.9,Iris-Virginica', '7.9,3.8,6.4,2.0,Iris-Virginica', '6.4,2.8,5.6,2.2,Iris-Virginica', '6.3,2.8,5.1,1.5,Iris-Virginica', '6.1,2.6,5.6,1.4,Iris-Virginica', '7.7,3.0,6.1,2.3,Iris-Virginica', '6.3,3.4,5.6,2.4,Iris-Virginica', '6.4,3.1,5.5,1.8,Iris-Virginica', '6.0,3.0,4.8,1.8,Iris-Virginica', '6.9,3.1,5.4,2.1,Iris-Virginica', '6.7,3.1,5.6,2.4,Iris-Virginica', '6.9,3.1,5.1,2.3,Iris-Virginica', '5.8,2.7,5.1,1.9,Iris-Virginica', '6.8,3.2,5.9,2.3,Iris-Virginica', '6.7,3.3,5.7,2.5,Iris-Virginica', '6.7,3.0,5.2,2.3,Iris-Virginica', '6.3,2.5,5.0,1.9,Iris-Virginica', '6.5,3.0,5.2,2.0,Iris-Virginica', '6.2,3.4,5.4,2.3,Iris-Virginica', '5.9,3.0,5.1,1.8,Iris-Virginica', '']\n"
     ]
    }
   ],
   "source": []
  },
  {
   "cell_type": "code",
   "execution_count": 60,
   "id": "dd0da54f",
   "metadata": {},
   "outputs": [
    {
     "data": {
      "text/plain": [
       "<re.Match object; span=(16, 21), match='Iris-'>"
      ]
     },
     "execution_count": 60,
     "metadata": {},
     "output_type": "execute_result"
    }
   ],
   "source": [
    "string = '4.6,3.1,1.5,0.2,Iris-setosa'\n",
    "pattern = r'Iris-'\n",
    "\n",
    "re.search(pattern, string)"
   ]
  },
  {
   "cell_type": "code",
   "execution_count": 76,
   "id": "68839c45",
   "metadata": {},
   "outputs": [
    {
     "data": {
      "text/plain": [
       "'4.6,3.1,1.5,0.2,Iris-setosa'"
      ]
     },
     "execution_count": 76,
     "metadata": {},
     "output_type": "execute_result"
    }
   ],
   "source": [
    "#string.capitalize()\n",
    "string[21].capitalize()\n",
    "string"
   ]
  },
  {
   "cell_type": "code",
   "execution_count": 77,
   "id": "bde46f01",
   "metadata": {},
   "outputs": [
    {
     "data": {
      "text/plain": [
       "'4.6,3.1,1.5,0.2,Iris-setosa'"
      ]
     },
     "execution_count": 77,
     "metadata": {},
     "output_type": "execute_result"
    }
   ],
   "source": [
    "string"
   ]
  },
  {
   "cell_type": "code",
   "execution_count": 84,
   "id": "44596166",
   "metadata": {},
   "outputs": [
    {
     "data": {
      "text/plain": [
       "'Python'"
      ]
     },
     "execution_count": 84,
     "metadata": {},
     "output_type": "execute_result"
    }
   ],
   "source": [
    "mystring = \"python\"\n",
    "mystring[0].upper() + mystring[1:]"
   ]
  },
  {
   "cell_type": "code",
   "execution_count": 93,
   "id": "8a07a1ba",
   "metadata": {},
   "outputs": [],
   "source": [
    "#mystring = \"4.6,3.1,1.5,0.2,Iris-setosa\"\n",
    "mystring = \"5.9,3.2,4.8,1.8,Iris-versicolor\""
   ]
  },
  {
   "cell_type": "code",
   "execution_count": 94,
   "id": "8b8a5622",
   "metadata": {},
   "outputs": [
    {
     "data": {
      "text/plain": [
       "'5.9,3.2,4.8,1.8,Iris-Versic'"
      ]
     },
     "execution_count": 94,
     "metadata": {},
     "output_type": "execute_result"
    }
   ],
   "source": [
    "mystring[0:21] + mystring[21].upper() + mystring[22:27]"
   ]
  },
  {
   "cell_type": "code",
   "execution_count": 98,
   "id": "c59bc283",
   "metadata": {},
   "outputs": [],
   "source": [
    "mystring = \"5.9,3.2,4.8,1.8,Iris-versicolor\""
   ]
  },
  {
   "cell_type": "code",
   "execution_count": 101,
   "id": "8156f76a",
   "metadata": {},
   "outputs": [
    {
     "data": {
      "text/plain": [
       "'5.9,3.2,4.8,1.8,Iris-versicolor'"
      ]
     },
     "execution_count": 101,
     "metadata": {},
     "output_type": "execute_result"
    }
   ],
   "source": [
    "mystring"
   ]
  },
  {
   "cell_type": "code",
   "execution_count": 113,
   "id": "94b10c28",
   "metadata": {},
   "outputs": [],
   "source": [
    "a = mystring.split('-')"
   ]
  },
  {
   "cell_type": "code",
   "execution_count": 114,
   "id": "73de0ed0",
   "metadata": {},
   "outputs": [
    {
     "data": {
      "text/plain": [
       "['5.9,3.2,4.8,1.8,Iris', 'versicolor']"
      ]
     },
     "execution_count": 114,
     "metadata": {},
     "output_type": "execute_result"
    }
   ],
   "source": [
    "a"
   ]
  },
  {
   "cell_type": "code",
   "execution_count": 115,
   "id": "60e5633f",
   "metadata": {},
   "outputs": [
    {
     "data": {
      "text/plain": [
       "'5.9,3.2,4.8,1.8,Iris'"
      ]
     },
     "execution_count": 115,
     "metadata": {},
     "output_type": "execute_result"
    }
   ],
   "source": [
    "a[0]"
   ]
  },
  {
   "cell_type": "code",
   "execution_count": 106,
   "id": "8ac595fe",
   "metadata": {},
   "outputs": [
    {
     "data": {
      "text/plain": [
       "'versicolor'"
      ]
     },
     "execution_count": 106,
     "metadata": {},
     "output_type": "execute_result"
    }
   ],
   "source": [
    "a[1]"
   ]
  },
  {
   "cell_type": "code",
   "execution_count": 111,
   "id": "09e5b724",
   "metadata": {},
   "outputs": [],
   "source": [
    "a = \"5.9,3.2,4.8,1.8,Iris-versicolor\""
   ]
  },
  {
   "cell_type": "code",
   "execution_count": 109,
   "id": "4ed4bbb9",
   "metadata": {},
   "outputs": [
    {
     "data": {
      "text/plain": [
       "'5-.'"
      ]
     },
     "execution_count": 109,
     "metadata": {},
     "output_type": "execute_result"
    }
   ],
   "source": [
    "a[0] + '-' + a[1].capitalize()"
   ]
  },
  {
   "cell_type": "code",
   "execution_count": 116,
   "id": "10cca6e7",
   "metadata": {},
   "outputs": [
    {
     "data": {
      "text/plain": [
       "'5.9,3.2,4.8,1.8,Iris'"
      ]
     },
     "execution_count": 116,
     "metadata": {},
     "output_type": "execute_result"
    }
   ],
   "source": [
    "a[0]"
   ]
  },
  {
   "cell_type": "code",
   "execution_count": 117,
   "id": "b1058c1b",
   "metadata": {},
   "outputs": [
    {
     "data": {
      "text/plain": [
       "'Versicolor'"
      ]
     },
     "execution_count": 117,
     "metadata": {},
     "output_type": "execute_result"
    }
   ],
   "source": [
    "a[1].capitalize()"
   ]
  },
  {
   "cell_type": "code",
   "execution_count": 119,
   "id": "53c0308a",
   "metadata": {},
   "outputs": [
    {
     "data": {
      "text/plain": [
       "'5.9,3.2,4.8,1.8,Iris-Versicolor'"
      ]
     },
     "execution_count": 119,
     "metadata": {},
     "output_type": "execute_result"
    }
   ],
   "source": [
    "a[0] + '-' + a[1].capitalize()"
   ]
  },
  {
   "cell_type": "code",
   "execution_count": 122,
   "id": "7b534fcc",
   "metadata": {},
   "outputs": [
    {
     "data": {
      "text/plain": [
       "list"
      ]
     },
     "execution_count": 122,
     "metadata": {},
     "output_type": "execute_result"
    }
   ],
   "source": [
    "type(iris)"
   ]
  },
  {
   "cell_type": "code",
   "execution_count": 176,
   "id": "675bc810",
   "metadata": {},
   "outputs": [
    {
     "ename": "TypeError",
     "evalue": "list indices must be integers or slices, not str",
     "output_type": "error",
     "traceback": [
      "\u001b[1;31m---------------------------------------------------------------------------\u001b[0m",
      "\u001b[1;31mTypeError\u001b[0m                                 Traceback (most recent call last)",
      "\u001b[1;32m~\\AppData\\Local\\Temp\\ipykernel_11816\\926391640.py\u001b[0m in \u001b[0;36m<module>\u001b[1;34m\u001b[0m\n\u001b[0;32m      2\u001b[0m \u001b[1;33m\u001b[0m\u001b[0m\n\u001b[0;32m      3\u001b[0m \u001b[1;32mfor\u001b[0m \u001b[0mi\u001b[0m \u001b[1;32min\u001b[0m \u001b[0miris\u001b[0m\u001b[1;33m:\u001b[0m\u001b[1;33m\u001b[0m\u001b[1;33m\u001b[0m\u001b[0m\n\u001b[1;32m----> 4\u001b[1;33m     \u001b[0mastring\u001b[0m \u001b[1;33m=\u001b[0m \u001b[0miris\u001b[0m\u001b[1;33m[\u001b[0m\u001b[0mi\u001b[0m\u001b[1;33m]\u001b[0m\u001b[1;33m\u001b[0m\u001b[1;33m\u001b[0m\u001b[0m\n\u001b[0m\u001b[0;32m      5\u001b[0m     \u001b[0mnewString\u001b[0m \u001b[1;33m=\u001b[0m \u001b[0mastring\u001b[0m\u001b[1;33m.\u001b[0m\u001b[0msplit\u001b[0m\u001b[1;33m(\u001b[0m\u001b[1;34m'-'\u001b[0m\u001b[1;33m)\u001b[0m\u001b[1;33m\u001b[0m\u001b[1;33m\u001b[0m\u001b[0m\n\u001b[0;32m      6\u001b[0m     \u001b[0mword\u001b[0m  \u001b[1;33m=\u001b[0m \u001b[0mnewString\u001b[0m\u001b[1;33m[\u001b[0m\u001b[1;36m0\u001b[0m\u001b[1;33m]\u001b[0m \u001b[1;33m+\u001b[0m \u001b[1;34m'-'\u001b[0m \u001b[1;33m+\u001b[0m \u001b[0mnewString\u001b[0m\u001b[1;33m[\u001b[0m\u001b[1;36m1\u001b[0m\u001b[1;33m]\u001b[0m\u001b[1;33m.\u001b[0m\u001b[0mcapitalize\u001b[0m\u001b[1;33m(\u001b[0m\u001b[1;33m)\u001b[0m\u001b[1;33m\u001b[0m\u001b[1;33m\u001b[0m\u001b[0m\n",
      "\u001b[1;31mTypeError\u001b[0m: list indices must be integers or slices, not str"
     ]
    }
   ],
   "source": [
    "irisCapital = []\n",
    "\n",
    "for i in iris:\n",
    "    astring = iris[i]\n",
    "    newString = astring.split('-')\n",
    "    word  = newString[0] + '-' + newString[1].capitalize()\n",
    "    irisCapital.append(word)"
   ]
  },
  {
   "cell_type": "code",
   "execution_count": null,
   "id": "a216fa2a",
   "metadata": {},
   "outputs": [],
   "source": []
  },
  {
   "cell_type": "raw",
   "id": "f75c13c7",
   "metadata": {},
   "source": [
    "print(iris)"
   ]
  },
  {
   "cell_type": "code",
   "execution_count": 174,
   "id": "3f51bd5b",
   "metadata": {},
   "outputs": [
    {
     "ename": "TypeError",
     "evalue": "'list' object cannot be interpreted as an integer",
     "output_type": "error",
     "traceback": [
      "\u001b[1;31m---------------------------------------------------------------------------\u001b[0m",
      "\u001b[1;31mTypeError\u001b[0m                                 Traceback (most recent call last)",
      "\u001b[1;32m~\\AppData\\Local\\Temp\\ipykernel_11816\\592697520.py\u001b[0m in \u001b[0;36m<module>\u001b[1;34m\u001b[0m\n\u001b[1;32m----> 1\u001b[1;33m \u001b[1;32mfor\u001b[0m \u001b[0mi\u001b[0m \u001b[1;32min\u001b[0m \u001b[0mrange\u001b[0m\u001b[1;33m(\u001b[0m\u001b[0miris\u001b[0m\u001b[1;33m)\u001b[0m\u001b[1;33m:\u001b[0m\u001b[1;33m\u001b[0m\u001b[1;33m\u001b[0m\u001b[0m\n\u001b[0m\u001b[0;32m      2\u001b[0m     \u001b[0mastring\u001b[0m  \u001b[1;33m=\u001b[0m \u001b[0miris\u001b[0m\u001b[1;33m[\u001b[0m\u001b[0mi\u001b[0m\u001b[1;33m]\u001b[0m\u001b[1;33m\u001b[0m\u001b[1;33m\u001b[0m\u001b[0m\n\u001b[0;32m      3\u001b[0m     \u001b[1;31m#newString = astring.split('-')\u001b[0m\u001b[1;33m\u001b[0m\u001b[1;33m\u001b[0m\u001b[0m\n\u001b[0;32m      4\u001b[0m     \u001b[1;31m#word = ''\u001b[0m\u001b[1;33m\u001b[0m\u001b[1;33m\u001b[0m\u001b[0m\n\u001b[0;32m      5\u001b[0m     \u001b[1;31m#word  = newString[0] + '-' + newString[1].capitalize()\u001b[0m\u001b[1;33m\u001b[0m\u001b[1;33m\u001b[0m\u001b[0m\n",
      "\u001b[1;31mTypeError\u001b[0m: 'list' object cannot be interpreted as an integer"
     ]
    }
   ],
   "source": [
    "for i in range(iris):\n",
    "    astring  = iris[i]\n",
    "    #newString = astring.split('-')\n",
    "    #word = ''\n",
    "    #word  = newString[0] + '-' + newString[1].capitalize()\n",
    "    print(astring)\n",
    "    \n"
   ]
  },
  {
   "cell_type": "code",
   "execution_count": 172,
   "id": "793ca591",
   "metadata": {},
   "outputs": [
    {
     "ename": "AttributeError",
     "evalue": "'int' object has no attribute 'iris'",
     "output_type": "error",
     "traceback": [
      "\u001b[1;31m---------------------------------------------------------------------------\u001b[0m",
      "\u001b[1;31mAttributeError\u001b[0m                            Traceback (most recent call last)",
      "\u001b[1;32m~\\AppData\\Local\\Temp\\ipykernel_11816\\3408209549.py\u001b[0m in \u001b[0;36m<module>\u001b[1;34m\u001b[0m\n\u001b[0;32m      1\u001b[0m \u001b[1;32mfor\u001b[0m \u001b[0mi\u001b[0m \u001b[1;32min\u001b[0m \u001b[0mrange\u001b[0m\u001b[1;33m(\u001b[0m\u001b[0mlen\u001b[0m\u001b[1;33m(\u001b[0m\u001b[0miris\u001b[0m\u001b[1;33m)\u001b[0m\u001b[1;33m)\u001b[0m\u001b[1;33m:\u001b[0m\u001b[1;33m\u001b[0m\u001b[1;33m\u001b[0m\u001b[0m\n\u001b[1;32m----> 2\u001b[1;33m     \u001b[0mastring\u001b[0m  \u001b[1;33m=\u001b[0m \u001b[0mi\u001b[0m\u001b[1;33m.\u001b[0m\u001b[0miris\u001b[0m\u001b[1;33m\u001b[0m\u001b[1;33m\u001b[0m\u001b[0m\n\u001b[0m\u001b[0;32m      3\u001b[0m     \u001b[0mprint\u001b[0m\u001b[1;33m(\u001b[0m\u001b[0mastring\u001b[0m\u001b[1;33m)\u001b[0m\u001b[1;33m\u001b[0m\u001b[1;33m\u001b[0m\u001b[0m\n",
      "\u001b[1;31mAttributeError\u001b[0m: 'int' object has no attribute 'iris'"
     ]
    }
   ],
   "source": [
    "for i in range(iris):\n",
    "    astring  = i.iris\n",
    "    print(astring)"
   ]
  },
  {
   "cell_type": "code",
   "execution_count": 181,
   "id": "d73cc6a4",
   "metadata": {},
   "outputs": [
    {
     "data": {
      "text/plain": [
       "['5.1,3.5,1.4,0.2,Iris-setosa',\n",
       " '4.9,3.0,1.4,0.2,Iris-setosa',\n",
       " '4.7,3.2,1.3,0.2,Iris-setosa',\n",
       " '4.6,3.1,1.5,0.2,Iris-setosa',\n",
       " '5.0,3.6,1.4,0.2,Iris-setosa',\n",
       " '5.4,3.9,1.7,0.4,Iris-setosa',\n",
       " '4.6,3.4,1.4,0.3,Iris-setosa',\n",
       " '5.0,3.4,1.5,0.2,Iris-setosa',\n",
       " '4.4,2.9,1.4,0.2,Iris-setosa',\n",
       " '4.9,3.1,1.5,0.1,Iris-setosa',\n",
       " '5.4,3.7,1.5,0.2,Iris-setosa',\n",
       " '4.8,3.4,1.6,0.2,Iris-setosa',\n",
       " '4.8,3.0,1.4,0.1,Iris-setosa',\n",
       " '4.3,3.0,1.1,0.1,Iris-setosa',\n",
       " '5.8,4.0,1.2,0.2,Iris-setosa',\n",
       " '5.7,4.4,1.5,0.4,Iris-setosa',\n",
       " '5.4,3.9,1.3,0.4,Iris-setosa',\n",
       " '5.1,3.5,1.4,0.3,Iris-setosa',\n",
       " '5.7,3.8,1.7,0.3,Iris-setosa',\n",
       " '5.1,3.8,1.5,0.3,Iris-setosa',\n",
       " '5.4,3.4,1.7,0.2,Iris-setosa',\n",
       " '5.1,3.7,1.5,0.4,Iris-setosa',\n",
       " '4.6,3.6,1.0,0.2,Iris-setosa',\n",
       " '5.1,3.3,1.7,0.5,Iris-setosa',\n",
       " '4.8,3.4,1.9,0.2,Iris-setosa',\n",
       " '5.0,3.0,1.6,0.2,Iris-setosa',\n",
       " '5.0,3.4,1.6,0.4,Iris-setosa',\n",
       " '5.2,3.5,1.5,0.2,Iris-setosa',\n",
       " '5.2,3.4,1.4,0.2,Iris-setosa',\n",
       " '4.7,3.2,1.6,0.2,Iris-setosa',\n",
       " '4.8,3.1,1.6,0.2,Iris-setosa',\n",
       " '5.4,3.4,1.5,0.4,Iris-setosa',\n",
       " '5.2,4.1,1.5,0.1,Iris-setosa',\n",
       " '5.5,4.2,1.4,0.2,Iris-setosa',\n",
       " '4.9,3.1,1.5,0.1,Iris-setosa',\n",
       " '5.0,3.2,1.2,0.2,Iris-setosa',\n",
       " '5.5,3.5,1.3,0.2,Iris-setosa',\n",
       " '4.9,3.1,1.5,0.1,Iris-setosa',\n",
       " '4.4,3.0,1.3,0.2,Iris-setosa',\n",
       " '5.1,3.4,1.5,0.2,Iris-setosa',\n",
       " '5.0,3.5,1.3,0.3,Iris-setosa',\n",
       " '4.5,2.3,1.3,0.3,Iris-setosa',\n",
       " '4.4,3.2,1.3,0.2,Iris-setosa',\n",
       " '5.0,3.5,1.6,0.6,Iris-setosa',\n",
       " '5.1,3.8,1.9,0.4,Iris-setosa',\n",
       " '4.8,3.0,1.4,0.3,Iris-setosa',\n",
       " '5.1,3.8,1.6,0.2,Iris-setosa',\n",
       " '4.6,3.2,1.4,0.2,Iris-setosa',\n",
       " '5.3,3.7,1.5,0.2,Iris-setosa',\n",
       " '5.0,3.3,1.4,0.2,Iris-setosa',\n",
       " '7.0,3.2,4.7,1.4,Iris-versicolor',\n",
       " '6.4,3.2,4.5,1.5,Iris-versicolor',\n",
       " '6.9,3.1,4.9,1.5,Iris-versicolor',\n",
       " '5.5,2.3,4.0,1.3,Iris-versicolor',\n",
       " '6.5,2.8,4.6,1.5,Iris-versicolor',\n",
       " '5.7,2.8,4.5,1.3,Iris-versicolor',\n",
       " '6.3,3.3,4.7,1.6,Iris-versicolor',\n",
       " '4.9,2.4,3.3,1.0,Iris-versicolor',\n",
       " '6.6,2.9,4.6,1.3,Iris-versicolor',\n",
       " '5.2,2.7,3.9,1.4,Iris-versicolor',\n",
       " '5.0,2.0,3.5,1.0,Iris-versicolor',\n",
       " '5.9,3.0,4.2,1.5,Iris-versicolor',\n",
       " '6.0,2.2,4.0,1.0,Iris-versicolor',\n",
       " '6.1,2.9,4.7,1.4,Iris-versicolor',\n",
       " '5.6,2.9,3.6,1.3,Iris-versicolor',\n",
       " '6.7,3.1,4.4,1.4,Iris-versicolor',\n",
       " '5.6,3.0,4.5,1.5,Iris-versicolor',\n",
       " '5.8,2.7,4.1,1.0,Iris-versicolor',\n",
       " '6.2,2.2,4.5,1.5,Iris-versicolor',\n",
       " '5.6,2.5,3.9,1.1,Iris-versicolor',\n",
       " '5.9,3.2,4.8,1.8,Iris-versicolor',\n",
       " '6.1,2.8,4.0,1.3,Iris-versicolor',\n",
       " '6.3,2.5,4.9,1.5,Iris-versicolor',\n",
       " '6.1,2.8,4.7,1.2,Iris-versicolor',\n",
       " '6.4,2.9,4.3,1.3,Iris-versicolor',\n",
       " '6.6,3.0,4.4,1.4,Iris-versicolor',\n",
       " '6.8,2.8,4.8,1.4,Iris-versicolor',\n",
       " '6.7,3.0,5.0,1.7,Iris-versicolor',\n",
       " '6.0,2.9,4.5,1.5,Iris-versicolor',\n",
       " '5.7,2.6,3.5,1.0,Iris-versicolor',\n",
       " '5.5,2.4,3.8,1.1,Iris-versicolor',\n",
       " '5.5,2.4,3.7,1.0,Iris-versicolor',\n",
       " '5.8,2.7,3.9,1.2,Iris-versicolor',\n",
       " '6.0,2.7,5.1,1.6,Iris-versicolor',\n",
       " '5.4,3.0,4.5,1.5,Iris-versicolor',\n",
       " '6.0,3.4,4.5,1.6,Iris-versicolor',\n",
       " '6.7,3.1,4.7,1.5,Iris-versicolor',\n",
       " '6.3,2.3,4.4,1.3,Iris-versicolor',\n",
       " '5.6,3.0,4.1,1.3,Iris-versicolor',\n",
       " '5.5,2.5,4.0,1.3,Iris-versicolor',\n",
       " '5.5,2.6,4.4,1.2,Iris-versicolor',\n",
       " '6.1,3.0,4.6,1.4,Iris-versicolor',\n",
       " '5.8,2.6,4.0,1.2,Iris-versicolor',\n",
       " '5.0,2.3,3.3,1.0,Iris-versicolor',\n",
       " '5.6,2.7,4.2,1.3,Iris-versicolor',\n",
       " '5.7,3.0,4.2,1.2,Iris-versicolor',\n",
       " '5.7,2.9,4.2,1.3,Iris-versicolor',\n",
       " '6.2,2.9,4.3,1.3,Iris-versicolor',\n",
       " '5.1,2.5,3.0,1.1,Iris-versicolor',\n",
       " '5.7,2.8,4.1,1.3,Iris-versicolor',\n",
       " '6.3,3.3,6.0,2.5,Iris-virginica',\n",
       " '5.8,2.7,5.1,1.9,Iris-virginica',\n",
       " '7.1,3.0,5.9,2.1,Iris-virginica',\n",
       " '6.3,2.9,5.6,1.8,Iris-virginica',\n",
       " '6.5,3.0,5.8,2.2,Iris-virginica',\n",
       " '7.6,3.0,6.6,2.1,Iris-virginica',\n",
       " '4.9,2.5,4.5,1.7,Iris-virginica',\n",
       " '7.3,2.9,6.3,1.8,Iris-virginica',\n",
       " '6.7,2.5,5.8,1.8,Iris-virginica',\n",
       " '7.2,3.6,6.1,2.5,Iris-virginica',\n",
       " '6.5,3.2,5.1,2.0,Iris-virginica',\n",
       " '6.4,2.7,5.3,1.9,Iris-virginica',\n",
       " '6.8,3.0,5.5,2.1,Iris-virginica',\n",
       " '5.7,2.5,5.0,2.0,Iris-virginica',\n",
       " '5.8,2.8,5.1,2.4,Iris-virginica',\n",
       " '6.4,3.2,5.3,2.3,Iris-virginica',\n",
       " '6.5,3.0,5.5,1.8,Iris-virginica',\n",
       " '7.7,3.8,6.7,2.2,Iris-virginica',\n",
       " '7.7,2.6,6.9,2.3,Iris-virginica',\n",
       " '6.0,2.2,5.0,1.5,Iris-virginica',\n",
       " '6.9,3.2,5.7,2.3,Iris-virginica',\n",
       " '5.6,2.8,4.9,2.0,Iris-virginica',\n",
       " '7.7,2.8,6.7,2.0,Iris-virginica',\n",
       " '6.3,2.7,4.9,1.8,Iris-virginica',\n",
       " '6.7,3.3,5.7,2.1,Iris-virginica',\n",
       " '7.2,3.2,6.0,1.8,Iris-virginica',\n",
       " '6.2,2.8,4.8,1.8,Iris-virginica',\n",
       " '6.1,3.0,4.9,1.8,Iris-virginica',\n",
       " '6.4,2.8,5.6,2.1,Iris-virginica',\n",
       " '7.2,3.0,5.8,1.6,Iris-virginica',\n",
       " '7.4,2.8,6.1,1.9,Iris-virginica',\n",
       " '7.9,3.8,6.4,2.0,Iris-virginica',\n",
       " '6.4,2.8,5.6,2.2,Iris-virginica',\n",
       " '6.3,2.8,5.1,1.5,Iris-virginica',\n",
       " '6.1,2.6,5.6,1.4,Iris-virginica',\n",
       " '7.7,3.0,6.1,2.3,Iris-virginica',\n",
       " '6.3,3.4,5.6,2.4,Iris-virginica',\n",
       " '6.4,3.1,5.5,1.8,Iris-virginica',\n",
       " '6.0,3.0,4.8,1.8,Iris-virginica',\n",
       " '6.9,3.1,5.4,2.1,Iris-virginica',\n",
       " '6.7,3.1,5.6,2.4,Iris-virginica',\n",
       " '6.9,3.1,5.1,2.3,Iris-virginica',\n",
       " '5.8,2.7,5.1,1.9,Iris-virginica',\n",
       " '6.8,3.2,5.9,2.3,Iris-virginica',\n",
       " '6.7,3.3,5.7,2.5,Iris-virginica',\n",
       " '6.7,3.0,5.2,2.3,Iris-virginica',\n",
       " '6.3,2.5,5.0,1.9,Iris-virginica',\n",
       " '6.5,3.0,5.2,2.0,Iris-virginica',\n",
       " '6.2,3.4,5.4,2.3,Iris-virginica',\n",
       " '5.9,3.0,5.1,1.8,Iris-virginica',\n",
       " '']"
      ]
     },
     "execution_count": 181,
     "metadata": {},
     "output_type": "execute_result"
    }
   ],
   "source": [
    "url = r'https://archive.ics.uci.edu/ml/machine-learning-databases/iris/iris.data'\n",
    "\n",
    "iris = [line.decode('utf-8').strip() for line in urllib.request.urlopen(url)]\n",
    "\n",
    "iris"
   ]
  },
  {
   "cell_type": "code",
   "execution_count": 185,
   "id": "885b8fa8",
   "metadata": {},
   "outputs": [
    {
     "ename": "TypeError",
     "evalue": "'list' object cannot be interpreted as an integer",
     "output_type": "error",
     "traceback": [
      "\u001b[1;31m---------------------------------------------------------------------------\u001b[0m",
      "\u001b[1;31mTypeError\u001b[0m                                 Traceback (most recent call last)",
      "\u001b[1;32m~\\AppData\\Local\\Temp\\ipykernel_11816\\2618805101.py\u001b[0m in \u001b[0;36m<module>\u001b[1;34m\u001b[0m\n\u001b[1;32m----> 1\u001b[1;33m \u001b[1;32mfor\u001b[0m \u001b[0mi\u001b[0m \u001b[1;32min\u001b[0m \u001b[0mrange\u001b[0m\u001b[1;33m(\u001b[0m\u001b[0miris\u001b[0m\u001b[1;33m)\u001b[0m\u001b[1;33m:\u001b[0m\u001b[1;33m\u001b[0m\u001b[1;33m\u001b[0m\u001b[0m\n\u001b[0m\u001b[0;32m      2\u001b[0m     \u001b[1;31m#astring  = iris[9]\u001b[0m\u001b[1;33m\u001b[0m\u001b[1;33m\u001b[0m\u001b[0m\n\u001b[0;32m      3\u001b[0m     \u001b[1;31m#print(astring)\u001b[0m\u001b[1;33m\u001b[0m\u001b[1;33m\u001b[0m\u001b[0m\n\u001b[0;32m      4\u001b[0m     \u001b[0mprint\u001b[0m\u001b[1;33m(\u001b[0m\u001b[0mi\u001b[0m\u001b[1;33m)\u001b[0m\u001b[1;33m\u001b[0m\u001b[1;33m\u001b[0m\u001b[0m\n",
      "\u001b[1;31mTypeError\u001b[0m: 'list' object cannot be interpreted as an integer"
     ]
    }
   ],
   "source": [
    "for i in range(iris):\n",
    "    #astring  = iris[9]\n",
    "    #print(astring)\n",
    "    print(i)"
   ]
  },
  {
   "cell_type": "code",
   "execution_count": 190,
   "id": "cbddaf38",
   "metadata": {},
   "outputs": [
    {
     "data": {
      "text/plain": [
       "'5.1,3.5,1.4,0.2,Iris-Setosa'"
      ]
     },
     "execution_count": 190,
     "metadata": {},
     "output_type": "execute_result"
    }
   ],
   "source": [
    "re.sub('Iris-setosa', 'Iris-Setosa', '5.1,3.5,1.4,0.2,Iris-setosa')"
   ]
  },
  {
   "cell_type": "code",
   "execution_count": 191,
   "id": "cf368fd3",
   "metadata": {},
   "outputs": [
    {
     "ename": "TypeError",
     "evalue": "'list' object cannot be interpreted as an integer",
     "output_type": "error",
     "traceback": [
      "\u001b[1;31m---------------------------------------------------------------------------\u001b[0m",
      "\u001b[1;31mTypeError\u001b[0m                                 Traceback (most recent call last)",
      "\u001b[1;32m~\\AppData\\Local\\Temp\\ipykernel_11816\\771292884.py\u001b[0m in \u001b[0;36m<module>\u001b[1;34m\u001b[0m\n\u001b[1;32m----> 1\u001b[1;33m \u001b[1;32mfor\u001b[0m \u001b[0mi\u001b[0m \u001b[1;32min\u001b[0m \u001b[0mrange\u001b[0m\u001b[1;33m(\u001b[0m\u001b[0miris\u001b[0m\u001b[1;33m)\u001b[0m\u001b[1;33m:\u001b[0m\u001b[1;33m\u001b[0m\u001b[1;33m\u001b[0m\u001b[0m\n\u001b[0m\u001b[0;32m      2\u001b[0m     \u001b[0mre\u001b[0m\u001b[1;33m.\u001b[0m\u001b[0msub\u001b[0m\u001b[1;33m(\u001b[0m\u001b[1;34m'Iris-setosa'\u001b[0m\u001b[1;33m,\u001b[0m \u001b[1;34m'Iris-Setosa'\u001b[0m\u001b[1;33m,\u001b[0m \u001b[0miris\u001b[0m\u001b[1;33m[\u001b[0m\u001b[0mi\u001b[0m\u001b[1;33m]\u001b[0m\u001b[1;33m)\u001b[0m\u001b[1;33m\u001b[0m\u001b[1;33m\u001b[0m\u001b[0m\n\u001b[0;32m      3\u001b[0m \u001b[1;33m\u001b[0m\u001b[0m\n\u001b[0;32m      4\u001b[0m \u001b[0miris\u001b[0m\u001b[1;33m\u001b[0m\u001b[1;33m\u001b[0m\u001b[0m\n",
      "\u001b[1;31mTypeError\u001b[0m: 'list' object cannot be interpreted as an integer"
     ]
    }
   ],
   "source": [
    "for i in range(iris):\n",
    "    re.sub('Iris-setosa', 'Iris-Setosa', iris[i])\n",
    "\n",
    "iris"
   ]
  },
  {
   "cell_type": "code",
   "execution_count": 192,
   "id": "b4ba127d",
   "metadata": {},
   "outputs": [
    {
     "data": {
      "text/plain": [
       "['5.1,3.5,1.4,0.2,Iris-setosa',\n",
       " '4.9,3.0,1.4,0.2,Iris-setosa',\n",
       " '4.7,3.2,1.3,0.2,Iris-setosa',\n",
       " '4.6,3.1,1.5,0.2,Iris-setosa',\n",
       " '5.0,3.6,1.4,0.2,Iris-setosa',\n",
       " '5.4,3.9,1.7,0.4,Iris-setosa',\n",
       " '4.6,3.4,1.4,0.3,Iris-setosa',\n",
       " '5.0,3.4,1.5,0.2,Iris-setosa',\n",
       " '4.4,2.9,1.4,0.2,Iris-setosa',\n",
       " '4.9,3.1,1.5,0.1,Iris-setosa',\n",
       " '5.4,3.7,1.5,0.2,Iris-setosa',\n",
       " '4.8,3.4,1.6,0.2,Iris-setosa',\n",
       " '4.8,3.0,1.4,0.1,Iris-setosa',\n",
       " '4.3,3.0,1.1,0.1,Iris-setosa',\n",
       " '5.8,4.0,1.2,0.2,Iris-setosa',\n",
       " '5.7,4.4,1.5,0.4,Iris-setosa',\n",
       " '5.4,3.9,1.3,0.4,Iris-setosa',\n",
       " '5.1,3.5,1.4,0.3,Iris-setosa',\n",
       " '5.7,3.8,1.7,0.3,Iris-setosa',\n",
       " '5.1,3.8,1.5,0.3,Iris-setosa',\n",
       " '5.4,3.4,1.7,0.2,Iris-setosa',\n",
       " '5.1,3.7,1.5,0.4,Iris-setosa',\n",
       " '4.6,3.6,1.0,0.2,Iris-setosa',\n",
       " '5.1,3.3,1.7,0.5,Iris-setosa',\n",
       " '4.8,3.4,1.9,0.2,Iris-setosa',\n",
       " '5.0,3.0,1.6,0.2,Iris-setosa',\n",
       " '5.0,3.4,1.6,0.4,Iris-setosa',\n",
       " '5.2,3.5,1.5,0.2,Iris-setosa',\n",
       " '5.2,3.4,1.4,0.2,Iris-setosa',\n",
       " '4.7,3.2,1.6,0.2,Iris-setosa',\n",
       " '4.8,3.1,1.6,0.2,Iris-setosa',\n",
       " '5.4,3.4,1.5,0.4,Iris-setosa',\n",
       " '5.2,4.1,1.5,0.1,Iris-setosa',\n",
       " '5.5,4.2,1.4,0.2,Iris-setosa',\n",
       " '4.9,3.1,1.5,0.1,Iris-setosa',\n",
       " '5.0,3.2,1.2,0.2,Iris-setosa',\n",
       " '5.5,3.5,1.3,0.2,Iris-setosa',\n",
       " '4.9,3.1,1.5,0.1,Iris-setosa',\n",
       " '4.4,3.0,1.3,0.2,Iris-setosa',\n",
       " '5.1,3.4,1.5,0.2,Iris-setosa',\n",
       " '5.0,3.5,1.3,0.3,Iris-setosa',\n",
       " '4.5,2.3,1.3,0.3,Iris-setosa',\n",
       " '4.4,3.2,1.3,0.2,Iris-setosa',\n",
       " '5.0,3.5,1.6,0.6,Iris-setosa',\n",
       " '5.1,3.8,1.9,0.4,Iris-setosa',\n",
       " '4.8,3.0,1.4,0.3,Iris-setosa',\n",
       " '5.1,3.8,1.6,0.2,Iris-setosa',\n",
       " '4.6,3.2,1.4,0.2,Iris-setosa',\n",
       " '5.3,3.7,1.5,0.2,Iris-setosa',\n",
       " '5.0,3.3,1.4,0.2,Iris-setosa',\n",
       " '7.0,3.2,4.7,1.4,Iris-versicolor',\n",
       " '6.4,3.2,4.5,1.5,Iris-versicolor',\n",
       " '6.9,3.1,4.9,1.5,Iris-versicolor',\n",
       " '5.5,2.3,4.0,1.3,Iris-versicolor',\n",
       " '6.5,2.8,4.6,1.5,Iris-versicolor',\n",
       " '5.7,2.8,4.5,1.3,Iris-versicolor',\n",
       " '6.3,3.3,4.7,1.6,Iris-versicolor',\n",
       " '4.9,2.4,3.3,1.0,Iris-versicolor',\n",
       " '6.6,2.9,4.6,1.3,Iris-versicolor',\n",
       " '5.2,2.7,3.9,1.4,Iris-versicolor',\n",
       " '5.0,2.0,3.5,1.0,Iris-versicolor',\n",
       " '5.9,3.0,4.2,1.5,Iris-versicolor',\n",
       " '6.0,2.2,4.0,1.0,Iris-versicolor',\n",
       " '6.1,2.9,4.7,1.4,Iris-versicolor',\n",
       " '5.6,2.9,3.6,1.3,Iris-versicolor',\n",
       " '6.7,3.1,4.4,1.4,Iris-versicolor',\n",
       " '5.6,3.0,4.5,1.5,Iris-versicolor',\n",
       " '5.8,2.7,4.1,1.0,Iris-versicolor',\n",
       " '6.2,2.2,4.5,1.5,Iris-versicolor',\n",
       " '5.6,2.5,3.9,1.1,Iris-versicolor',\n",
       " '5.9,3.2,4.8,1.8,Iris-versicolor',\n",
       " '6.1,2.8,4.0,1.3,Iris-versicolor',\n",
       " '6.3,2.5,4.9,1.5,Iris-versicolor',\n",
       " '6.1,2.8,4.7,1.2,Iris-versicolor',\n",
       " '6.4,2.9,4.3,1.3,Iris-versicolor',\n",
       " '6.6,3.0,4.4,1.4,Iris-versicolor',\n",
       " '6.8,2.8,4.8,1.4,Iris-versicolor',\n",
       " '6.7,3.0,5.0,1.7,Iris-versicolor',\n",
       " '6.0,2.9,4.5,1.5,Iris-versicolor',\n",
       " '5.7,2.6,3.5,1.0,Iris-versicolor',\n",
       " '5.5,2.4,3.8,1.1,Iris-versicolor',\n",
       " '5.5,2.4,3.7,1.0,Iris-versicolor',\n",
       " '5.8,2.7,3.9,1.2,Iris-versicolor',\n",
       " '6.0,2.7,5.1,1.6,Iris-versicolor',\n",
       " '5.4,3.0,4.5,1.5,Iris-versicolor',\n",
       " '6.0,3.4,4.5,1.6,Iris-versicolor',\n",
       " '6.7,3.1,4.7,1.5,Iris-versicolor',\n",
       " '6.3,2.3,4.4,1.3,Iris-versicolor',\n",
       " '5.6,3.0,4.1,1.3,Iris-versicolor',\n",
       " '5.5,2.5,4.0,1.3,Iris-versicolor',\n",
       " '5.5,2.6,4.4,1.2,Iris-versicolor',\n",
       " '6.1,3.0,4.6,1.4,Iris-versicolor',\n",
       " '5.8,2.6,4.0,1.2,Iris-versicolor',\n",
       " '5.0,2.3,3.3,1.0,Iris-versicolor',\n",
       " '5.6,2.7,4.2,1.3,Iris-versicolor',\n",
       " '5.7,3.0,4.2,1.2,Iris-versicolor',\n",
       " '5.7,2.9,4.2,1.3,Iris-versicolor',\n",
       " '6.2,2.9,4.3,1.3,Iris-versicolor',\n",
       " '5.1,2.5,3.0,1.1,Iris-versicolor',\n",
       " '5.7,2.8,4.1,1.3,Iris-versicolor',\n",
       " '6.3,3.3,6.0,2.5,Iris-virginica',\n",
       " '5.8,2.7,5.1,1.9,Iris-virginica',\n",
       " '7.1,3.0,5.9,2.1,Iris-virginica',\n",
       " '6.3,2.9,5.6,1.8,Iris-virginica',\n",
       " '6.5,3.0,5.8,2.2,Iris-virginica',\n",
       " '7.6,3.0,6.6,2.1,Iris-virginica',\n",
       " '4.9,2.5,4.5,1.7,Iris-virginica',\n",
       " '7.3,2.9,6.3,1.8,Iris-virginica',\n",
       " '6.7,2.5,5.8,1.8,Iris-virginica',\n",
       " '7.2,3.6,6.1,2.5,Iris-virginica',\n",
       " '6.5,3.2,5.1,2.0,Iris-virginica',\n",
       " '6.4,2.7,5.3,1.9,Iris-virginica',\n",
       " '6.8,3.0,5.5,2.1,Iris-virginica',\n",
       " '5.7,2.5,5.0,2.0,Iris-virginica',\n",
       " '5.8,2.8,5.1,2.4,Iris-virginica',\n",
       " '6.4,3.2,5.3,2.3,Iris-virginica',\n",
       " '6.5,3.0,5.5,1.8,Iris-virginica',\n",
       " '7.7,3.8,6.7,2.2,Iris-virginica',\n",
       " '7.7,2.6,6.9,2.3,Iris-virginica',\n",
       " '6.0,2.2,5.0,1.5,Iris-virginica',\n",
       " '6.9,3.2,5.7,2.3,Iris-virginica',\n",
       " '5.6,2.8,4.9,2.0,Iris-virginica',\n",
       " '7.7,2.8,6.7,2.0,Iris-virginica',\n",
       " '6.3,2.7,4.9,1.8,Iris-virginica',\n",
       " '6.7,3.3,5.7,2.1,Iris-virginica',\n",
       " '7.2,3.2,6.0,1.8,Iris-virginica',\n",
       " '6.2,2.8,4.8,1.8,Iris-virginica',\n",
       " '6.1,3.0,4.9,1.8,Iris-virginica',\n",
       " '6.4,2.8,5.6,2.1,Iris-virginica',\n",
       " '7.2,3.0,5.8,1.6,Iris-virginica',\n",
       " '7.4,2.8,6.1,1.9,Iris-virginica',\n",
       " '7.9,3.8,6.4,2.0,Iris-virginica',\n",
       " '6.4,2.8,5.6,2.2,Iris-virginica',\n",
       " '6.3,2.8,5.1,1.5,Iris-virginica',\n",
       " '6.1,2.6,5.6,1.4,Iris-virginica',\n",
       " '7.7,3.0,6.1,2.3,Iris-virginica',\n",
       " '6.3,3.4,5.6,2.4,Iris-virginica',\n",
       " '6.4,3.1,5.5,1.8,Iris-virginica',\n",
       " '6.0,3.0,4.8,1.8,Iris-virginica',\n",
       " '6.9,3.1,5.4,2.1,Iris-virginica',\n",
       " '6.7,3.1,5.6,2.4,Iris-virginica',\n",
       " '6.9,3.1,5.1,2.3,Iris-virginica',\n",
       " '5.8,2.7,5.1,1.9,Iris-virginica',\n",
       " '6.8,3.2,5.9,2.3,Iris-virginica',\n",
       " '6.7,3.3,5.7,2.5,Iris-virginica',\n",
       " '6.7,3.0,5.2,2.3,Iris-virginica',\n",
       " '6.3,2.5,5.0,1.9,Iris-virginica',\n",
       " '6.5,3.0,5.2,2.0,Iris-virginica',\n",
       " '6.2,3.4,5.4,2.3,Iris-virginica',\n",
       " '5.9,3.0,5.1,1.8,Iris-virginica',\n",
       " '']"
      ]
     },
     "execution_count": 192,
     "metadata": {},
     "output_type": "execute_result"
    }
   ],
   "source": [
    "iris"
   ]
  },
  {
   "cell_type": "code",
   "execution_count": 193,
   "id": "2a5c3a78",
   "metadata": {},
   "outputs": [],
   "source": [
    "strip_iris = re.compile(r'([0-9]\\.[0-9]),([0-9]\\.[0-9]),([0-9]\\.[0-9]),([0-9]\\.[0-9]),Iris-([a-z]+)')"
   ]
  },
  {
   "cell_type": "code",
   "execution_count": null,
   "id": "a4f3a88d",
   "metadata": {},
   "outputs": [],
   "source": []
  },
  {
   "cell_type": "code",
   "execution_count": 196,
   "id": "eebd062b",
   "metadata": {},
   "outputs": [],
   "source": [
    "[strip_iris.sub(r'\\5,\\4,\\3,\\2,\\1', line) for line in iris if line]"
   ]
  },
  {
   "cell_type": "code",
   "execution_count": 197,
   "id": "d41a7475",
   "metadata": {},
   "outputs": [
    {
     "data": {
      "text/plain": [
       "['5.1,3.5,1.4,0.2,Iris-Setosa',\n",
       " '4.9,3.0,1.4,0.2,Iris-Setosa',\n",
       " '4.7,3.2,1.3,0.2,Iris-Setosa',\n",
       " '4.6,3.1,1.5,0.2,Iris-Setosa',\n",
       " '5.0,3.6,1.4,0.2,Iris-Setosa',\n",
       " '5.4,3.9,1.7,0.4,Iris-Setosa',\n",
       " '4.6,3.4,1.4,0.3,Iris-Setosa',\n",
       " '5.0,3.4,1.5,0.2,Iris-Setosa',\n",
       " '4.4,2.9,1.4,0.2,Iris-Setosa',\n",
       " '4.9,3.1,1.5,0.1,Iris-Setosa',\n",
       " '5.4,3.7,1.5,0.2,Iris-Setosa',\n",
       " '4.8,3.4,1.6,0.2,Iris-Setosa',\n",
       " '4.8,3.0,1.4,0.1,Iris-Setosa',\n",
       " '4.3,3.0,1.1,0.1,Iris-Setosa',\n",
       " '5.8,4.0,1.2,0.2,Iris-Setosa',\n",
       " '5.7,4.4,1.5,0.4,Iris-Setosa',\n",
       " '5.4,3.9,1.3,0.4,Iris-Setosa',\n",
       " '5.1,3.5,1.4,0.3,Iris-Setosa',\n",
       " '5.7,3.8,1.7,0.3,Iris-Setosa',\n",
       " '5.1,3.8,1.5,0.3,Iris-Setosa',\n",
       " '5.4,3.4,1.7,0.2,Iris-Setosa',\n",
       " '5.1,3.7,1.5,0.4,Iris-Setosa',\n",
       " '4.6,3.6,1.0,0.2,Iris-Setosa',\n",
       " '5.1,3.3,1.7,0.5,Iris-Setosa',\n",
       " '4.8,3.4,1.9,0.2,Iris-Setosa',\n",
       " '5.0,3.0,1.6,0.2,Iris-Setosa',\n",
       " '5.0,3.4,1.6,0.4,Iris-Setosa',\n",
       " '5.2,3.5,1.5,0.2,Iris-Setosa',\n",
       " '5.2,3.4,1.4,0.2,Iris-Setosa',\n",
       " '4.7,3.2,1.6,0.2,Iris-Setosa',\n",
       " '4.8,3.1,1.6,0.2,Iris-Setosa',\n",
       " '5.4,3.4,1.5,0.4,Iris-Setosa',\n",
       " '5.2,4.1,1.5,0.1,Iris-Setosa',\n",
       " '5.5,4.2,1.4,0.2,Iris-Setosa',\n",
       " '4.9,3.1,1.5,0.1,Iris-Setosa',\n",
       " '5.0,3.2,1.2,0.2,Iris-Setosa',\n",
       " '5.5,3.5,1.3,0.2,Iris-Setosa',\n",
       " '4.9,3.1,1.5,0.1,Iris-Setosa',\n",
       " '4.4,3.0,1.3,0.2,Iris-Setosa',\n",
       " '5.1,3.4,1.5,0.2,Iris-Setosa',\n",
       " '5.0,3.5,1.3,0.3,Iris-Setosa',\n",
       " '4.5,2.3,1.3,0.3,Iris-Setosa',\n",
       " '4.4,3.2,1.3,0.2,Iris-Setosa',\n",
       " '5.0,3.5,1.6,0.6,Iris-Setosa',\n",
       " '5.1,3.8,1.9,0.4,Iris-Setosa',\n",
       " '4.8,3.0,1.4,0.3,Iris-Setosa',\n",
       " '5.1,3.8,1.6,0.2,Iris-Setosa',\n",
       " '4.6,3.2,1.4,0.2,Iris-Setosa',\n",
       " '5.3,3.7,1.5,0.2,Iris-Setosa',\n",
       " '5.0,3.3,1.4,0.2,Iris-Setosa',\n",
       " '7.0,3.2,4.7,1.4,Iris-versicolor',\n",
       " '6.4,3.2,4.5,1.5,Iris-versicolor',\n",
       " '6.9,3.1,4.9,1.5,Iris-versicolor',\n",
       " '5.5,2.3,4.0,1.3,Iris-versicolor',\n",
       " '6.5,2.8,4.6,1.5,Iris-versicolor',\n",
       " '5.7,2.8,4.5,1.3,Iris-versicolor',\n",
       " '6.3,3.3,4.7,1.6,Iris-versicolor',\n",
       " '4.9,2.4,3.3,1.0,Iris-versicolor',\n",
       " '6.6,2.9,4.6,1.3,Iris-versicolor',\n",
       " '5.2,2.7,3.9,1.4,Iris-versicolor',\n",
       " '5.0,2.0,3.5,1.0,Iris-versicolor',\n",
       " '5.9,3.0,4.2,1.5,Iris-versicolor',\n",
       " '6.0,2.2,4.0,1.0,Iris-versicolor',\n",
       " '6.1,2.9,4.7,1.4,Iris-versicolor',\n",
       " '5.6,2.9,3.6,1.3,Iris-versicolor',\n",
       " '6.7,3.1,4.4,1.4,Iris-versicolor',\n",
       " '5.6,3.0,4.5,1.5,Iris-versicolor',\n",
       " '5.8,2.7,4.1,1.0,Iris-versicolor',\n",
       " '6.2,2.2,4.5,1.5,Iris-versicolor',\n",
       " '5.6,2.5,3.9,1.1,Iris-versicolor',\n",
       " '5.9,3.2,4.8,1.8,Iris-versicolor',\n",
       " '6.1,2.8,4.0,1.3,Iris-versicolor',\n",
       " '6.3,2.5,4.9,1.5,Iris-versicolor',\n",
       " '6.1,2.8,4.7,1.2,Iris-versicolor',\n",
       " '6.4,2.9,4.3,1.3,Iris-versicolor',\n",
       " '6.6,3.0,4.4,1.4,Iris-versicolor',\n",
       " '6.8,2.8,4.8,1.4,Iris-versicolor',\n",
       " '6.7,3.0,5.0,1.7,Iris-versicolor',\n",
       " '6.0,2.9,4.5,1.5,Iris-versicolor',\n",
       " '5.7,2.6,3.5,1.0,Iris-versicolor',\n",
       " '5.5,2.4,3.8,1.1,Iris-versicolor',\n",
       " '5.5,2.4,3.7,1.0,Iris-versicolor',\n",
       " '5.8,2.7,3.9,1.2,Iris-versicolor',\n",
       " '6.0,2.7,5.1,1.6,Iris-versicolor',\n",
       " '5.4,3.0,4.5,1.5,Iris-versicolor',\n",
       " '6.0,3.4,4.5,1.6,Iris-versicolor',\n",
       " '6.7,3.1,4.7,1.5,Iris-versicolor',\n",
       " '6.3,2.3,4.4,1.3,Iris-versicolor',\n",
       " '5.6,3.0,4.1,1.3,Iris-versicolor',\n",
       " '5.5,2.5,4.0,1.3,Iris-versicolor',\n",
       " '5.5,2.6,4.4,1.2,Iris-versicolor',\n",
       " '6.1,3.0,4.6,1.4,Iris-versicolor',\n",
       " '5.8,2.6,4.0,1.2,Iris-versicolor',\n",
       " '5.0,2.3,3.3,1.0,Iris-versicolor',\n",
       " '5.6,2.7,4.2,1.3,Iris-versicolor',\n",
       " '5.7,3.0,4.2,1.2,Iris-versicolor',\n",
       " '5.7,2.9,4.2,1.3,Iris-versicolor',\n",
       " '6.2,2.9,4.3,1.3,Iris-versicolor',\n",
       " '5.1,2.5,3.0,1.1,Iris-versicolor',\n",
       " '5.7,2.8,4.1,1.3,Iris-versicolor',\n",
       " '6.3,3.3,6.0,2.5,Iris-virginica',\n",
       " '5.8,2.7,5.1,1.9,Iris-virginica',\n",
       " '7.1,3.0,5.9,2.1,Iris-virginica',\n",
       " '6.3,2.9,5.6,1.8,Iris-virginica',\n",
       " '6.5,3.0,5.8,2.2,Iris-virginica',\n",
       " '7.6,3.0,6.6,2.1,Iris-virginica',\n",
       " '4.9,2.5,4.5,1.7,Iris-virginica',\n",
       " '7.3,2.9,6.3,1.8,Iris-virginica',\n",
       " '6.7,2.5,5.8,1.8,Iris-virginica',\n",
       " '7.2,3.6,6.1,2.5,Iris-virginica',\n",
       " '6.5,3.2,5.1,2.0,Iris-virginica',\n",
       " '6.4,2.7,5.3,1.9,Iris-virginica',\n",
       " '6.8,3.0,5.5,2.1,Iris-virginica',\n",
       " '5.7,2.5,5.0,2.0,Iris-virginica',\n",
       " '5.8,2.8,5.1,2.4,Iris-virginica',\n",
       " '6.4,3.2,5.3,2.3,Iris-virginica',\n",
       " '6.5,3.0,5.5,1.8,Iris-virginica',\n",
       " '7.7,3.8,6.7,2.2,Iris-virginica',\n",
       " '7.7,2.6,6.9,2.3,Iris-virginica',\n",
       " '6.0,2.2,5.0,1.5,Iris-virginica',\n",
       " '6.9,3.2,5.7,2.3,Iris-virginica',\n",
       " '5.6,2.8,4.9,2.0,Iris-virginica',\n",
       " '7.7,2.8,6.7,2.0,Iris-virginica',\n",
       " '6.3,2.7,4.9,1.8,Iris-virginica',\n",
       " '6.7,3.3,5.7,2.1,Iris-virginica',\n",
       " '7.2,3.2,6.0,1.8,Iris-virginica',\n",
       " '6.2,2.8,4.8,1.8,Iris-virginica',\n",
       " '6.1,3.0,4.9,1.8,Iris-virginica',\n",
       " '6.4,2.8,5.6,2.1,Iris-virginica',\n",
       " '7.2,3.0,5.8,1.6,Iris-virginica',\n",
       " '7.4,2.8,6.1,1.9,Iris-virginica',\n",
       " '7.9,3.8,6.4,2.0,Iris-virginica',\n",
       " '6.4,2.8,5.6,2.2,Iris-virginica',\n",
       " '6.3,2.8,5.1,1.5,Iris-virginica',\n",
       " '6.1,2.6,5.6,1.4,Iris-virginica',\n",
       " '7.7,3.0,6.1,2.3,Iris-virginica',\n",
       " '6.3,3.4,5.6,2.4,Iris-virginica',\n",
       " '6.4,3.1,5.5,1.8,Iris-virginica',\n",
       " '6.0,3.0,4.8,1.8,Iris-virginica',\n",
       " '6.9,3.1,5.4,2.1,Iris-virginica',\n",
       " '6.7,3.1,5.6,2.4,Iris-virginica',\n",
       " '6.9,3.1,5.1,2.3,Iris-virginica',\n",
       " '5.8,2.7,5.1,1.9,Iris-virginica',\n",
       " '6.8,3.2,5.9,2.3,Iris-virginica',\n",
       " '6.7,3.3,5.7,2.5,Iris-virginica',\n",
       " '6.7,3.0,5.2,2.3,Iris-virginica',\n",
       " '6.3,2.5,5.0,1.9,Iris-virginica',\n",
       " '6.5,3.0,5.2,2.0,Iris-virginica',\n",
       " '6.2,3.4,5.4,2.3,Iris-virginica',\n",
       " '5.9,3.0,5.1,1.8,Iris-virginica']"
      ]
     },
     "execution_count": 197,
     "metadata": {},
     "output_type": "execute_result"
    }
   ],
   "source": [
    "[re.sub('Iris-setosa', 'Iris-Setosa', line) for line in iris if line]"
   ]
  },
  {
   "cell_type": "code",
   "execution_count": 198,
   "id": "1a21f800",
   "metadata": {},
   "outputs": [
    {
     "data": {
      "text/plain": [
       "['5.1,3.5,1.4,0.2,Iris-setosa',\n",
       " '4.9,3.0,1.4,0.2,Iris-setosa',\n",
       " '4.7,3.2,1.3,0.2,Iris-setosa',\n",
       " '4.6,3.1,1.5,0.2,Iris-setosa',\n",
       " '5.0,3.6,1.4,0.2,Iris-setosa',\n",
       " '5.4,3.9,1.7,0.4,Iris-setosa',\n",
       " '4.6,3.4,1.4,0.3,Iris-setosa',\n",
       " '5.0,3.4,1.5,0.2,Iris-setosa',\n",
       " '4.4,2.9,1.4,0.2,Iris-setosa',\n",
       " '4.9,3.1,1.5,0.1,Iris-setosa',\n",
       " '5.4,3.7,1.5,0.2,Iris-setosa',\n",
       " '4.8,3.4,1.6,0.2,Iris-setosa',\n",
       " '4.8,3.0,1.4,0.1,Iris-setosa',\n",
       " '4.3,3.0,1.1,0.1,Iris-setosa',\n",
       " '5.8,4.0,1.2,0.2,Iris-setosa',\n",
       " '5.7,4.4,1.5,0.4,Iris-setosa',\n",
       " '5.4,3.9,1.3,0.4,Iris-setosa',\n",
       " '5.1,3.5,1.4,0.3,Iris-setosa',\n",
       " '5.7,3.8,1.7,0.3,Iris-setosa',\n",
       " '5.1,3.8,1.5,0.3,Iris-setosa',\n",
       " '5.4,3.4,1.7,0.2,Iris-setosa',\n",
       " '5.1,3.7,1.5,0.4,Iris-setosa',\n",
       " '4.6,3.6,1.0,0.2,Iris-setosa',\n",
       " '5.1,3.3,1.7,0.5,Iris-setosa',\n",
       " '4.8,3.4,1.9,0.2,Iris-setosa',\n",
       " '5.0,3.0,1.6,0.2,Iris-setosa',\n",
       " '5.0,3.4,1.6,0.4,Iris-setosa',\n",
       " '5.2,3.5,1.5,0.2,Iris-setosa',\n",
       " '5.2,3.4,1.4,0.2,Iris-setosa',\n",
       " '4.7,3.2,1.6,0.2,Iris-setosa',\n",
       " '4.8,3.1,1.6,0.2,Iris-setosa',\n",
       " '5.4,3.4,1.5,0.4,Iris-setosa',\n",
       " '5.2,4.1,1.5,0.1,Iris-setosa',\n",
       " '5.5,4.2,1.4,0.2,Iris-setosa',\n",
       " '4.9,3.1,1.5,0.1,Iris-setosa',\n",
       " '5.0,3.2,1.2,0.2,Iris-setosa',\n",
       " '5.5,3.5,1.3,0.2,Iris-setosa',\n",
       " '4.9,3.1,1.5,0.1,Iris-setosa',\n",
       " '4.4,3.0,1.3,0.2,Iris-setosa',\n",
       " '5.1,3.4,1.5,0.2,Iris-setosa',\n",
       " '5.0,3.5,1.3,0.3,Iris-setosa',\n",
       " '4.5,2.3,1.3,0.3,Iris-setosa',\n",
       " '4.4,3.2,1.3,0.2,Iris-setosa',\n",
       " '5.0,3.5,1.6,0.6,Iris-setosa',\n",
       " '5.1,3.8,1.9,0.4,Iris-setosa',\n",
       " '4.8,3.0,1.4,0.3,Iris-setosa',\n",
       " '5.1,3.8,1.6,0.2,Iris-setosa',\n",
       " '4.6,3.2,1.4,0.2,Iris-setosa',\n",
       " '5.3,3.7,1.5,0.2,Iris-setosa',\n",
       " '5.0,3.3,1.4,0.2,Iris-setosa',\n",
       " '7.0,3.2,4.7,1.4,Iris-versicolor',\n",
       " '6.4,3.2,4.5,1.5,Iris-versicolor',\n",
       " '6.9,3.1,4.9,1.5,Iris-versicolor',\n",
       " '5.5,2.3,4.0,1.3,Iris-versicolor',\n",
       " '6.5,2.8,4.6,1.5,Iris-versicolor',\n",
       " '5.7,2.8,4.5,1.3,Iris-versicolor',\n",
       " '6.3,3.3,4.7,1.6,Iris-versicolor',\n",
       " '4.9,2.4,3.3,1.0,Iris-versicolor',\n",
       " '6.6,2.9,4.6,1.3,Iris-versicolor',\n",
       " '5.2,2.7,3.9,1.4,Iris-versicolor',\n",
       " '5.0,2.0,3.5,1.0,Iris-versicolor',\n",
       " '5.9,3.0,4.2,1.5,Iris-versicolor',\n",
       " '6.0,2.2,4.0,1.0,Iris-versicolor',\n",
       " '6.1,2.9,4.7,1.4,Iris-versicolor',\n",
       " '5.6,2.9,3.6,1.3,Iris-versicolor',\n",
       " '6.7,3.1,4.4,1.4,Iris-versicolor',\n",
       " '5.6,3.0,4.5,1.5,Iris-versicolor',\n",
       " '5.8,2.7,4.1,1.0,Iris-versicolor',\n",
       " '6.2,2.2,4.5,1.5,Iris-versicolor',\n",
       " '5.6,2.5,3.9,1.1,Iris-versicolor',\n",
       " '5.9,3.2,4.8,1.8,Iris-versicolor',\n",
       " '6.1,2.8,4.0,1.3,Iris-versicolor',\n",
       " '6.3,2.5,4.9,1.5,Iris-versicolor',\n",
       " '6.1,2.8,4.7,1.2,Iris-versicolor',\n",
       " '6.4,2.9,4.3,1.3,Iris-versicolor',\n",
       " '6.6,3.0,4.4,1.4,Iris-versicolor',\n",
       " '6.8,2.8,4.8,1.4,Iris-versicolor',\n",
       " '6.7,3.0,5.0,1.7,Iris-versicolor',\n",
       " '6.0,2.9,4.5,1.5,Iris-versicolor',\n",
       " '5.7,2.6,3.5,1.0,Iris-versicolor',\n",
       " '5.5,2.4,3.8,1.1,Iris-versicolor',\n",
       " '5.5,2.4,3.7,1.0,Iris-versicolor',\n",
       " '5.8,2.7,3.9,1.2,Iris-versicolor',\n",
       " '6.0,2.7,5.1,1.6,Iris-versicolor',\n",
       " '5.4,3.0,4.5,1.5,Iris-versicolor',\n",
       " '6.0,3.4,4.5,1.6,Iris-versicolor',\n",
       " '6.7,3.1,4.7,1.5,Iris-versicolor',\n",
       " '6.3,2.3,4.4,1.3,Iris-versicolor',\n",
       " '5.6,3.0,4.1,1.3,Iris-versicolor',\n",
       " '5.5,2.5,4.0,1.3,Iris-versicolor',\n",
       " '5.5,2.6,4.4,1.2,Iris-versicolor',\n",
       " '6.1,3.0,4.6,1.4,Iris-versicolor',\n",
       " '5.8,2.6,4.0,1.2,Iris-versicolor',\n",
       " '5.0,2.3,3.3,1.0,Iris-versicolor',\n",
       " '5.6,2.7,4.2,1.3,Iris-versicolor',\n",
       " '5.7,3.0,4.2,1.2,Iris-versicolor',\n",
       " '5.7,2.9,4.2,1.3,Iris-versicolor',\n",
       " '6.2,2.9,4.3,1.3,Iris-versicolor',\n",
       " '5.1,2.5,3.0,1.1,Iris-versicolor',\n",
       " '5.7,2.8,4.1,1.3,Iris-versicolor',\n",
       " '6.3,3.3,6.0,2.5,Iris-virginica',\n",
       " '5.8,2.7,5.1,1.9,Iris-virginica',\n",
       " '7.1,3.0,5.9,2.1,Iris-virginica',\n",
       " '6.3,2.9,5.6,1.8,Iris-virginica',\n",
       " '6.5,3.0,5.8,2.2,Iris-virginica',\n",
       " '7.6,3.0,6.6,2.1,Iris-virginica',\n",
       " '4.9,2.5,4.5,1.7,Iris-virginica',\n",
       " '7.3,2.9,6.3,1.8,Iris-virginica',\n",
       " '6.7,2.5,5.8,1.8,Iris-virginica',\n",
       " '7.2,3.6,6.1,2.5,Iris-virginica',\n",
       " '6.5,3.2,5.1,2.0,Iris-virginica',\n",
       " '6.4,2.7,5.3,1.9,Iris-virginica',\n",
       " '6.8,3.0,5.5,2.1,Iris-virginica',\n",
       " '5.7,2.5,5.0,2.0,Iris-virginica',\n",
       " '5.8,2.8,5.1,2.4,Iris-virginica',\n",
       " '6.4,3.2,5.3,2.3,Iris-virginica',\n",
       " '6.5,3.0,5.5,1.8,Iris-virginica',\n",
       " '7.7,3.8,6.7,2.2,Iris-virginica',\n",
       " '7.7,2.6,6.9,2.3,Iris-virginica',\n",
       " '6.0,2.2,5.0,1.5,Iris-virginica',\n",
       " '6.9,3.2,5.7,2.3,Iris-virginica',\n",
       " '5.6,2.8,4.9,2.0,Iris-virginica',\n",
       " '7.7,2.8,6.7,2.0,Iris-virginica',\n",
       " '6.3,2.7,4.9,1.8,Iris-virginica',\n",
       " '6.7,3.3,5.7,2.1,Iris-virginica',\n",
       " '7.2,3.2,6.0,1.8,Iris-virginica',\n",
       " '6.2,2.8,4.8,1.8,Iris-virginica',\n",
       " '6.1,3.0,4.9,1.8,Iris-virginica',\n",
       " '6.4,2.8,5.6,2.1,Iris-virginica',\n",
       " '7.2,3.0,5.8,1.6,Iris-virginica',\n",
       " '7.4,2.8,6.1,1.9,Iris-virginica',\n",
       " '7.9,3.8,6.4,2.0,Iris-virginica',\n",
       " '6.4,2.8,5.6,2.2,Iris-virginica',\n",
       " '6.3,2.8,5.1,1.5,Iris-virginica',\n",
       " '6.1,2.6,5.6,1.4,Iris-virginica',\n",
       " '7.7,3.0,6.1,2.3,Iris-virginica',\n",
       " '6.3,3.4,5.6,2.4,Iris-virginica',\n",
       " '6.4,3.1,5.5,1.8,Iris-virginica',\n",
       " '6.0,3.0,4.8,1.8,Iris-virginica',\n",
       " '6.9,3.1,5.4,2.1,Iris-virginica',\n",
       " '6.7,3.1,5.6,2.4,Iris-virginica',\n",
       " '6.9,3.1,5.1,2.3,Iris-virginica',\n",
       " '5.8,2.7,5.1,1.9,Iris-virginica',\n",
       " '6.8,3.2,5.9,2.3,Iris-virginica',\n",
       " '6.7,3.3,5.7,2.5,Iris-virginica',\n",
       " '6.7,3.0,5.2,2.3,Iris-virginica',\n",
       " '6.3,2.5,5.0,1.9,Iris-virginica',\n",
       " '6.5,3.0,5.2,2.0,Iris-virginica',\n",
       " '6.2,3.4,5.4,2.3,Iris-virginica',\n",
       " '5.9,3.0,5.1,1.8,Iris-virginica',\n",
       " '']"
      ]
     },
     "execution_count": 198,
     "metadata": {},
     "output_type": "execute_result"
    }
   ],
   "source": [
    "iris"
   ]
  },
  {
   "cell_type": "code",
   "execution_count": 199,
   "id": "44e36971",
   "metadata": {},
   "outputs": [
    {
     "data": {
      "text/plain": [
       "['5.1,3.5,1.4,0.2,Iris-setosa',\n",
       " '4.9,3.0,1.4,0.2,Iris-setosa',\n",
       " '4.7,3.2,1.3,0.2,Iris-setosa',\n",
       " '4.6,3.1,1.5,0.2,Iris-setosa',\n",
       " '5.0,3.6,1.4,0.2,Iris-setosa',\n",
       " '5.4,3.9,1.7,0.4,Iris-setosa',\n",
       " '4.6,3.4,1.4,0.3,Iris-setosa',\n",
       " '5.0,3.4,1.5,0.2,Iris-setosa',\n",
       " '4.4,2.9,1.4,0.2,Iris-setosa',\n",
       " '4.9,3.1,1.5,0.1,Iris-setosa',\n",
       " '5.4,3.7,1.5,0.2,Iris-setosa',\n",
       " '4.8,3.4,1.6,0.2,Iris-setosa',\n",
       " '4.8,3.0,1.4,0.1,Iris-setosa',\n",
       " '4.3,3.0,1.1,0.1,Iris-setosa',\n",
       " '5.8,4.0,1.2,0.2,Iris-setosa',\n",
       " '5.7,4.4,1.5,0.4,Iris-setosa',\n",
       " '5.4,3.9,1.3,0.4,Iris-setosa',\n",
       " '5.1,3.5,1.4,0.3,Iris-setosa',\n",
       " '5.7,3.8,1.7,0.3,Iris-setosa',\n",
       " '5.1,3.8,1.5,0.3,Iris-setosa',\n",
       " '5.4,3.4,1.7,0.2,Iris-setosa',\n",
       " '5.1,3.7,1.5,0.4,Iris-setosa',\n",
       " '4.6,3.6,1.0,0.2,Iris-setosa',\n",
       " '5.1,3.3,1.7,0.5,Iris-setosa',\n",
       " '4.8,3.4,1.9,0.2,Iris-setosa',\n",
       " '5.0,3.0,1.6,0.2,Iris-setosa',\n",
       " '5.0,3.4,1.6,0.4,Iris-setosa',\n",
       " '5.2,3.5,1.5,0.2,Iris-setosa',\n",
       " '5.2,3.4,1.4,0.2,Iris-setosa',\n",
       " '4.7,3.2,1.6,0.2,Iris-setosa',\n",
       " '4.8,3.1,1.6,0.2,Iris-setosa',\n",
       " '5.4,3.4,1.5,0.4,Iris-setosa',\n",
       " '5.2,4.1,1.5,0.1,Iris-setosa',\n",
       " '5.5,4.2,1.4,0.2,Iris-setosa',\n",
       " '4.9,3.1,1.5,0.1,Iris-setosa',\n",
       " '5.0,3.2,1.2,0.2,Iris-setosa',\n",
       " '5.5,3.5,1.3,0.2,Iris-setosa',\n",
       " '4.9,3.1,1.5,0.1,Iris-setosa',\n",
       " '4.4,3.0,1.3,0.2,Iris-setosa',\n",
       " '5.1,3.4,1.5,0.2,Iris-setosa',\n",
       " '5.0,3.5,1.3,0.3,Iris-setosa',\n",
       " '4.5,2.3,1.3,0.3,Iris-setosa',\n",
       " '4.4,3.2,1.3,0.2,Iris-setosa',\n",
       " '5.0,3.5,1.6,0.6,Iris-setosa',\n",
       " '5.1,3.8,1.9,0.4,Iris-setosa',\n",
       " '4.8,3.0,1.4,0.3,Iris-setosa',\n",
       " '5.1,3.8,1.6,0.2,Iris-setosa',\n",
       " '4.6,3.2,1.4,0.2,Iris-setosa',\n",
       " '5.3,3.7,1.5,0.2,Iris-setosa',\n",
       " '5.0,3.3,1.4,0.2,Iris-setosa',\n",
       " '7.0,3.2,4.7,1.4,Iris-versicolor',\n",
       " '6.4,3.2,4.5,1.5,Iris-versicolor',\n",
       " '6.9,3.1,4.9,1.5,Iris-versicolor',\n",
       " '5.5,2.3,4.0,1.3,Iris-versicolor',\n",
       " '6.5,2.8,4.6,1.5,Iris-versicolor',\n",
       " '5.7,2.8,4.5,1.3,Iris-versicolor',\n",
       " '6.3,3.3,4.7,1.6,Iris-versicolor',\n",
       " '4.9,2.4,3.3,1.0,Iris-versicolor',\n",
       " '6.6,2.9,4.6,1.3,Iris-versicolor',\n",
       " '5.2,2.7,3.9,1.4,Iris-versicolor',\n",
       " '5.0,2.0,3.5,1.0,Iris-versicolor',\n",
       " '5.9,3.0,4.2,1.5,Iris-versicolor',\n",
       " '6.0,2.2,4.0,1.0,Iris-versicolor',\n",
       " '6.1,2.9,4.7,1.4,Iris-versicolor',\n",
       " '5.6,2.9,3.6,1.3,Iris-versicolor',\n",
       " '6.7,3.1,4.4,1.4,Iris-versicolor',\n",
       " '5.6,3.0,4.5,1.5,Iris-versicolor',\n",
       " '5.8,2.7,4.1,1.0,Iris-versicolor',\n",
       " '6.2,2.2,4.5,1.5,Iris-versicolor',\n",
       " '5.6,2.5,3.9,1.1,Iris-versicolor',\n",
       " '5.9,3.2,4.8,1.8,Iris-versicolor',\n",
       " '6.1,2.8,4.0,1.3,Iris-versicolor',\n",
       " '6.3,2.5,4.9,1.5,Iris-versicolor',\n",
       " '6.1,2.8,4.7,1.2,Iris-versicolor',\n",
       " '6.4,2.9,4.3,1.3,Iris-versicolor',\n",
       " '6.6,3.0,4.4,1.4,Iris-versicolor',\n",
       " '6.8,2.8,4.8,1.4,Iris-versicolor',\n",
       " '6.7,3.0,5.0,1.7,Iris-versicolor',\n",
       " '6.0,2.9,4.5,1.5,Iris-versicolor',\n",
       " '5.7,2.6,3.5,1.0,Iris-versicolor',\n",
       " '5.5,2.4,3.8,1.1,Iris-versicolor',\n",
       " '5.5,2.4,3.7,1.0,Iris-versicolor',\n",
       " '5.8,2.7,3.9,1.2,Iris-versicolor',\n",
       " '6.0,2.7,5.1,1.6,Iris-versicolor',\n",
       " '5.4,3.0,4.5,1.5,Iris-versicolor',\n",
       " '6.0,3.4,4.5,1.6,Iris-versicolor',\n",
       " '6.7,3.1,4.7,1.5,Iris-versicolor',\n",
       " '6.3,2.3,4.4,1.3,Iris-versicolor',\n",
       " '5.6,3.0,4.1,1.3,Iris-versicolor',\n",
       " '5.5,2.5,4.0,1.3,Iris-versicolor',\n",
       " '5.5,2.6,4.4,1.2,Iris-versicolor',\n",
       " '6.1,3.0,4.6,1.4,Iris-versicolor',\n",
       " '5.8,2.6,4.0,1.2,Iris-versicolor',\n",
       " '5.0,2.3,3.3,1.0,Iris-versicolor',\n",
       " '5.6,2.7,4.2,1.3,Iris-versicolor',\n",
       " '5.7,3.0,4.2,1.2,Iris-versicolor',\n",
       " '5.7,2.9,4.2,1.3,Iris-versicolor',\n",
       " '6.2,2.9,4.3,1.3,Iris-versicolor',\n",
       " '5.1,2.5,3.0,1.1,Iris-versicolor',\n",
       " '5.7,2.8,4.1,1.3,Iris-versicolor',\n",
       " '6.3,3.3,6.0,2.5,Iris-Virginica',\n",
       " '5.8,2.7,5.1,1.9,Iris-Virginica',\n",
       " '7.1,3.0,5.9,2.1,Iris-Virginica',\n",
       " '6.3,2.9,5.6,1.8,Iris-Virginica',\n",
       " '6.5,3.0,5.8,2.2,Iris-Virginica',\n",
       " '7.6,3.0,6.6,2.1,Iris-Virginica',\n",
       " '4.9,2.5,4.5,1.7,Iris-Virginica',\n",
       " '7.3,2.9,6.3,1.8,Iris-Virginica',\n",
       " '6.7,2.5,5.8,1.8,Iris-Virginica',\n",
       " '7.2,3.6,6.1,2.5,Iris-Virginica',\n",
       " '6.5,3.2,5.1,2.0,Iris-Virginica',\n",
       " '6.4,2.7,5.3,1.9,Iris-Virginica',\n",
       " '6.8,3.0,5.5,2.1,Iris-Virginica',\n",
       " '5.7,2.5,5.0,2.0,Iris-Virginica',\n",
       " '5.8,2.8,5.1,2.4,Iris-Virginica',\n",
       " '6.4,3.2,5.3,2.3,Iris-Virginica',\n",
       " '6.5,3.0,5.5,1.8,Iris-Virginica',\n",
       " '7.7,3.8,6.7,2.2,Iris-Virginica',\n",
       " '7.7,2.6,6.9,2.3,Iris-Virginica',\n",
       " '6.0,2.2,5.0,1.5,Iris-Virginica',\n",
       " '6.9,3.2,5.7,2.3,Iris-Virginica',\n",
       " '5.6,2.8,4.9,2.0,Iris-Virginica',\n",
       " '7.7,2.8,6.7,2.0,Iris-Virginica',\n",
       " '6.3,2.7,4.9,1.8,Iris-Virginica',\n",
       " '6.7,3.3,5.7,2.1,Iris-Virginica',\n",
       " '7.2,3.2,6.0,1.8,Iris-Virginica',\n",
       " '6.2,2.8,4.8,1.8,Iris-Virginica',\n",
       " '6.1,3.0,4.9,1.8,Iris-Virginica',\n",
       " '6.4,2.8,5.6,2.1,Iris-Virginica',\n",
       " '7.2,3.0,5.8,1.6,Iris-Virginica',\n",
       " '7.4,2.8,6.1,1.9,Iris-Virginica',\n",
       " '7.9,3.8,6.4,2.0,Iris-Virginica',\n",
       " '6.4,2.8,5.6,2.2,Iris-Virginica',\n",
       " '6.3,2.8,5.1,1.5,Iris-Virginica',\n",
       " '6.1,2.6,5.6,1.4,Iris-Virginica',\n",
       " '7.7,3.0,6.1,2.3,Iris-Virginica',\n",
       " '6.3,3.4,5.6,2.4,Iris-Virginica',\n",
       " '6.4,3.1,5.5,1.8,Iris-Virginica',\n",
       " '6.0,3.0,4.8,1.8,Iris-Virginica',\n",
       " '6.9,3.1,5.4,2.1,Iris-Virginica',\n",
       " '6.7,3.1,5.6,2.4,Iris-Virginica',\n",
       " '6.9,3.1,5.1,2.3,Iris-Virginica',\n",
       " '5.8,2.7,5.1,1.9,Iris-Virginica',\n",
       " '6.8,3.2,5.9,2.3,Iris-Virginica',\n",
       " '6.7,3.3,5.7,2.5,Iris-Virginica',\n",
       " '6.7,3.0,5.2,2.3,Iris-Virginica',\n",
       " '6.3,2.5,5.0,1.9,Iris-Virginica',\n",
       " '6.5,3.0,5.2,2.0,Iris-Virginica',\n",
       " '6.2,3.4,5.4,2.3,Iris-Virginica',\n",
       " '5.9,3.0,5.1,1.8,Iris-Virginica']"
      ]
     },
     "execution_count": 199,
     "metadata": {},
     "output_type": "execute_result"
    }
   ],
   "source": [
    "[re.sub('Iris-setosa', 'Iris-Setosa', line) for line in iris if line]\n",
    "[re.sub('Iris-versicolor', 'Iris-Versicolor', line) for line in iris if line]\n",
    "[re.sub('Iris-virginica', 'Iris-Virginica', line) for line in iris if line]"
   ]
  },
  {
   "cell_type": "code",
   "execution_count": 206,
   "id": "53f7e87c",
   "metadata": {},
   "outputs": [],
   "source": [
    "astring  = iris[67]"
   ]
  },
  {
   "cell_type": "code",
   "execution_count": 207,
   "id": "adef235e",
   "metadata": {},
   "outputs": [],
   "source": [
    "astring\n",
    "newString = astring.split('-')"
   ]
  },
  {
   "cell_type": "code",
   "execution_count": 208,
   "id": "2dda4382",
   "metadata": {},
   "outputs": [],
   "source": [
    "word  = newString[0] + '-' + newString[1].capitalize()"
   ]
  },
  {
   "cell_type": "code",
   "execution_count": 209,
   "id": "9c6dd61b",
   "metadata": {},
   "outputs": [
    {
     "data": {
      "text/plain": [
       "'5.8,2.7,4.1,1.0,Iris-Versicolor'"
      ]
     },
     "execution_count": 209,
     "metadata": {},
     "output_type": "execute_result"
    }
   ],
   "source": [
    "word"
   ]
  },
  {
   "cell_type": "code",
   "execution_count": 215,
   "id": "76662517",
   "metadata": {},
   "outputs": [
    {
     "data": {
      "text/plain": [
       "['5.1,3.5,1.4,0.2,Iris-Setosa',\n",
       " '4.9,3.0,1.4,0.2,Iris-Setosa',\n",
       " '4.7,3.2,1.3,0.2,Iris-Setosa',\n",
       " '4.6,3.1,1.5,0.2,Iris-Setosa',\n",
       " '5.0,3.6,1.4,0.2,Iris-Setosa',\n",
       " '5.4,3.9,1.7,0.4,Iris-Setosa',\n",
       " '4.6,3.4,1.4,0.3,Iris-Setosa',\n",
       " '5.0,3.4,1.5,0.2,Iris-Setosa',\n",
       " '4.4,2.9,1.4,0.2,Iris-Setosa',\n",
       " '4.9,3.1,1.5,0.1,Iris-Setosa',\n",
       " '5.4,3.7,1.5,0.2,Iris-Setosa',\n",
       " '4.8,3.4,1.6,0.2,Iris-Setosa',\n",
       " '4.8,3.0,1.4,0.1,Iris-Setosa',\n",
       " '4.3,3.0,1.1,0.1,Iris-Setosa',\n",
       " '5.8,4.0,1.2,0.2,Iris-Setosa',\n",
       " '5.7,4.4,1.5,0.4,Iris-Setosa',\n",
       " '5.4,3.9,1.3,0.4,Iris-Setosa',\n",
       " '5.1,3.5,1.4,0.3,Iris-Setosa',\n",
       " '5.7,3.8,1.7,0.3,Iris-Setosa',\n",
       " '5.1,3.8,1.5,0.3,Iris-Setosa',\n",
       " '5.4,3.4,1.7,0.2,Iris-Setosa',\n",
       " '5.1,3.7,1.5,0.4,Iris-Setosa',\n",
       " '4.6,3.6,1.0,0.2,Iris-Setosa',\n",
       " '5.1,3.3,1.7,0.5,Iris-Setosa',\n",
       " '4.8,3.4,1.9,0.2,Iris-Setosa',\n",
       " '5.0,3.0,1.6,0.2,Iris-Setosa',\n",
       " '5.0,3.4,1.6,0.4,Iris-Setosa',\n",
       " '5.2,3.5,1.5,0.2,Iris-Setosa',\n",
       " '5.2,3.4,1.4,0.2,Iris-Setosa',\n",
       " '4.7,3.2,1.6,0.2,Iris-Setosa',\n",
       " '4.8,3.1,1.6,0.2,Iris-Setosa',\n",
       " '5.4,3.4,1.5,0.4,Iris-Setosa',\n",
       " '5.2,4.1,1.5,0.1,Iris-Setosa',\n",
       " '5.5,4.2,1.4,0.2,Iris-Setosa',\n",
       " '4.9,3.1,1.5,0.1,Iris-Setosa',\n",
       " '5.0,3.2,1.2,0.2,Iris-Setosa',\n",
       " '5.5,3.5,1.3,0.2,Iris-Setosa',\n",
       " '4.9,3.1,1.5,0.1,Iris-Setosa',\n",
       " '4.4,3.0,1.3,0.2,Iris-Setosa',\n",
       " '5.1,3.4,1.5,0.2,Iris-Setosa',\n",
       " '5.0,3.5,1.3,0.3,Iris-Setosa',\n",
       " '4.5,2.3,1.3,0.3,Iris-Setosa',\n",
       " '4.4,3.2,1.3,0.2,Iris-Setosa',\n",
       " '5.0,3.5,1.6,0.6,Iris-Setosa',\n",
       " '5.1,3.8,1.9,0.4,Iris-Setosa',\n",
       " '4.8,3.0,1.4,0.3,Iris-Setosa',\n",
       " '5.1,3.8,1.6,0.2,Iris-Setosa',\n",
       " '4.6,3.2,1.4,0.2,Iris-Setosa',\n",
       " '5.3,3.7,1.5,0.2,Iris-Setosa',\n",
       " '5.0,3.3,1.4,0.2,Iris-Setosa',\n",
       " '7.0,3.2,4.7,1.4,Iris-Versicolor',\n",
       " '6.4,3.2,4.5,1.5,Iris-Versicolor',\n",
       " '6.9,3.1,4.9,1.5,Iris-Versicolor',\n",
       " '5.5,2.3,4.0,1.3,Iris-Versicolor',\n",
       " '6.5,2.8,4.6,1.5,Iris-Versicolor',\n",
       " '5.7,2.8,4.5,1.3,Iris-Versicolor',\n",
       " '6.3,3.3,4.7,1.6,Iris-Versicolor',\n",
       " '4.9,2.4,3.3,1.0,Iris-Versicolor',\n",
       " '6.6,2.9,4.6,1.3,Iris-Versicolor',\n",
       " '5.2,2.7,3.9,1.4,Iris-Versicolor',\n",
       " '5.0,2.0,3.5,1.0,Iris-Versicolor',\n",
       " '5.9,3.0,4.2,1.5,Iris-Versicolor',\n",
       " '6.0,2.2,4.0,1.0,Iris-Versicolor',\n",
       " '6.1,2.9,4.7,1.4,Iris-Versicolor',\n",
       " '5.6,2.9,3.6,1.3,Iris-Versicolor',\n",
       " '6.7,3.1,4.4,1.4,Iris-Versicolor',\n",
       " '5.6,3.0,4.5,1.5,Iris-Versicolor',\n",
       " '5.8,2.7,4.1,1.0,Iris-Versicolor',\n",
       " '6.2,2.2,4.5,1.5,Iris-Versicolor',\n",
       " '5.6,2.5,3.9,1.1,Iris-Versicolor',\n",
       " '5.9,3.2,4.8,1.8,Iris-Versicolor',\n",
       " '6.1,2.8,4.0,1.3,Iris-Versicolor',\n",
       " '6.3,2.5,4.9,1.5,Iris-Versicolor',\n",
       " '6.1,2.8,4.7,1.2,Iris-Versicolor',\n",
       " '6.4,2.9,4.3,1.3,Iris-Versicolor',\n",
       " '6.6,3.0,4.4,1.4,Iris-Versicolor',\n",
       " '6.8,2.8,4.8,1.4,Iris-Versicolor',\n",
       " '6.7,3.0,5.0,1.7,Iris-Versicolor',\n",
       " '6.0,2.9,4.5,1.5,Iris-Versicolor',\n",
       " '5.7,2.6,3.5,1.0,Iris-Versicolor',\n",
       " '5.5,2.4,3.8,1.1,Iris-Versicolor',\n",
       " '5.5,2.4,3.7,1.0,Iris-Versicolor',\n",
       " '5.8,2.7,3.9,1.2,Iris-Versicolor',\n",
       " '6.0,2.7,5.1,1.6,Iris-Versicolor',\n",
       " '5.4,3.0,4.5,1.5,Iris-Versicolor',\n",
       " '6.0,3.4,4.5,1.6,Iris-Versicolor',\n",
       " '6.7,3.1,4.7,1.5,Iris-Versicolor',\n",
       " '6.3,2.3,4.4,1.3,Iris-Versicolor',\n",
       " '5.6,3.0,4.1,1.3,Iris-Versicolor',\n",
       " '5.5,2.5,4.0,1.3,Iris-Versicolor',\n",
       " '5.5,2.6,4.4,1.2,Iris-Versicolor',\n",
       " '6.1,3.0,4.6,1.4,Iris-Versicolor',\n",
       " '5.8,2.6,4.0,1.2,Iris-Versicolor',\n",
       " '5.0,2.3,3.3,1.0,Iris-Versicolor',\n",
       " '5.6,2.7,4.2,1.3,Iris-Versicolor',\n",
       " '5.7,3.0,4.2,1.2,Iris-Versicolor',\n",
       " '5.7,2.9,4.2,1.3,Iris-Versicolor',\n",
       " '6.2,2.9,4.3,1.3,Iris-Versicolor',\n",
       " '5.1,2.5,3.0,1.1,Iris-Versicolor',\n",
       " '5.7,2.8,4.1,1.3,Iris-Versicolor',\n",
       " '6.3,3.3,6.0,2.5,Iris-Virginica',\n",
       " '5.8,2.7,5.1,1.9,Iris-Virginica',\n",
       " '7.1,3.0,5.9,2.1,Iris-Virginica',\n",
       " '6.3,2.9,5.6,1.8,Iris-Virginica',\n",
       " '6.5,3.0,5.8,2.2,Iris-Virginica',\n",
       " '7.6,3.0,6.6,2.1,Iris-Virginica',\n",
       " '4.9,2.5,4.5,1.7,Iris-Virginica',\n",
       " '7.3,2.9,6.3,1.8,Iris-Virginica',\n",
       " '6.7,2.5,5.8,1.8,Iris-Virginica',\n",
       " '7.2,3.6,6.1,2.5,Iris-Virginica',\n",
       " '6.5,3.2,5.1,2.0,Iris-Virginica',\n",
       " '6.4,2.7,5.3,1.9,Iris-Virginica',\n",
       " '6.8,3.0,5.5,2.1,Iris-Virginica',\n",
       " '5.7,2.5,5.0,2.0,Iris-Virginica',\n",
       " '5.8,2.8,5.1,2.4,Iris-Virginica',\n",
       " '6.4,3.2,5.3,2.3,Iris-Virginica',\n",
       " '6.5,3.0,5.5,1.8,Iris-Virginica',\n",
       " '7.7,3.8,6.7,2.2,Iris-Virginica',\n",
       " '7.7,2.6,6.9,2.3,Iris-Virginica',\n",
       " '6.0,2.2,5.0,1.5,Iris-Virginica',\n",
       " '6.9,3.2,5.7,2.3,Iris-Virginica',\n",
       " '5.6,2.8,4.9,2.0,Iris-Virginica',\n",
       " '7.7,2.8,6.7,2.0,Iris-Virginica',\n",
       " '6.3,2.7,4.9,1.8,Iris-Virginica',\n",
       " '6.7,3.3,5.7,2.1,Iris-Virginica',\n",
       " '7.2,3.2,6.0,1.8,Iris-Virginica',\n",
       " '6.2,2.8,4.8,1.8,Iris-Virginica',\n",
       " '6.1,3.0,4.9,1.8,Iris-Virginica',\n",
       " '6.4,2.8,5.6,2.1,Iris-Virginica',\n",
       " '7.2,3.0,5.8,1.6,Iris-Virginica',\n",
       " '7.4,2.8,6.1,1.9,Iris-Virginica',\n",
       " '7.9,3.8,6.4,2.0,Iris-Virginica',\n",
       " '6.4,2.8,5.6,2.2,Iris-Virginica',\n",
       " '6.3,2.8,5.1,1.5,Iris-Virginica',\n",
       " '6.1,2.6,5.6,1.4,Iris-Virginica',\n",
       " '7.7,3.0,6.1,2.3,Iris-Virginica',\n",
       " '6.3,3.4,5.6,2.4,Iris-Virginica',\n",
       " '6.4,3.1,5.5,1.8,Iris-Virginica',\n",
       " '6.0,3.0,4.8,1.8,Iris-Virginica',\n",
       " '6.9,3.1,5.4,2.1,Iris-Virginica',\n",
       " '6.7,3.1,5.6,2.4,Iris-Virginica',\n",
       " '6.9,3.1,5.1,2.3,Iris-Virginica',\n",
       " '5.8,2.7,5.1,1.9,Iris-Virginica',\n",
       " '6.8,3.2,5.9,2.3,Iris-Virginica',\n",
       " '6.7,3.3,5.7,2.5,Iris-Virginica',\n",
       " '6.7,3.0,5.2,2.3,Iris-Virginica',\n",
       " '6.3,2.5,5.0,1.9,Iris-Virginica',\n",
       " '6.5,3.0,5.2,2.0,Iris-Virginica',\n",
       " '6.2,3.4,5.4,2.3,Iris-Virginica',\n",
       " '5.9,3.0,5.1,1.8,Iris-Virginica',\n",
       " '']"
      ]
     },
     "execution_count": 215,
     "metadata": {},
     "output_type": "execute_result"
    }
   ],
   "source": [
    "for i in range(len(iris)-1):\n",
    "    astring  = iris[i]\n",
    "    newString = astring.split('-')\n",
    "    word  = newString[0] + '-' + newString[1].capitalize()\n",
    "    iris[i] = word\n",
    "    \n",
    "#print(iris)\n",
    "#type(iris)\n",
    "iris"
   ]
  },
  {
   "cell_type": "code",
   "execution_count": null,
   "id": "9a59baf3",
   "metadata": {},
   "outputs": [],
   "source": [
    "[re.sub('Iris-setosa', 'Iris-Setosa', line) for line in iris if line]\n",
    "[re.sub('Iris-versicolor', 'Iris-Versicolor', line) for line in iris if line]\n",
    "[re.sub('Iris-virginica', 'Iris-Virginica', line) for line in iris if linne"
   ]
  }
 ],
 "metadata": {
  "kernelspec": {
   "display_name": "Python 3 (ipykernel)",
   "language": "python",
   "name": "python3"
  },
  "language_info": {
   "codemirror_mode": {
    "name": "ipython",
    "version": 3
   },
   "file_extension": ".py",
   "mimetype": "text/x-python",
   "name": "python",
   "nbconvert_exporter": "python",
   "pygments_lexer": "ipython3",
   "version": "3.9.13"
  }
 },
 "nbformat": 4,
 "nbformat_minor": 5
}
