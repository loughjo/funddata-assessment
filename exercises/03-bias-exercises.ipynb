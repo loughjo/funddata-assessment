{
 "cells": [
  {
   "cell_type": "markdown",
   "id": "673ce35d",
   "metadata": {},
   "source": [
    "# Bias Exercises\n",
    "***"
   ]
  },
  {
   "cell_type": "markdown",
   "id": "4ddad5ff",
   "metadata": {},
   "source": [
    "## Cognitive Bias"
   ]
  },
  {
   "cell_type": "markdown",
   "id": "adc4c458",
   "metadata": {},
   "source": [
    "*The hope for informed gossip is that there are distinctive patterns in the errors people make. Systematic errors are known as biases, and they recur predictably in particular circumstances. When the handsome and confident speaker bounds onto the stage, for example, you can anticipate that the audience will judge his comments more favorably than he deserves. The availability of a diagnostic label for this bias—the halo effect—makes it easier to anticipate, recognize, and understand.*\n",
    "\n",
    "-- Kahneman; Thinking Fast and Slow"
   ]
  },
  {
   "cell_type": "markdown",
   "id": "bf9ba01c",
   "metadata": {},
   "source": [
    "## Exercise 1\n",
    "***"
   ]
  },
  {
   "cell_type": "markdown",
   "id": "110cdcb5",
   "metadata": {},
   "source": [
    "Remember to do these exercises in your own notebook in your assessment repository.\n",
    "\n",
    "Give three real-world examples of different types of cognitive bias."
   ]
  },
  {
   "cell_type": "markdown",
   "id": "54c45107",
   "metadata": {},
   "source": [
    "According to the cognitive bias codex there are 180 different types of cognitive biases. \n",
    "\n",
    "The three types of cognitive bias I will look at are :\n",
    "\n",
    "- *Anchoring bias* \n",
    "- *Overconfidence bias*\n",
    "- *Hindsight bias*\n",
    "\n",
    "***\n",
    "**Anchoring bias**<br>\n",
    "***\n",
    "Anchoring bias is when we rely too much about the first piece of information we are given about a topic.<br>\n",
    "\n",
    "**Example:**<br>\n",
    "Sometimes anchoring bias can happen when a Company is a hiring for a new role. When they are reviewing the C.Vs\n",
    "if the first candidate has a masters degree or a special certification it can influence the Hiring Manager.\n",
    "The masters degree may not be a requirement in the job specification or role but the hiring Manager may use it to compare against other candidates C.Vs. So, if a candidate does not have this special certification or masters degree they may not be considered for the role.  \n",
    "\n",
    "***\n",
    "**Overconfidence bias**\n",
    "***\n",
    "\n",
    "Overconfidence bias is a tendency of people to overestimate their skills and knowledge. In this way it can affect their decision making.\n",
    "\n",
    "**Example:**<br>\n",
    "This can happen in financial trading. A trader can get over confident in their trading skills as they get a few wins.\n",
    "Traders can then start to take more riskier decisions in the market believing they cannot fail as they know the market. This at the same time leads them to make poor decisions which results in their account suffering and under performance.  \n",
    "\n",
    "\n",
    "***\n",
    "**Hindsight bias**\n",
    "***\n",
    "\n",
    "It is known as the 'knew-it-all-along-affect'.<br>\n",
    "It's a tendency of people to view past events as being more predictable than they actually were.\n",
    "\n",
    "**Example:**<br>\n",
    "Hindsight bias happens alot in sports events. During the World Cup punters will say after a match that they knew all along that a certain team was going to win,. For example that Argentina were going to beat Holland or I knew a certain player was going to miss the penalty kick as he was too casual in his run upto the ball. \n"
   ]
  },
  {
   "cell_type": "markdown",
   "id": "7f5f665f",
   "metadata": {},
   "source": [
    "***\n",
    "## Exercise 2\n",
    "***"
   ]
  },
  {
   "cell_type": "markdown",
   "id": "d18abe3e",
   "metadata": {},
   "source": [
    "Remember to do these exercises in your own notebook in your assessment repository.\n",
    "\n",
    "Show that the difference between the standard deviation calculations is greatest for small sample sizes."
   ]
  },
  {
   "cell_type": "code",
   "execution_count": 89,
   "id": "bf04f0dc",
   "metadata": {},
   "outputs": [],
   "source": [
    "# Numerical arrays.\n",
    "import numpy as np\n",
    "\n",
    "# Plots.\n",
    "import matplotlib.pyplot as plt"
   ]
  },
  {
   "cell_type": "markdown",
   "id": "185d5130",
   "metadata": {},
   "source": [
    "For **Exercise 2** I will create a small random sample size and a large random sample size. This is to demonstrate that the larger the sample size the more accurate the results will be. For example if you were to get the mean grade for any subject in the Leaving Certificate if you were to take sample of one school you will not get a true reflection of the mean Population of grades. \n",
    "By getting a larger sample of grades from 100 schools you will get nearer to the Population mean. If your mean is not accurate this result in the variance and standard deviations not being accurate.\n"
   ]
  },
  {
   "cell_type": "code",
   "execution_count": 193,
   "id": "def10d64",
   "metadata": {
    "scrolled": true
   },
   "outputs": [
    {
     "data": {
      "text/plain": [
       "array([[ 4.61125084,  7.31630458,  3.1754149 ,  7.41396193,  3.69903564,\n",
       "         4.72075721,  3.65516128,  2.77029121,  0.71257563,  7.16285804,\n",
       "         4.87295166,  6.15311275,  3.04984108,  3.57530862,  3.79768362,\n",
       "        -0.11064507,  4.03179502,  4.49474685,  6.54323142,  5.58415393,\n",
       "         3.88406256,  5.04714043,  4.16034465,  7.82803374,  2.59927254,\n",
       "         3.64611933,  2.12254436,  4.31254485,  4.66402568,  4.20588367,\n",
       "         6.88505506,  9.00273396,  1.60377765,  5.16480432,  1.22987393,\n",
       "         3.93191289,  5.75667976,  7.56161928,  5.2195374 ,  6.07241356,\n",
       "         4.2711896 ,  5.43398828, -0.42269452,  3.72175302,  6.52480752,\n",
       "         4.79784687,  4.60478564,  5.00345878,  2.84797399,  4.85697347,\n",
       "         2.91395585,  6.34618073, 10.17156194,  1.52652263,  4.66512075,\n",
       "         2.48800135, 10.74730887,  4.69268619,  1.25048145,  5.42903671,\n",
       "         4.04013654,  4.69009105,  7.18884282,  6.25092261,  4.89088652,\n",
       "         3.09735023,  5.09363862,  6.29252241,  4.55549617,  5.63484147,\n",
       "         5.40216048,  7.16931582,  5.94305914,  7.01049417,  5.63921725,\n",
       "         5.50607633,  6.33265217,  5.14339442,  6.7076065 ,  5.40357113,\n",
       "         4.60480888,  4.55842826,  4.55288681,  4.92223788,  6.89929014,\n",
       "         5.70780972,  3.90480027,  6.55989551,  2.87812769,  6.24381899,\n",
       "         7.53846138,  5.60960505,  5.33211881,  7.16708101,  5.1769499 ,\n",
       "         6.47037479,  2.0816606 ,  6.14118181,  9.89107304,  5.62119136],\n",
       "       [ 0.8578941 ,  7.49559726,  7.35370374,  3.83619475,  5.26005698,\n",
       "         3.45618073,  2.96721335, 10.54848731,  4.05879212,  3.43447584,\n",
       "         5.86976822,  7.42842805,  5.1971685 ,  3.2321426 ,  4.46819119,\n",
       "         7.68795107,  5.71671786,  3.15588843,  4.25784318,  2.13182267,\n",
       "         4.93045537,  4.39897053,  7.02059664,  4.22533034,  5.72653266,\n",
       "         4.14436549,  2.55991297,  1.77897762,  4.18641234,  3.66120732,\n",
       "         4.27276402,  3.85367391,  5.06612424,  8.45884028,  7.40106797,\n",
       "         1.55360557,  5.29965198,  9.40284989,  2.00569547,  6.77767104,\n",
       "         3.61271725,  7.46794383,  5.92777344,  5.02426202,  6.48994737,\n",
       "         7.9976574 ,  8.52997868,  6.16979475,  4.62744885,  3.76450835,\n",
       "         5.88610417,  5.20599691,  4.02720618,  4.517368  ,  6.18644596,\n",
       "         3.66075303,  7.72918686,  4.99730582,  4.87211017,  2.46086928,\n",
       "         7.1626271 ,  4.04723514,  4.35091352,  5.91224449,  2.82579689,\n",
       "         7.10363095,  2.53989511,  6.39920776,  3.78067894,  3.33903436,\n",
       "         3.58315985,  6.61397228,  4.62510597,  5.72111848,  3.84008196,\n",
       "         7.06350038,  4.8009855 ,  5.83842361,  4.861416  ,  5.20180783,\n",
       "         1.92678624,  2.50155158,  6.84596403,  3.59887691,  2.55901896,\n",
       "         1.53130701,  8.40951439,  6.55278469,  6.8803398 ,  7.81089523,\n",
       "         5.59109503,  6.12092119,  5.35935379,  5.49668423, 10.59860048,\n",
       "         6.15017545,  2.15768197,  1.7926178 ,  1.74576162, 10.17139052],\n",
       "       [ 7.23478142,  2.88527272,  3.3228247 ,  4.41086105,  3.83259539,\n",
       "         5.95274576,  5.06186336,  4.24342972,  8.40991719,  4.31263913,\n",
       "         8.17146294,  7.74945521,  4.40257846,  1.80375973,  3.8499365 ,\n",
       "         3.82307502,  6.45832788,  2.70787239,  4.30229418,  4.85015023,\n",
       "         6.26002256,  3.56547961,  3.54688433,  3.8660628 ,  8.56871883,\n",
       "         7.56202209,  8.82673318,  4.98573045,  3.64910539,  6.83908702,\n",
       "         6.54350845,  8.19222064,  6.44038919,  2.78435681,  2.6354646 ,\n",
       "         4.75100808,  2.14102663,  6.06607738,  6.24678989,  6.30237878,\n",
       "         6.11398363,  3.48251753,  7.25388063,  7.37594388,  4.32695979,\n",
       "         4.84349859,  4.33091946,  4.68812414,  1.17739235,  4.76902255,\n",
       "         3.61694388,  6.30553549,  3.20972739,  4.82229001,  3.88221271,\n",
       "         5.01581032,  3.50227964,  3.66513717,  4.31793094,  7.6033527 ,\n",
       "         8.14690123,  8.25826343,  3.92337457,  3.80946765,  3.03984499,\n",
       "         6.33104264,  6.13016519,  2.74591912,  3.85368527,  3.17708965,\n",
       "         4.33309905,  4.26525468,  3.99191538,  8.56665202,  7.61653907,\n",
       "         2.01412192,  2.87552509,  6.02802123,  3.34342467,  7.72100889,\n",
       "         4.15867029,  4.14549796,  3.70933277,  6.36701027,  4.4794329 ,\n",
       "        10.79170643,  5.57708351,  4.86140427,  5.9228167 ,  6.11337914,\n",
       "         5.65105278,  2.04569688,  7.99890712,  4.03713827,  5.273684  ,\n",
       "         1.18607765,  4.29388516,  4.23418939,  6.47712572,  4.0034343 ],\n",
       "       [ 5.14306679,  5.08103849,  6.59423383,  4.88919065,  4.74870118,\n",
       "         8.11749389,  5.36141021,  3.99907441,  7.35094884,  7.93873446,\n",
       "         5.63762259,  1.39752185,  4.33629829,  8.52443185,  5.29871539,\n",
       "         6.61825575,  6.34904572,  6.8693872 ,  5.25600711,  5.72952264,\n",
       "         4.55288795,  5.9803089 ,  7.29352365,  4.8432361 ,  1.486395  ,\n",
       "         3.50631725,  5.58808866,  9.55352784,  6.19977111,  6.29476844,\n",
       "         4.33884355,  4.46968015,  6.89228537,  3.66070577,  4.16851258,\n",
       "         4.75698577,  8.55817086,  7.64181101,  3.45534657,  4.55098351,\n",
       "         5.65836157,  3.23232185,  4.00792858,  3.22030676,  6.0442553 ,\n",
       "         5.79502284,  5.80944042,  5.24655485,  0.96266839,  3.9130936 ,\n",
       "         6.52761774,  5.96658543,  3.49254462,  1.06757803,  5.44330275,\n",
       "         3.645227  ,  6.55417171,  2.48547793,  6.51319377,  5.26542248,\n",
       "         5.10146219,  1.47503328,  2.78227318,  3.17645607,  3.49563298,\n",
       "         5.40548723,  2.68593458,  3.84374052,  5.49662241,  3.21755093,\n",
       "         9.32680084,  1.89004869,  3.23632795,  3.61277067,  2.30707674,\n",
       "         1.09260221,  6.96409034,  6.34373977,  3.24954152,  9.04965884,\n",
       "         6.51963619,  6.85810234,  5.1581665 ,  4.98729086,  4.83590746,\n",
       "         4.95902137,  6.83029883,  4.27376989,  4.82448088,  3.53398761,\n",
       "         6.43095157,  6.37852618,  5.32971274,  7.43273408,  6.09125226,\n",
       "         4.60824648,  7.50080641,  4.71792017,  4.19316011,  4.67718158],\n",
       "       [ 6.81614209,  2.3864923 ,  4.18670094,  3.01448927,  3.40026786,\n",
       "         5.86974895,  5.29762412,  2.06419228,  3.48500331,  2.75262209,\n",
       "         5.96520847,  7.25794301,  6.42820679,  7.05121999,  8.33506667,\n",
       "         8.81321432,  2.38397511,  4.82543721,  5.42249865,  5.57997215,\n",
       "         4.99867144,  3.57307594,  7.14212857,  5.51279769,  3.83818672,\n",
       "         3.70587467,  3.10110146,  3.13614951,  4.57864406,  3.3328619 ,\n",
       "         6.9980352 ,  5.10498672,  6.18175446,  3.36981632,  5.75049347,\n",
       "         6.39992841,  4.66676804,  5.45441801,  6.14378222,  6.83994031,\n",
       "         7.80670555,  4.83314925,  6.44546119,  5.87704394,  3.93345915,\n",
       "         6.79806846,  2.43604885,  1.74959159,  0.53104736,  4.73022244,\n",
       "         4.18016999, -1.13365559,  4.76747353,  4.67522643,  5.54635861,\n",
       "         6.70178635,  3.41995315,  2.58612429,  6.37480311,  5.30406445,\n",
       "         4.72512403,  4.26872123,  4.30160594,  7.60336808,  4.28562941,\n",
       "         6.95478507,  3.35416219,  2.21951801,  8.34210068,  5.93317656,\n",
       "         7.65310129,  4.49323026,  5.44337679,  6.68102657,  2.37982315,\n",
       "         5.32629986,  4.55276464,  4.41907277,  4.70161932,  4.496331  ,\n",
       "         8.08115185,  5.15936515,  4.29083656,  0.1663155 ,  5.52171509,\n",
       "         7.44968874,  6.7083738 ,  3.12550375,  6.2537613 ,  2.8374933 ,\n",
       "         7.72763771,  5.4052031 ,  5.13603723,  6.33551169,  3.81711252,\n",
       "         7.04113961,  4.43229848,  6.63065232,  4.63226144,  3.22842724],\n",
       "       [ 5.06166852,  5.86693616,  5.69867133,  5.12273139,  3.75140219,\n",
       "         6.02949684,  3.20193467,  4.80007101,  7.71217679,  2.3119687 ,\n",
       "         2.21551948,  6.88680459,  5.90339821,  5.40137738,  7.43594514,\n",
       "         6.88242875,  6.34502515,  2.21800157,  1.88895214,  6.50348075,\n",
       "         4.26447249,  1.5825974 ,  3.50740694,  7.56515516,  2.41372575,\n",
       "         5.69937662,  6.21626211,  3.56876799,  1.63608506,  4.22368445,\n",
       "         2.86449395,  5.22943512,  3.09401316,  5.85927681,  1.19598723,\n",
       "         4.02356004,  5.32518279,  7.54334457,  6.45880361,  4.94375361,\n",
       "        10.01758124,  6.25883229,  4.33684991,  7.47387068,  4.95613544,\n",
       "         5.18936999,  5.28017351,  3.11675095,  6.05616379,  6.22847229,\n",
       "         4.21720098,  4.20729408,  3.00766922, -0.27839948,  5.23620271,\n",
       "         6.66995789,  5.29398626,  3.44967269,  6.24165714,  6.18649742,\n",
       "         5.49575196,  7.42429509,  3.41120614,  5.77385565,  6.69448283,\n",
       "         2.20223145,  3.46037928,  4.24120312,  3.75362582,  0.96873757,\n",
       "         4.46317285,  3.68005581,  3.31200515,  4.24256461,  0.92794621,\n",
       "         3.15533274,  6.29110051,  9.90200328,  2.53691013,  5.83346213,\n",
       "         5.81718343,  4.90240394,  4.86539408,  5.40486305,  5.77397853,\n",
       "         2.97062811,  5.45176695,  3.5122172 ,  3.50734443,  7.28884303,\n",
       "         2.38371233,  4.86648281,  1.78962189,  5.06151034,  4.69759941,\n",
       "         3.99274196,  4.28179646,  3.73226282,  4.3501636 ,  6.65996877],\n",
       "       [ 6.97575384,  4.05459755,  6.90745228,  7.42050426,  6.25134004,\n",
       "         0.79699297,  5.09453199,  1.93687421,  5.53926396,  1.05521903,\n",
       "         4.3147597 ,  5.31896749,  4.87378125,  5.32503255,  3.40460141,\n",
       "         8.80061856,  7.79165742,  4.39027814,  3.08634747,  4.66798217,\n",
       "         4.56501468,  6.49528893,  5.35963533,  2.31613749,  0.73358417,\n",
       "         4.00706649,  4.54206415,  3.20724498,  6.11242836,  4.26483809,\n",
       "         4.88361091,  4.93279265,  7.24824112,  7.19164428,  6.23213847,\n",
       "         6.55998381,  9.04773676,  4.36431234,  5.39312685,  3.36426981,\n",
       "         7.91286286,  5.51580532,  7.89575371,  6.27158108,  3.57406135,\n",
       "         4.78525049,  3.07229822,  1.89463524,  4.79742937,  2.51302685,\n",
       "         3.41316211,  3.71870209,  5.14551188,  6.9360041 ,  5.29469777,\n",
       "         0.34428578,  6.04897534,  2.96010088,  6.17419823,  5.29994566,\n",
       "         6.3518907 ,  5.37490558,  1.37292309,  5.35800849,  7.62047186,\n",
       "         5.23215186,  4.87285421,  0.43268717,  5.87830327,  8.98001031,\n",
       "         6.0437067 ,  6.93618214,  4.88483142,  7.28043906,  5.62661959,\n",
       "         3.87281881,  1.52195551,  8.23974685,  4.73974657,  3.41796828,\n",
       "         6.64199179,  5.51556246,  3.7922778 ,  4.78426405,  3.86273113,\n",
       "         5.16702543,  3.61268997,  4.68619877,  5.7453903 ,  5.81741691,\n",
       "         2.91585708,  6.98814354,  5.27100298,  6.15594818,  7.89315429,\n",
       "         6.61831773,  4.31615692,  8.48738314,  2.53971554,  2.28772398],\n",
       "       [ 8.71315452,  3.36995367,  6.09249875,  8.05568728,  2.71810434,\n",
       "         5.67194529,  2.83854623,  2.6161194 ,  6.53372256,  3.88130647,\n",
       "         7.16982437,  4.02163477,  5.19897971,  5.90488421,  6.27174146,\n",
       "         7.22622332,  6.76604479,  1.69286958,  6.20354145,  6.46349342,\n",
       "         9.61213463,  4.82135472,  7.94099498,  7.30678421,  0.27883276,\n",
       "         6.58314054,  7.89599337,  4.07206431,  3.34262788,  2.14654967,\n",
       "         4.3685872 ,  8.47522103,  4.52611582,  4.10796068,  3.43115754,\n",
       "         6.24151302,  5.659686  ,  5.30123153,  2.66212359,  8.37136135,\n",
       "         2.65449877,  7.11193603,  4.15989698,  4.33213141,  8.43582757,\n",
       "         4.62440935,  6.21085114,  7.45423781,  4.44790192, -0.54364133,\n",
       "         1.15064025,  6.10692759,  2.18762723,  3.39528151, 11.17613127,\n",
       "         4.70080541,  4.37607568,  4.90850577,  5.35102399,  7.30221174,\n",
       "         7.34928565,  3.87332385,  5.22778812,  4.57847028,  7.04139274,\n",
       "         3.67229768,  5.71552605,  5.30676904,  0.82645543,  6.91140217,\n",
       "         3.7450632 ,  5.2522693 ,  5.03579168,  3.86476888,  3.40872701,\n",
       "         4.45328145,  4.2143577 ,  5.57988673,  5.28548305,  5.65094848,\n",
       "         5.90143627,  3.86407752,  4.35284301,  3.787832  ,  4.85888376,\n",
       "         6.02613902,  4.4792643 ,  6.16167441,  7.29264959,  0.63205137,\n",
       "         4.2120475 ,  7.74738752,  3.11800418,  0.8547256 ,  7.15419094,\n",
       "         4.56035521,  4.77892358,  1.25176158,  4.5572843 ,  6.71169527],\n",
       "       [ 5.99881004,  3.29061909,  5.14391843,  5.03993359,  7.94042559,\n",
       "         7.08373634,  8.74366525,  2.62533706,  6.31112264,  3.38179184,\n",
       "         7.64667667,  4.10793065,  8.12764441,  3.99548734,  2.77362277,\n",
       "         5.08140905,  1.91806962,  4.49822594,  2.57220743,  8.23686559,\n",
       "         6.54264753,  2.79023649,  3.31465141,  5.82780751,  5.95422445,\n",
       "         6.13143089,  5.77260881,  1.36631881, -0.47441489,  3.93680847,\n",
       "         0.33944247, -0.86631397,  2.24671443,  4.97841081,  3.69562435,\n",
       "         7.84712538,  4.51340106,  3.16768926,  4.24418944,  8.03652413,\n",
       "         4.47921081,  6.10436777,  3.56559395, -0.98345856,  3.60782623,\n",
       "         4.80277674,  9.37070179,  6.11419063,  4.02960682,  3.92655846,\n",
       "         5.00654532,  5.95277338,  3.73770788,  4.78148053,  0.24755764,\n",
       "         5.82753164,  6.07715708,  5.5192077 ,  4.23581875,  5.50675992,\n",
       "         4.9989447 ,  4.74347116,  5.73028861,  4.73146041,  4.62360907,\n",
       "         5.2130697 ,  6.72509095,  3.38324835,  3.63334478,  4.77306821,\n",
       "         5.12277352,  3.25354263,  2.71365229,  6.04596339,  4.87623928,\n",
       "         4.88396257,  2.65878079,  4.01405299,  2.40357566,  8.11961105,\n",
       "         6.52074118,  5.91104171,  6.59577089,  1.71832395,  5.34641629,\n",
       "         7.95753767,  4.57743685,  1.96553236,  6.48653912,  6.6147714 ,\n",
       "         4.00023612,  1.92495607,  3.36139001,  3.50669341,  7.13300947,\n",
       "         3.80562751,  8.24641244,  1.85957397,  1.36724195,  4.08417736],\n",
       "       [ 3.20810899,  6.80003748,  5.96191089,  4.6307247 ,  6.63285731,\n",
       "         6.4009282 ,  4.15882371,  4.00748466,  2.63921301,  3.25093613,\n",
       "         6.224094  ,  4.59146755,  5.85863557,  5.19893065,  4.60725558,\n",
       "         6.58520697,  2.26331833,  3.0965103 ,  8.72601039,  4.1186545 ,\n",
       "         1.31877088,  6.47268991,  4.97733094,  7.44321151,  1.54983764,\n",
       "         3.08356048,  5.26089448,  4.92689759,  4.87242428,  1.2458523 ,\n",
       "         3.71168604,  3.81954867,  9.9721443 ,  5.38493858,  1.04613963,\n",
       "         4.40759627,  5.14093195,  5.23783913,  4.3642524 ,  4.12541668,\n",
       "         5.61101649,  5.60443083,  4.96931274,  1.27731768,  5.52342721,\n",
       "         5.0730695 ,  4.35099638,  8.59099451,  2.28585679,  5.18989234,\n",
       "         4.17850269,  7.32226859,  3.28853572,  6.26257103,  6.25223654,\n",
       "         1.53474472,  6.15839748,  6.61033044,  6.53008628,  3.15089927,\n",
       "         4.04265788,  5.59286712,  4.47522792,  4.51755311,  7.71748308,\n",
       "         4.06163817,  3.69402998,  2.44675688,  5.62179358,  2.71590003,\n",
       "         5.01832498,  5.5777714 ,  6.24522083,  5.68421344,  3.92933208,\n",
       "         2.78187522,  1.36949106,  5.94399665,  8.09382862,  4.50129513,\n",
       "         6.56926865,  5.30152642,  4.99588522,  1.36604808,  3.07386414,\n",
       "         9.44220594,  4.80225763,  3.89089355,  0.96943527,  3.58673623,\n",
       "         2.7243391 ,  2.97721653,  6.58057483,  4.18271377,  5.97704689,\n",
       "         3.5659916 ,  6.24418525,  4.13282011,  7.79292175,  4.76105604]])"
      ]
     },
     "execution_count": 193,
     "metadata": {},
     "output_type": "execute_result"
    }
   ],
   "source": [
    "# Small random sample size : Generate 10 samples of size 100 and Standard deviation of 2.0\n",
    "smallSample = np.random.normal(5.0, 2.0, (10,100))\n",
    "smallSample"
   ]
  },
  {
   "cell_type": "code",
   "execution_count": 194,
   "id": "9534621b",
   "metadata": {},
   "outputs": [
    {
     "data": {
      "text/plain": [
       "4.920631685901341"
      ]
     },
     "execution_count": 194,
     "metadata": {},
     "output_type": "execute_result"
    }
   ],
   "source": [
    "# Sample mean which will not be accuarte as its a small small\n",
    "smallSample.mean()"
   ]
  },
  {
   "cell_type": "markdown",
   "id": "49f03628",
   "metadata": {},
   "source": [
    "For the small sample we get a mean of 5.0596. We will now plot a histogram with the standard deviation values."
   ]
  },
  {
   "cell_type": "code",
   "execution_count": 195,
   "id": "22a5c30f",
   "metadata": {},
   "outputs": [],
   "source": [
    "stdevSmall = smallSample.std(axis=1)"
   ]
  },
  {
   "cell_type": "code",
   "execution_count": 196,
   "id": "cb928944",
   "metadata": {},
   "outputs": [
    {
     "data": {
      "image/png": "[encoded data removed]",
      "text/plain": [
       "<Figure size 1200x600 with 1 Axes>"
      ]
     },
     "metadata": {},
     "output_type": "display_data"
    }
   ],
   "source": [
    "# View a histogram - hopefully we can see the estimate is too small.\n",
    "fig, ax = plt.subplots(figsize=(12, 6))\n",
    "\n",
    "# Plot histogram.\n",
    "plt.hist(stdevSmall, bins=10)\n",
    "\n",
    "# Draw a vertical line where the actual standard deviation is.\n",
    "plt.axvline(x=2.0, color='orange');"
   ]
  },
  {
   "cell_type": "markdown",
   "id": "2c71e70f",
   "metadata": {},
   "source": [
    "So we see from the Histogram that the majority of the values are below the Standard deviation of 2.0. The standard deviation value of 2.0 is the peak but thats not the case in the histogram.  "
   ]
  },
  {
   "cell_type": "code",
   "execution_count": 197,
   "id": "de2eb901",
   "metadata": {},
   "outputs": [
    {
     "data": {
      "text/plain": [
       "3.8983729818020993"
      ]
     },
     "execution_count": 197,
     "metadata": {},
     "output_type": "execute_result"
    }
   ],
   "source": [
    "# Uncorrected variance.\n",
    "np.mean(np.square(smallSample - np.mean(smallSample)))"
   ]
  },
  {
   "cell_type": "markdown",
   "id": "be2abc3b",
   "metadata": {},
   "source": [
    "We can see the variance is 3.898 which should be nearer to the value 4.0 its abit off."
   ]
  },
  {
   "cell_type": "code",
   "execution_count": 198,
   "id": "30c07ef1",
   "metadata": {},
   "outputs": [
    {
     "data": {
      "text/plain": [
       "4.3315255353356665"
      ]
     },
     "execution_count": 198,
     "metadata": {},
     "output_type": "execute_result"
    }
   ],
   "source": [
    "# Corrected variance.\n",
    "np.mean(np.square(smallSample - np.mean(smallSample))) * (len(smallSample) / (len(smallSample) - 1.0))"
   ]
  },
  {
   "cell_type": "markdown",
   "id": "c88855ef",
   "metadata": {},
   "source": [
    "Using Bessels correction of n-1 it should give us a value closer to 4.0 as this is the variance."
   ]
  },
  {
   "cell_type": "code",
   "execution_count": 199,
   "id": "ccb6d9ae",
   "metadata": {},
   "outputs": [
    {
     "data": {
      "text/plain": [
       "array([[ 5.30320906,  4.21546478,  5.25165612, ...,  7.22709523,\n",
       "         5.71510314,  8.360235  ],\n",
       "       [ 4.40558557,  2.22695232,  4.63043832, ...,  5.45303847,\n",
       "         1.76005066,  5.00445951],\n",
       "       [ 4.99558951,  4.98355284,  1.40724268, ...,  5.09584745,\n",
       "         1.95543153,  4.10574004],\n",
       "       ...,\n",
       "       [ 5.25823835,  9.00041043,  6.76323523, ...,  3.8719927 ,\n",
       "         4.47319344,  5.90457185],\n",
       "       [ 5.68689668, 10.24070674,  3.74327559, ...,  5.43133873,\n",
       "         5.27614102,  5.66115155],\n",
       "       [ 2.77807578,  3.79917709,  4.29382023, ...,  4.82587455,\n",
       "         7.24544754,  2.43516847]])"
      ]
     },
     "execution_count": 199,
     "metadata": {},
     "output_type": "execute_result"
    }
   ],
   "source": [
    "# Large random sample size : Generate 10000 samples of size 10000 and Standard deviation of 2.0\n",
    "largeSample = np.random.normal(5.0, 2.0, (10000, 10000))\n",
    "largeSample"
   ]
  },
  {
   "cell_type": "markdown",
   "id": "cbb16a07",
   "metadata": {},
   "source": [
    "We see from a larger sample the mean is more accurate its 4.999 whereas the mean for the smaller sample was 4.92."
   ]
  },
  {
   "cell_type": "code",
   "execution_count": 200,
   "id": "05c8987e",
   "metadata": {},
   "outputs": [
    {
     "data": {
      "text/plain": [
       "4.9997491646466266"
      ]
     },
     "execution_count": 200,
     "metadata": {},
     "output_type": "execute_result"
    }
   ],
   "source": [
    "# Calculate the mean.\n",
    "largeSample.mean()"
   ]
  },
  {
   "cell_type": "code",
   "execution_count": 201,
   "id": "4dce94ab",
   "metadata": {},
   "outputs": [],
   "source": [
    "stdevLarge = largeSample.std(axis=1)"
   ]
  },
  {
   "cell_type": "code",
   "execution_count": 202,
   "id": "530c6c9a",
   "metadata": {},
   "outputs": [
    {
     "data": {
      "image/png": "[encoded data removed]",
      "text/plain": [
       "<Figure size 1200x600 with 1 Axes>"
      ]
     },
     "metadata": {},
     "output_type": "display_data"
    }
   ],
   "source": [
    "# View a histogram - hopefully we can see the estimate is too small.\n",
    "fig, ax = plt.subplots(figsize=(12, 6))\n",
    "\n",
    "# Plot histogram.\n",
    "plt.hist(stdevLarge, bins=50)\n",
    "\n",
    "# Draw a vertical line where the actual standard deviation is.\n",
    "plt.axvline(x=2.0, color='orange');"
   ]
  },
  {
   "cell_type": "markdown",
   "id": "4adaf146",
   "metadata": {},
   "source": [
    "From the histogram of the large sample size we can see that the standard deviation values are centred around the standard deviation value of 2.0. You can see the difference between the small sample and large sample size histograms where the small sample size histogram is noty sentred around standard deviation of 2.0."
   ]
  },
  {
   "cell_type": "markdown",
   "id": "c9496bdd",
   "metadata": {},
   "source": [
    "The uncorrected variance is marginally above 4.0  "
   ]
  },
  {
   "cell_type": "code",
   "execution_count": 221,
   "id": "2d19cc1a",
   "metadata": {},
   "outputs": [
    {
     "data": {
      "text/plain": [
       "4.000183211210118"
      ]
     },
     "execution_count": 221,
     "metadata": {},
     "output_type": "execute_result"
    }
   ],
   "source": [
    "# Uncorrected variance.\n",
    "np.mean(np.square(largeSample - np.mean(largeSample)))"
   ]
  },
  {
   "cell_type": "code",
   "execution_count": 222,
   "id": "ed1bca5c",
   "metadata": {},
   "outputs": [
    {
     "data": {
      "text/plain": [
       "4.000583269537071"
      ]
     },
     "execution_count": 222,
     "metadata": {},
     "output_type": "execute_result"
    }
   ],
   "source": [
    "# Corrected variance.\n",
    "np.mean(np.square(largeSample - np.mean(largeSample))) * (len(largeSample) / (len(largeSample) - 1.0))"
   ]
  },
  {
   "cell_type": "markdown",
   "id": "ff1b084b",
   "metadata": {},
   "source": [
    "Just reviewing the standard deviation values we can see again from below that the Standard deviation of the large sample size is marginally above 2.0 but the standard deviation of the small sample size is 1.97 which is abit under STD of 2.0."
   ]
  },
  {
   "cell_type": "code",
   "execution_count": 219,
   "id": "2d844e3c",
   "metadata": {},
   "outputs": [
    {
     "name": "stdout",
     "output_type": "stream",
     "text": [
      "Standard Deviation for large sample size : 2.000045802278067\n"
     ]
    }
   ],
   "source": [
    "print(\"Standard Deviation for large sample size : \" + str(largeSample.std()))"
   ]
  },
  {
   "cell_type": "code",
   "execution_count": 220,
   "id": "1543cbb5",
   "metadata": {},
   "outputs": [
    {
     "name": "stdout",
     "output_type": "stream",
     "text": [
      "Standard Deviation for small sample size : 1.974429786495863\n"
     ]
    }
   ],
   "source": [
    "print(\"Standard Deviation for small sample size : \" + str(smallSample.std()))"
   ]
  },
  {
   "cell_type": "markdown",
   "id": "019035ff",
   "metadata": {},
   "source": [
    "The standard deviation and variance on small samples is always going to have a higher margin of error as the mean is closer to the sample mean than the population mean. In the formula to calculate the variances for small samples the sample mean is used to get the true variance of the population but there will always be a larger error than of you use a larger sample size. The larger the sample the closer the mean will be to the population mean and therefore the variance will be nearer to the true variance of the population. Bessels correction can compensate for small sample sizes by diving by **n-1** instead of **n** in order to get a value nearer to teh true variance. The larger the sample size the less likely you will need Bessels correction."
   ]
  },
  {
   "cell_type": "markdown",
   "id": "4bcc73bc",
   "metadata": {},
   "source": [
    "***\n",
    "## Extra Exercise\n",
    "***"
   ]
  },
  {
   "cell_type": "markdown",
   "id": "0f8ea8a4",
   "metadata": {},
   "source": [
    "Here we look at the standard deviation for two separate lists of numbers. The list with numbers1 you can see are well spread out and we have two numbers 1 and 10. The mean is 2.8. The numbers2 list has the same mean of 2.8 but the numbers are nearer to each other. We can see that the Stndard deviation for numbers1 list is 3.6 which indicates that the numbers in the list are well spread out and the list numbers2 is 0.748 which indicates the numbers are close together. So, just looking at the mean alone is not always good as in teh case of the numbers1 list. It is always good to review the standard deviation to find out how dispered the numbers are. Also, checking the mediain and mode is always useful.   "
   ]
  },
  {
   "cell_type": "code",
   "execution_count": 2,
   "id": "662642dd",
   "metadata": {},
   "outputs": [
    {
     "data": {
      "text/plain": [
       "2.8"
      ]
     },
     "execution_count": 2,
     "metadata": {},
     "output_type": "execute_result"
    }
   ],
   "source": [
    "# A list of numbers - four small and one big.\n",
    "numbers1 = np.array([1, 1, 1, 1, 10])\n",
    "\n",
    "# Their mean.\n",
    "np.mean(numbers1)"
   ]
  },
  {
   "cell_type": "code",
   "execution_count": 7,
   "id": "3f80ec5e",
   "metadata": {},
   "outputs": [
    {
     "data": {
      "text/plain": [
       "3.6"
      ]
     },
     "execution_count": 7,
     "metadata": {},
     "output_type": "execute_result"
    }
   ],
   "source": [
    "# Large standard deviation indicating the numbers are well dispersed.\n",
    "numbers1.std()"
   ]
  },
  {
   "cell_type": "code",
   "execution_count": 8,
   "id": "e17f8f1c",
   "metadata": {},
   "outputs": [
    {
     "data": {
      "text/plain": [
       "2.8"
      ]
     },
     "execution_count": 8,
     "metadata": {},
     "output_type": "execute_result"
    }
   ],
   "source": [
    "# A list of numbers - all close to each other.\n",
    "numbers2 = np.array([2, 2, 3, 3, 4])\n",
    "\n",
    "# Their mean.\n",
    "np.mean(numbers2)"
   ]
  },
  {
   "cell_type": "markdown",
   "id": "622800f2",
   "metadata": {},
   "source": [
    "Small standard deviation shows the numbers close together. "
   ]
  },
  {
   "cell_type": "code",
   "execution_count": 9,
   "id": "862e5b6e",
   "metadata": {},
   "outputs": [
    {
     "data": {
      "text/plain": [
       "0.7483314773547882"
      ]
     },
     "execution_count": 9,
     "metadata": {},
     "output_type": "execute_result"
    }
   ],
   "source": [
    "numbers2.std()"
   ]
  },
  {
   "cell_type": "markdown",
   "id": "1c356d0c",
   "metadata": {},
   "source": [
    "# References"
   ]
  },
  {
   "cell_type": "markdown",
   "id": "31998377",
   "metadata": {},
   "source": [
    "https://uk.indeed.com/career-advice/career-development/anchoring-bias\n",
    "\n",
    "https://www.equalture.com/blog/10-types-of-unconscious-hiring-bias/\n",
    "\n",
    "https://www.verywellmind.com/what-is-a-hindsight-bias-2795236\n",
    "\n",
    "https://www.statisticshowto.com/bessels-correction/\n",
    "\n",
    "*Ian Mcloughlins notebook on bias*<br>\n",
    "https://github.com/ianmcloughlin/2223-S1-fund-data-analysis/tree/main/notebooks"
   ]
  }
 ],
 "metadata": {
  "kernelspec": {
   "display_name": "Python 3 (ipykernel)",
   "language": "python",
   "name": "python3"
  },
  "language_info": {
   "codemirror_mode": {
    "name": "ipython",
    "version": 3
   },
   "file_extension": ".py",
   "mimetype": "text/x-python",
   "name": "python",
   "nbconvert_exporter": "python",
   "pygments_lexer": "ipython3",
   "version": "3.9.13"
  }
 },
 "nbformat": 4,
 "nbformat_minor": 5
}
