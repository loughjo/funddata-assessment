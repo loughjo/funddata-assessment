{
 "cells": [
  {
   "cell_type": "markdown",
   "id": "673ce35d",
   "metadata": {},
   "source": [
    "# Bias Exercises\n",
    "***"
   ]
  },
  {
   "cell_type": "markdown",
   "id": "4ddad5ff",
   "metadata": {},
   "source": [
    "## Cognitive Bias"
   ]
  },
  {
   "cell_type": "markdown",
   "id": "adc4c458",
   "metadata": {},
   "source": [
    "*The hope for informed gossip is that there are distinctive patterns in the errors people make. Systematic errors are known as biases, and they recur predictably in particular circumstances. When the handsome and confident speaker bounds onto the stage, for example, you can anticipate that the audience will judge his comments more favorably than he deserves. The availability of a diagnostic label for this bias—the halo effect—makes it easier to anticipate, recognize, and understand.*\n",
    "\n",
    "-- Kahneman; Thinking Fast and Slow"
   ]
  },
  {
   "cell_type": "markdown",
   "id": "bf9ba01c",
   "metadata": {},
   "source": [
    "## Exercise 1\n",
    "***"
   ]
  },
  {
   "cell_type": "markdown",
   "id": "110cdcb5",
   "metadata": {},
   "source": [
    "Remember to do these exercises in your own notebook in your assessment repository.\n",
    "\n",
    "Give three real-world examples of different types of cognitive bias."
   ]
  },
  {
   "cell_type": "markdown",
   "id": "54c45107",
   "metadata": {},
   "source": [
    "According to the cognitive bias codex there are 180 different types of cognitive biases. \n",
    "\n",
    "The three types of cognitive bias I will look at are :\n",
    "\n",
    "- *Anchoring bias* \n",
    "- *Overconfidence bias*\n",
    "- *Hindsight bias*\n",
    "\n",
    "***\n",
    "**Anchoring bias**<br>\n",
    "***\n",
    "Anchoring bias is when we rely too much about the first piece of information we are given about a topic.<br>\n",
    "\n",
    "**Example**\n",
    "Sometimes anchoring bias can happen when a Company is a hiring for a new role. When they are reviewing the C.Vs\n",
    "if the first candidate has a masters degree or a special certification it can influence the Hiring Manager.\n",
    "The masters degree may not be a requirement in the job specification or role but the hirimg Manager may use it to compare against other candidates. \n",
    "\n",
    "***\n",
    "**Overconfidence bias**\n",
    "***\n",
    "\n",
    "Overconfidence bias is a tendency of people to overestimate their skills and knowledge. In this way it can affect their decision making.\n",
    "\n",
    "**Example**\n",
    "\n",
    "\n",
    "***\n",
    "**Hindsight bias**\n",
    "***\n",
    "\n",
    "It is known as the 'knew-it-all-along-affect'.<br>\n",
    "It's a tebdebct of people to view past events as being more predictable than they actually were.\n",
    "\n",
    "**Example**\n"
   ]
  },
  {
   "cell_type": "markdown",
   "id": "7f5f665f",
   "metadata": {},
   "source": [
    "## Exercise 2\n",
    "***"
   ]
  },
  {
   "cell_type": "markdown",
   "id": "d18abe3e",
   "metadata": {},
   "source": [
    "Remember to do these exercises in your own notebook in your assessment repository.\n",
    "\n",
    "Show that the difference between the standard deviation calculations is greatest for small sample sizes."
   ]
  },
  {
   "cell_type": "code",
   "execution_count": null,
   "id": "bf04f0dc",
   "metadata": {},
   "outputs": [],
   "source": []
  },
  {
   "cell_type": "code",
   "execution_count": null,
   "id": "def10d64",
   "metadata": {},
   "outputs": [],
   "source": []
  },
  {
   "cell_type": "markdown",
   "id": "1c356d0c",
   "metadata": {},
   "source": [
    "# References"
   ]
  },
  {
   "cell_type": "markdown",
   "id": "31998377",
   "metadata": {},
   "source": [
    "https://uk.indeed.com/career-advice/career-development/anchoring-bias"
   ]
  },
  {
   "cell_type": "code",
   "execution_count": null,
   "id": "12414254",
   "metadata": {},
   "outputs": [],
   "source": []
  }
 ],
 "metadata": {
  "kernelspec": {
   "display_name": "Python 3 (ipykernel)",
   "language": "python",
   "name": "python3"
  },
  "language_info": {
   "codemirror_mode": {
    "name": "ipython",
    "version": 3
   },
   "file_extension": ".py",
   "mimetype": "text/x-python",
   "name": "python",
   "nbconvert_exporter": "python",
   "pygments_lexer": "ipython3",
   "version": "3.9.13"
  }
 },
 "nbformat": 4,
 "nbformat_minor": 5
}
