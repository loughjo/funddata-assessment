{
 "cells": [
  {
   "cell_type": "markdown",
   "id": "b495c969",
   "metadata": {},
   "source": [
    "# Randomness"
   ]
  },
  {
   "cell_type": "code",
   "execution_count": 1,
   "id": "766b623c",
   "metadata": {},
   "outputs": [],
   "source": [
    "# For generating numbers.\n",
    "import numpy as np\n",
    "\n",
    "# Plotting.\n",
    "import matplotlib.pyplot as plt"
   ]
  },
  {
   "cell_type": "markdown",
   "id": "80732aa1",
   "metadata": {},
   "source": [
    "## Standard Normal"
   ]
  },
  {
   "cell_type": "code",
   "execution_count": 34,
   "id": "74f5d448",
   "metadata": {},
   "outputs": [],
   "source": [
    "# Create new, seeded random number generator.\n",
    "rng = np.random.default_rng(0)\n",
    "\n",
    "# Generate 1000 numbers on a standard normal distribution.\n",
    "samples = rng.standard_normal(10000)"
   ]
  },
  {
   "cell_type": "code",
   "execution_count": 3,
   "id": "d82c9944",
   "metadata": {},
   "outputs": [
    {
     "data": {
      "text/plain": [
       "(array([  1.,   1.,   0.,   0.,   0.,   0.,   1.,   2.,   2.,   2.,   3.,\n",
       "          0.,   6.,   6.,  10.,   7.,   6.,  12.,  21.,   8.,  15.,  20.,\n",
       "         21.,  26.,  33.,  36.,  44.,  56.,  49.,  51.,  74.,  93.,  84.,\n",
       "         97., 103., 148., 144., 147., 182., 187., 189., 200., 233., 241.,\n",
       "        244., 266., 278., 233., 292., 316., 298., 296., 283., 249., 270.,\n",
       "        290., 273., 279., 254., 260., 265., 254., 225., 231., 204., 194.,\n",
       "        194., 179., 131., 153., 138., 112., 100.,  82.,  91.,  65.,  57.,\n",
       "         62.,  52.,  53.,  30.,  30.,  26.,  25.,  24.,  21.,  12.,  10.,\n",
       "          8.,  10.,   1.,   7.,   0.,   4.,   3.,   3.,   1.,   0.,   0.,\n",
       "          1.]),\n",
       " array([-3.89942173, -3.82560914, -3.75179655, -3.67798396, -3.60417137,\n",
       "        -3.53035878, -3.45654619, -3.3827336 , -3.30892101, -3.23510842,\n",
       "        -3.16129583, -3.08748324, -3.01367065, -2.93985806, -2.86604547,\n",
       "        -2.79223288, -2.7184203 , -2.64460771, -2.57079512, -2.49698253,\n",
       "        -2.42316994, -2.34935735, -2.27554476, -2.20173217, -2.12791958,\n",
       "        -2.05410699, -1.9802944 , -1.90648181, -1.83266922, -1.75885663,\n",
       "        -1.68504404, -1.61123145, -1.53741886, -1.46360627, -1.38979368,\n",
       "        -1.31598109, -1.2421685 , -1.16835591, -1.09454332, -1.02073073,\n",
       "        -0.94691814, -0.87310555, -0.79929296, -0.72548037, -0.65166778,\n",
       "        -0.57785519, -0.5040426 , -0.43023002, -0.35641743, -0.28260484,\n",
       "        -0.20879225, -0.13497966, -0.06116707,  0.01264552,  0.08645811,\n",
       "         0.1602707 ,  0.23408329,  0.30789588,  0.38170847,  0.45552106,\n",
       "         0.52933365,  0.60314624,  0.67695883,  0.75077142,  0.82458401,\n",
       "         0.8983966 ,  0.97220919,  1.04602178,  1.11983437,  1.19364696,\n",
       "         1.26745955,  1.34127214,  1.41508473,  1.48889732,  1.56270991,\n",
       "         1.6365225 ,  1.71033509,  1.78414768,  1.85796026,  1.93177285,\n",
       "         2.00558544,  2.07939803,  2.15321062,  2.22702321,  2.3008358 ,\n",
       "         2.37464839,  2.44846098,  2.52227357,  2.59608616,  2.66989875,\n",
       "         2.74371134,  2.81752393,  2.89133652,  2.96514911,  3.0389617 ,\n",
       "         3.11277429,  3.18658688,  3.26039947,  3.33421206,  3.40802465,\n",
       "         3.48183724]),\n",
       " <BarContainer object of 100 artists>)"
      ]
     },
     "execution_count": 3,
     "metadata": {},
     "output_type": "execute_result"
    },
    {
     "data": {
      "image/png": "[encoded data removed]",
      "text/plain": [
       "<Figure size 432x288 with 1 Axes>"
      ]
     },
     "metadata": {
      "needs_background": "light"
     },
     "output_type": "display_data"
    }
   ],
   "source": [
    "# Create a figure.\n",
    "fig, ax = plt.subplots()\n",
    "\n",
    "# Create histogram.\n",
    "ax.hist(samples, bins=100)"
   ]
  },
  {
   "cell_type": "markdown",
   "id": "d5d3a407",
   "metadata": {},
   "source": [
    "# Exercise 1"
   ]
  },
  {
   "cell_type": "markdown",
   "id": "92d31d18",
   "metadata": {},
   "source": [
    "*It is somewhat interesting that (5 * 4 * 3 * 2 * 1) perfectly divides (10 * 9 * 8 * 7 * 6) - there's no remainder.*\n",
    "\n",
    "*If we only wanted exactly four heads as opposed to five, the equivalent calculation would be (10 * 9 * 8 * 7) / (4 * 3 * 2 * 1).*\n",
    "*Does that evenly divide too? What is the formula in general?*\n",
    "\n",
    "*Does it always come out as a positive whole number?*"
   ]
  },
  {
   "cell_type": "markdown",
   "id": "b1bc682e",
   "metadata": {},
   "source": [
    "**Does that evenly divide too?**<br>\n",
    "Below you can see when we divide (10 * 9 * 8 * 7)  by (4 * 3 * 2 * 1) its a positive number and it divides evenly."
   ]
  },
  {
   "cell_type": "code",
   "execution_count": 1,
   "id": "c6566e85",
   "metadata": {},
   "outputs": [
    {
     "data": {
      "text/plain": [
       "210.0"
      ]
     },
     "execution_count": 1,
     "metadata": {},
     "output_type": "execute_result"
    }
   ],
   "source": [
    "(10 * 9 * 8 * 7) / (4 * 3 * 2 * 1)"
   ]
  },
  {
   "cell_type": "markdown",
   "id": "44f46f8c",
   "metadata": {},
   "source": [
    "**What is the formula in general?**<br>\n",
    "The formula in general is as follows :"
   ]
  },
  {
   "cell_type": "markdown",
   "id": "a7e2e39b",
   "metadata": {},
   "source": [
    "$$\\binom{n}{k} = \\frac{n!}{k!(n - k)!}$$"
   ]
  },
  {
   "cell_type": "markdown",
   "id": "aaccb61f",
   "metadata": {},
   "source": [
    "Where :\n",
    "- **n** = total number\n",
    "- **k** = number we want\n",
    "- **!** = means factorial"
   ]
  },
  {
   "cell_type": "markdown",
   "id": "e336fed8",
   "metadata": {},
   "source": [
    "So for above where there are 10 Coin tosses and we want 4 heads :\n",
    "- **n** = 10\n",
    "- **k** = 4"
   ]
  },
  {
   "cell_type": "markdown",
   "id": "a7b22caa",
   "metadata": {},
   "source": [
    "We substitute in the values into the formula :"
   ]
  },
  {
   "cell_type": "markdown",
   "id": "d7c24010",
   "metadata": {},
   "source": [
    "$$\\binom{10}{4} = \\frac{10!}{4!(10 - 4)!}$$"
   ]
  },
  {
   "cell_type": "markdown",
   "id": "e4967520",
   "metadata": {},
   "source": [
    "We expand out the formula :"
   ]
  },
  {
   "cell_type": "markdown",
   "id": "3d43d457",
   "metadata": {},
   "source": [
    "$$\\binom{10}{4} = \\frac{10*9*8*7*6*5*4*3*2*1!}{4*3*2*1!(6*5*4*3*2*1)!}$$"
   ]
  },
  {
   "cell_type": "markdown",
   "id": "a96c5947",
   "metadata": {},
   "source": [
    "Since we have (6x5x4x3x2x1) we can cancel this above and below the line to get : "
   ]
  },
  {
   "cell_type": "markdown",
   "id": "d0800946",
   "metadata": {},
   "source": [
    "$$= \\frac{10*9*8*7}{4*3*2*1}$$"
   ]
  },
  {
   "cell_type": "markdown",
   "id": "502d4767",
   "metadata": {},
   "source": [
    "Multiply it out and we get :"
   ]
  },
  {
   "cell_type": "markdown",
   "id": "9a668dc4",
   "metadata": {},
   "source": [
    "$$= \\frac{5040}{24}$$"
   ]
  },
  {
   "cell_type": "markdown",
   "id": "2a846723",
   "metadata": {},
   "source": [
    "There are 210 ways we can get exactly four heads"
   ]
  },
  {
   "cell_type": "markdown",
   "id": "8126bc62",
   "metadata": {},
   "source": [
    "**Does it always come out as a positive whole number?**<br>\n",
    "For the Coin toss example no matter what value we use as **k** (number we want) in the formula it will always come out as a postive whole number."
   ]
  },
  {
   "cell_type": "code",
   "execution_count": null,
   "id": "a455ac06",
   "metadata": {},
   "outputs": [],
   "source": []
  },
  {
   "cell_type": "code",
   "execution_count": 2,
   "id": "5b77d16d",
   "metadata": {},
   "outputs": [
    {
     "name": "stdout",
     "output_type": "stream",
     "text": [
      "( 1, 2)\n",
      "( 1, 3)\n",
      "( 1, 4)\n",
      "( 1, 5)\n",
      "( 1, 6)\n",
      "( 1, 7)\n",
      "( 1, 8)\n",
      "( 1, 9)\n",
      "( 1,10)\n",
      "( 2, 1)\n",
      "( 2, 3)\n",
      "( 2, 4)\n",
      "( 2, 5)\n",
      "( 2, 6)\n",
      "( 2, 7)\n",
      "( 2, 8)\n",
      "( 2, 9)\n",
      "( 2,10)\n",
      "( 3, 1)\n",
      "( 3, 2)\n",
      "( 3, 4)\n",
      "( 3, 5)\n",
      "( 3, 6)\n",
      "( 3, 7)\n",
      "( 3, 8)\n",
      "( 3, 9)\n",
      "( 3,10)\n",
      "( 4, 1)\n",
      "( 4, 2)\n",
      "( 4, 3)\n",
      "( 4, 5)\n",
      "( 4, 6)\n",
      "( 4, 7)\n",
      "( 4, 8)\n",
      "( 4, 9)\n",
      "( 4,10)\n",
      "( 5, 1)\n",
      "( 5, 2)\n",
      "( 5, 3)\n",
      "( 5, 4)\n",
      "( 5, 6)\n",
      "( 5, 7)\n",
      "( 5, 8)\n",
      "( 5, 9)\n",
      "( 5,10)\n",
      "( 6, 1)\n",
      "( 6, 2)\n",
      "( 6, 3)\n",
      "( 6, 4)\n",
      "( 6, 5)\n",
      "( 6, 7)\n",
      "( 6, 8)\n",
      "( 6, 9)\n",
      "( 6,10)\n",
      "( 7, 1)\n",
      "( 7, 2)\n",
      "( 7, 3)\n",
      "( 7, 4)\n",
      "( 7, 5)\n",
      "( 7, 6)\n",
      "( 7, 8)\n",
      "( 7, 9)\n",
      "( 7,10)\n",
      "( 8, 1)\n",
      "( 8, 2)\n",
      "( 8, 3)\n",
      "( 8, 4)\n",
      "( 8, 5)\n",
      "( 8, 6)\n",
      "( 8, 7)\n",
      "( 8, 9)\n",
      "( 8,10)\n",
      "( 9, 1)\n",
      "( 9, 2)\n",
      "( 9, 3)\n",
      "( 9, 4)\n",
      "( 9, 5)\n",
      "( 9, 6)\n",
      "( 9, 7)\n",
      "( 9, 8)\n",
      "( 9,10)\n",
      "(10, 1)\n",
      "(10, 2)\n",
      "(10, 3)\n",
      "(10, 4)\n",
      "(10, 5)\n",
      "(10, 6)\n",
      "(10, 7)\n",
      "(10, 8)\n",
      "(10, 9)\n",
      "Total combinations is 90.\n"
     ]
    }
   ],
   "source": [
    "# Number of combinations.\n",
    "no_combs = 0\n",
    "\n",
    "# Select the first position.\n",
    "for first in [1, 2, 3, 4, 5, 6, 7, 8, 9, 10]:\n",
    "    # Select the position for the second position.\n",
    "    for second in [1, 2, 3, 4, 5, 6, 7, 8, 9, 10]:\n",
    "        # Make sure the first and second positions are different.\n",
    "        if not first == second:\n",
    "            # Print the combination.\n",
    "            print(f'({first:2},{second:2})')\n",
    "            # Add one to number of combinations.\n",
    "            no_combs = no_combs + 1\n",
    "\n",
    "# Print total number of combinations.\n",
    "print(f'Total combinations is {no_combs}.')"
   ]
  },
  {
   "cell_type": "markdown",
   "id": "1386f78d",
   "metadata": {},
   "source": [
    "# Exercise 2"
   ]
  },
  {
   "cell_type": "markdown",
   "id": "0335ac03",
   "metadata": {},
   "source": [
    "**Note that there are the same number of ways to get 4 tails as there to get 4 heads. Explain why this is.**"
   ]
  },
  {
   "cell_type": "markdown",
   "id": "48b9dda3",
   "metadata": {},
   "source": [
    "So from Exercise 1 above the number of ways to get 4 heads in 10 Coin tosses is :\n",
    "\n",
    "n = 10<br>\n",
    "k = 4\n",
    "\n",
    "$$\\binom{10}{4} = \\frac{10!}{4!(10 - 4)!}$$"
   ]
  },
  {
   "cell_type": "markdown",
   "id": "518ebe4a",
   "metadata": {},
   "source": [
    "$$= \\frac{10*9*8*7}{4*3*2*1}$$"
   ]
  },
  {
   "cell_type": "markdown",
   "id": "fc853b7b",
   "metadata": {},
   "source": [
    "Number of ways to get 4 heads from 10 Coin tosses is : 210"
   ]
  },
  {
   "cell_type": "markdown",
   "id": "1c543e59",
   "metadata": {},
   "source": [
    "Since there are only two sides to a coin you can only either get Heads (H) or Tails (T), there are no other options.<br>\n",
    "So, there has to be teh same number of ways to get 4 Tails as 4 Heads."
   ]
  },
  {
   "cell_type": "markdown",
   "id": "14b378e5",
   "metadata": {},
   "source": [
    "If we simplify it and just reduce the number of Coin tosses to 3, how many ways are there to get 2 Heads ?"
   ]
  },
  {
   "cell_type": "markdown",
   "id": "4de35e34",
   "metadata": {},
   "source": [
    "Let's use the Binomial Formula where teh number of Coin Tosses is 3 and number we want is 2: "
   ]
  },
  {
   "cell_type": "markdown",
   "id": "1c1028ea",
   "metadata": {},
   "source": [
    "n = 3<br>\n",
    "k = 2\n",
    "\n",
    "$$\\binom{3}{2} = \\frac{3!}{2!(3 - 2)!}$$"
   ]
  },
  {
   "cell_type": "markdown",
   "id": "8dd55f00",
   "metadata": {},
   "source": [
    "$$= \\frac{3*2*1}{2*1*1}$$"
   ]
  },
  {
   "cell_type": "markdown",
   "id": "947ab9da",
   "metadata": {},
   "source": [
    "$$= \\frac{6}{2}$$"
   ]
  },
  {
   "cell_type": "markdown",
   "id": "da64a025",
   "metadata": {},
   "source": [
    "So there are 3 ways to get 2 Heads from 3 Coin tosses"
   ]
  },
  {
   "cell_type": "code",
   "execution_count": null,
   "id": "607c54b7",
   "metadata": {},
   "outputs": [],
   "source": [
    "Also, from the "
   ]
  },
  {
   "cell_type": "code",
   "execution_count": 10,
   "id": "7fb5f124",
   "metadata": {},
   "outputs": [
    {
     "data": {
      "text/plain": [
       "8"
      ]
     },
     "execution_count": 10,
     "metadata": {},
     "output_type": "execute_result"
    }
   ],
   "source": [
    "## First how many Outcomes are there if we toss a coin 3 times\n",
    "\n",
    "2**3"
   ]
  },
  {
   "cell_type": "markdown",
   "id": "0dd41e37",
   "metadata": {},
   "source": [
    "So, there are 8 Possible Outcomes if we toss a Coin 3 times :"
   ]
  },
  {
   "cell_type": "markdown",
   "id": "d834dfaa",
   "metadata": {},
   "source": [
    "Outcome 1 = **T T T** => 3 Tails<BR>\n",
    "Outcome 2 = **T T H** => <span style=\"color:blue\">2 Tails</span>.<BR>\n",
    "Outcome 3 = **T H T** => <span style=\"color:blue\">2 Tails</span>.<BR>\n",
    "Outcome 4 = **T H H** => <span style=\"color:Green\">2 Heads</span>.<BR>\n",
    "Outcome 5 = **H T T** => <span style=\"color:blue\">2 Tails</span>.<BR>\n",
    "Outcome 6 = **H H T** => <span style=\"color:Green\">2 Heads</span>.<BR>\n",
    "Outcome 7 = **H T H** => <span style=\"color:Green\">2 Heads</span>.<BR>\n",
    "Outcome 8 = **H H H** => 3 Heads<BR>"
   ]
  },
  {
   "cell_type": "markdown",
   "id": "ad5fe860",
   "metadata": {},
   "source": [
    "We can see All 8 Outcomes above and Outcomes 4, 6 & 7 show that there are 3 ways to get 2 *Heads* and equally we can see from Outcomes 2, 3 & 5 there are 3 possible ways to get 3 *Tails*.\n",
    "\n",
    "We can deduce from this that if we Toss a coin 10 times there are 210 possible ways of getting exactly 4 Heads but equally we can say there are 210 ways of getting 4 Tails."
   ]
  },
  {
   "cell_type": "markdown",
   "id": "3fb46a1f",
   "metadata": {},
   "source": [
    "We know there are $2^{10}$ Outcomes which 1024"
   ]
  },
  {
   "cell_type": "markdown",
   "id": "41de396e",
   "metadata": {},
   "source": [
    "Number of outcomes we want X Probability of each outcome "
   ]
  },
  {
   "cell_type": "code",
   "execution_count": 17,
   "id": "bb859328",
   "metadata": {},
   "outputs": [
    {
     "data": {
      "text/plain": [
       "0.205078125"
      ]
     },
     "execution_count": 17,
     "metadata": {},
     "output_type": "execute_result"
    }
   ],
   "source": [
    "# Probability of getting five heads when flipping a coin ten times.\n",
    "210 * (1/1024)"
   ]
  },
  {
   "cell_type": "markdown",
   "id": "90a4d590",
   "metadata": {},
   "source": [
    "So there is a 20% chance of getting 4 Heads and there is also a 20% chance of getting 4 tails."
   ]
  },
  {
   "cell_type": "code",
   "execution_count": 27,
   "id": "5252fc36",
   "metadata": {},
   "outputs": [
    {
     "data": {
      "text/plain": [
       "210"
      ]
     },
     "execution_count": 27,
     "metadata": {},
     "output_type": "execute_result"
    }
   ],
   "source": [
    "(10 * 9 * 8 * 7) // (4 * 3 * 2 * 1)"
   ]
  },
  {
   "cell_type": "markdown",
   "id": "54816b55",
   "metadata": {},
   "source": [
    "There is only 1 way to get 10 Heads or indeed 10 Tails"
   ]
  },
  {
   "cell_type": "code",
   "execution_count": 9,
   "id": "91ee9853",
   "metadata": {},
   "outputs": [
    {
     "data": {
      "text/plain": [
       "1"
      ]
     },
     "execution_count": 9,
     "metadata": {},
     "output_type": "execute_result"
    }
   ],
   "source": [
    "(10 * 9 * 8 * 7 * 6 * 5 * 4 * 3 * 2 * 1) // (10 * 9 * 8 * 7 * 6 * 5 * 4 * 3 * 2 * 1)"
   ]
  },
  {
   "cell_type": "markdown",
   "id": "ae3f8ed9",
   "metadata": {},
   "source": [
    "There are 10 ways to get exactly 9 heads"
   ]
  },
  {
   "cell_type": "code",
   "execution_count": 10,
   "id": "550058dd",
   "metadata": {},
   "outputs": [
    {
     "data": {
      "text/plain": [
       "10"
      ]
     },
     "execution_count": 10,
     "metadata": {},
     "output_type": "execute_result"
    }
   ],
   "source": [
    "(10 * 9 * 8 * 7 * 6 * 5 * 4 * 3 * 2) // (9 * 8 * 7 * 6 * 5 * 4 * 3 * 2 * 1)"
   ]
  },
  {
   "cell_type": "code",
   "execution_count": null,
   "id": "e4810484",
   "metadata": {},
   "outputs": [],
   "source": [
    "There are 45 ways to get exactly 8 Heads"
   ]
  },
  {
   "cell_type": "code",
   "execution_count": 11,
   "id": "aaf4b8e6",
   "metadata": {},
   "outputs": [
    {
     "data": {
      "text/plain": [
       "45"
      ]
     },
     "execution_count": 11,
     "metadata": {},
     "output_type": "execute_result"
    }
   ],
   "source": [
    "(10 * 9 * 8 * 7 * 6 * 5 * 4 * 3) // (8 * 7 * 6 * 5 * 4 * 3 * 2 * 1)"
   ]
  },
  {
   "cell_type": "code",
   "execution_count": null,
   "id": "02a76404",
   "metadata": {},
   "outputs": [],
   "source": [
    "There are 120 ways to get exactly 7 Heads"
   ]
  },
  {
   "cell_type": "code",
   "execution_count": 12,
   "id": "a36c953b",
   "metadata": {},
   "outputs": [
    {
     "data": {
      "text/plain": [
       "120"
      ]
     },
     "execution_count": 12,
     "metadata": {},
     "output_type": "execute_result"
    }
   ],
   "source": [
    "(10 * 9 * 8 * 7 * 6 * 5 * 4) // (7 * 6 * 5 * 4 * 3 * 2 * 1)"
   ]
  },
  {
   "cell_type": "code",
   "execution_count": null,
   "id": "41cb3082",
   "metadata": {},
   "outputs": [],
   "source": [
    "There are 210 ways to get exactly 6 Heads"
   ]
  },
  {
   "cell_type": "code",
   "execution_count": 13,
   "id": "e9507619",
   "metadata": {},
   "outputs": [
    {
     "data": {
      "text/plain": [
       "210"
      ]
     },
     "execution_count": 13,
     "metadata": {},
     "output_type": "execute_result"
    }
   ],
   "source": [
    "(10 * 9 * 8 * 7 * 6 * 5) // (6 * 5 * 4 * 3 * 2 * 1)"
   ]
  },
  {
   "cell_type": "code",
   "execution_count": null,
   "id": "d535d176",
   "metadata": {},
   "outputs": [],
   "source": [
    "There are 252 ways to get exactly 5 Heads"
   ]
  },
  {
   "cell_type": "code",
   "execution_count": 14,
   "id": "c7767469",
   "metadata": {},
   "outputs": [
    {
     "data": {
      "text/plain": [
       "252"
      ]
     },
     "execution_count": 14,
     "metadata": {},
     "output_type": "execute_result"
    }
   ],
   "source": [
    "(10 * 9 * 8 * 7 * 6) // (5 * 4 * 3 * 2 * 1)"
   ]
  },
  {
   "cell_type": "markdown",
   "id": "9f10ea0e",
   "metadata": {},
   "source": [
    "There are 210 ways to get exactly 4 Heads"
   ]
  },
  {
   "cell_type": "code",
   "execution_count": 16,
   "id": "4274b0b3",
   "metadata": {},
   "outputs": [
    {
     "data": {
      "text/plain": [
       "210"
      ]
     },
     "execution_count": 16,
     "metadata": {},
     "output_type": "execute_result"
    }
   ],
   "source": [
    "(10 * 9 * 8 * 7) // (4 * 3 * 2 * 1)"
   ]
  },
  {
   "cell_type": "markdown",
   "id": "c488d9eb",
   "metadata": {},
   "source": [
    "There are 120 ways to get exactly 3 Heads"
   ]
  },
  {
   "cell_type": "code",
   "execution_count": 17,
   "id": "14c20504",
   "metadata": {},
   "outputs": [
    {
     "data": {
      "text/plain": [
       "120"
      ]
     },
     "execution_count": 17,
     "metadata": {},
     "output_type": "execute_result"
    }
   ],
   "source": [
    "(10 * 9 * 8) // (3 * 2 * 1)"
   ]
  },
  {
   "cell_type": "markdown",
   "id": "991e684d",
   "metadata": {},
   "source": [
    "There are 45 ways to get exactly 2 Heads"
   ]
  },
  {
   "cell_type": "code",
   "execution_count": 18,
   "id": "4ec43e87",
   "metadata": {},
   "outputs": [
    {
     "data": {
      "text/plain": [
       "45"
      ]
     },
     "execution_count": 18,
     "metadata": {},
     "output_type": "execute_result"
    }
   ],
   "source": [
    "(10 * 9) // (2 * 1)"
   ]
  },
  {
   "cell_type": "markdown",
   "id": "cdc83b1a",
   "metadata": {},
   "source": [
    "There are 10 ways to get exactly 1 Heads"
   ]
  },
  {
   "cell_type": "code",
   "execution_count": 19,
   "id": "9d94a0f5",
   "metadata": {},
   "outputs": [
    {
     "data": {
      "text/plain": [
       "10"
      ]
     },
     "execution_count": 19,
     "metadata": {},
     "output_type": "execute_result"
    }
   ],
   "source": [
    "(10) // (1)"
   ]
  },
  {
   "cell_type": "code",
   "execution_count": 2,
   "id": "2d4001c2",
   "metadata": {},
   "outputs": [],
   "source": [
    "import random\n",
    "HeadsORTails = ['T','H']\n",
    "#randomLetter = random.choice(HeadsORTails)"
   ]
  },
  {
   "cell_type": "code",
   "execution_count": 6,
   "id": "f2efccad",
   "metadata": {},
   "outputs": [],
   "source": [
    "randomLetter = ''"
   ]
  },
  {
   "cell_type": "code",
   "execution_count": 7,
   "id": "c4efdbed",
   "metadata": {},
   "outputs": [
    {
     "data": {
      "text/plain": [
       "'HTHHHTHHHH'"
      ]
     },
     "execution_count": 7,
     "metadata": {},
     "output_type": "execute_result"
    }
   ],
   "source": [
    "num = 0\n",
    "while num < 10:\n",
    "    randomLetter = randomLetter + random.choice(HeadsORTails)\n",
    "    num = num + 1\n",
    "    #occurences = \n",
    "randomLetter"
   ]
  },
  {
   "cell_type": "code",
   "execution_count": 6,
   "id": "910f208e",
   "metadata": {},
   "outputs": [
    {
     "name": "stdout",
     "output_type": "stream",
     "text": [
      "[0 1 1 1 1 1 1 1 1 1]\n",
      "[1 1 1 1 1 1 1 0 1 1]\n",
      "[1 1 1 1 1 1 0 1 1 1]\n",
      "Total generated: 318\n"
     ]
    }
   ],
   "source": [
    "# For generating numbers.\n",
    "import numpy as np\n",
    "# Keep flipping coins until we get three examples of getting five heads in ten coin tosses.\n",
    "\n",
    "# Number of examples.\n",
    "N = 3\n",
    "\n",
    "# Keep track of number of arrays generated.\n",
    "total_no = 0\n",
    "\n",
    "# Keep trying until we get three examples.\n",
    "while N > 0:\n",
    "    # Add 1 to total.\n",
    "    total_no = total_no + 1\n",
    "    # Toss 10 coins.\n",
    "    tosses = np.random.binomial(1, 0.5, 10)\n",
    "    # Check if we got five heads.\n",
    "    if tosses.sum() == 4:\n",
    "        # If we got 5 heads, print the list of heads/tails.\n",
    "        print(tosses)\n",
    "        # Reduce the number of examples left to find by 1.\n",
    "        N = N - 1\n",
    "\n",
    "print(f'Total generated: {total_no}')"
   ]
  },
  {
   "cell_type": "code",
   "execution_count": 8,
   "id": "5acb08f5",
   "metadata": {},
   "outputs": [
    {
     "name": "stdout",
     "output_type": "stream",
     "text": [
      "false\n"
     ]
    }
   ],
   "source": [
    "if [1,0,1] == [1,0,0]:\n",
    "    print(\"true\")\n",
    "else:\n",
    "    print(\"false\")"
   ]
  },
  {
   "cell_type": "code",
   "execution_count": 14,
   "id": "85616e12",
   "metadata": {},
   "outputs": [
    {
     "name": "stdout",
     "output_type": "stream",
     "text": [
      "[1, 0, 1, 0, 1, 0]\n",
      "[0, 1, 1, 1, 1, 1]\n"
     ]
    }
   ],
   "source": [
    "a = [1,0,1,0,1,0]\n",
    "list =[[1,0,1,0,1,0],[0,1,1,1,1,1]]\n",
    "list[0]\n",
    "for index in list:\n",
    "    if index != a:\n",
    "        \n"
   ]
  },
  {
   "cell_type": "code",
   "execution_count": 25,
   "id": "97a9339b",
   "metadata": {},
   "outputs": [],
   "source": [
    "tosses = np.random.binomial(1, 0.5, 10)"
   ]
  },
  {
   "cell_type": "code",
   "execution_count": 26,
   "id": "cbe31289",
   "metadata": {},
   "outputs": [
    {
     "data": {
      "text/plain": [
       "array([1, 1, 0, 1, 1, 0, 1, 0, 0, 1])"
      ]
     },
     "execution_count": 26,
     "metadata": {},
     "output_type": "execute_result"
    }
   ],
   "source": [
    "tosses"
   ]
  },
  {
   "cell_type": "markdown",
   "id": "758ecfbb",
   "metadata": {},
   "source": [
    "# Exercise 3"
   ]
  },
  {
   "cell_type": "markdown",
   "id": "f076adff",
   "metadata": {},
   "source": [
    "Plot bar charts or histograms of any three different distributions listed at the following link:\n",
    "\n",
    "https://numpy.org/doc/stable/reference/random/generator.html#distributions"
   ]
  },
  {
   "cell_type": "markdown",
   "id": "5a54e085",
   "metadata": {},
   "source": [
    "### Gamma Distribution"
   ]
  },
  {
   "cell_type": "code",
   "execution_count": 10,
   "id": "bb52826a",
   "metadata": {},
   "outputs": [],
   "source": [
    "shape, scale = 2., 2.\n",
    "s = np.random.gamma(shape, scale, 1000)"
   ]
  },
  {
   "cell_type": "code",
   "execution_count": 12,
   "id": "978343b4",
   "metadata": {},
   "outputs": [
    {
     "data": {
      "image/png": "[encoded data removed]",
      "text/plain": [
       "<Figure size 432x288 with 1 Axes>"
      ]
     },
     "metadata": {
      "needs_background": "light"
     },
     "output_type": "display_data"
    }
   ],
   "source": [
    "import matplotlib.pyplot as plt\n",
    "import scipy.special as sps  \n",
    "count, bins, ignored = plt.hist(s, 50, density=True)\n",
    "y = bins**(shape-1)*(np.exp(-bins/scale) /  \n",
    "                     (sps.gamma(shape)*scale**shape))\n",
    "plt.plot(bins, y, linewidth=2, color='r')  \n",
    "plt.show()"
   ]
  },
  {
   "cell_type": "code",
   "execution_count": 19,
   "id": "e8be2719",
   "metadata": {},
   "outputs": [],
   "source": [
    "# Generate 1000 numbers on a standard normal distribution.\n",
    "samples_1 = rng.gamma(2,2,10000)"
   ]
  },
  {
   "cell_type": "code",
   "execution_count": 2,
   "id": "b8e7b482",
   "metadata": {},
   "outputs": [
    {
     "ename": "NameError",
     "evalue": "name 'plt' is not defined",
     "output_type": "error",
     "traceback": [
      "\u001b[1;31m---------------------------------------------------------------------------\u001b[0m",
      "\u001b[1;31mNameError\u001b[0m                                 Traceback (most recent call last)",
      "\u001b[1;32m~\\AppData\\Local\\Temp/ipykernel_40564/1084689669.py\u001b[0m in \u001b[0;36m<module>\u001b[1;34m\u001b[0m\n\u001b[0;32m      1\u001b[0m \u001b[1;31m# Create a figure.\u001b[0m\u001b[1;33m\u001b[0m\u001b[1;33m\u001b[0m\u001b[0m\n\u001b[1;32m----> 2\u001b[1;33m \u001b[0mfig\u001b[0m\u001b[1;33m,\u001b[0m \u001b[0max\u001b[0m \u001b[1;33m=\u001b[0m \u001b[0mplt\u001b[0m\u001b[1;33m.\u001b[0m\u001b[0msubplots\u001b[0m\u001b[1;33m(\u001b[0m\u001b[1;33m)\u001b[0m\u001b[1;33m\u001b[0m\u001b[1;33m\u001b[0m\u001b[0m\n\u001b[0m\u001b[0;32m      3\u001b[0m \u001b[1;33m\u001b[0m\u001b[0m\n\u001b[0;32m      4\u001b[0m \u001b[1;31m# Create histogram.\u001b[0m\u001b[1;33m\u001b[0m\u001b[1;33m\u001b[0m\u001b[0m\n\u001b[0;32m      5\u001b[0m \u001b[0max\u001b[0m\u001b[1;33m.\u001b[0m\u001b[0mhist\u001b[0m\u001b[1;33m(\u001b[0m\u001b[0msamples_1\u001b[0m\u001b[1;33m,\u001b[0m \u001b[0mbins\u001b[0m\u001b[1;33m=\u001b[0m\u001b[1;36m100\u001b[0m\u001b[1;33m)\u001b[0m\u001b[1;33m\u001b[0m\u001b[1;33m\u001b[0m\u001b[0m\n",
      "\u001b[1;31mNameError\u001b[0m: name 'plt' is not defined"
     ]
    }
   ],
   "source": [
    "# Create a figure.\n",
    "fig, ax = plt.subplots()\n",
    "\n",
    "# Create histogram.\n",
    "ax.hist(samples_1, bins=100)\n",
    "\n",
    "\n"
   ]
  },
  {
   "cell_type": "markdown",
   "id": "72334532",
   "metadata": {},
   "source": [
    "## Rayleigh Distribution"
   ]
  },
  {
   "cell_type": "markdown",
   "id": "f5256bb0",
   "metadata": {},
   "source": [
    "The Rayleigh distribution is a continuous probability distribution named after Lord Rayleigh\n",
    "Its found :\n",
    "- In the field of nutrition for linking dietary nutrient levels and human and animal responses\n",
    "- In physical oceanography, the distribution of significant wave height approximately follows a Rayleigh distribution\n",
    "- Used in ballistics used for calculating a measure of a weapons precision"
   ]
  },
  {
   "cell_type": "markdown",
   "id": "68e970eb",
   "metadata": {},
   "source": [
    "Method to generate samples for a Rayleigh Distribution:<br>\n",
    "\n",
    "random.Generator.rayleigh(scale=1.0, size=None)"
   ]
  },
  {
   "cell_type": "code",
   "execution_count": 23,
   "id": "ef0f8ad9",
   "metadata": {},
   "outputs": [],
   "source": [
    "# Create new, seeded random number generator.\n",
    "rng = np.random.default_rng(0)"
   ]
  },
  {
   "cell_type": "code",
   "execution_count": 24,
   "id": "0aa5929b",
   "metadata": {},
   "outputs": [],
   "source": [
    "# scale - 2 (standard deviation) and size = 100000\n",
    "samples_2 = rng.rayleigh(2, 100000)"
   ]
  },
  {
   "cell_type": "code",
   "execution_count": 25,
   "id": "ca496729",
   "metadata": {},
   "outputs": [
    {
     "data": {
      "text/plain": [
       "(array([1.430e+02, 3.240e+02, 6.150e+02, 8.380e+02, 1.137e+03, 1.241e+03,\n",
       "        1.484e+03, 1.683e+03, 1.828e+03, 2.105e+03, 2.146e+03, 2.330e+03,\n",
       "        2.487e+03, 2.673e+03, 2.668e+03, 2.762e+03, 2.854e+03, 2.849e+03,\n",
       "        2.917e+03, 2.949e+03, 2.937e+03, 2.893e+03, 2.897e+03, 2.867e+03,\n",
       "        2.838e+03, 2.720e+03, 2.647e+03, 2.638e+03, 2.491e+03, 2.507e+03,\n",
       "        2.383e+03, 2.345e+03, 2.260e+03, 2.046e+03, 1.952e+03, 1.837e+03,\n",
       "        1.806e+03, 1.647e+03, 1.613e+03, 1.458e+03, 1.324e+03, 1.323e+03,\n",
       "        1.135e+03, 1.109e+03, 9.860e+02, 9.270e+02, 8.510e+02, 8.120e+02,\n",
       "        6.770e+02, 6.800e+02, 6.130e+02, 5.240e+02, 5.170e+02, 4.510e+02,\n",
       "        3.860e+02, 3.670e+02, 3.120e+02, 2.680e+02, 2.320e+02, 2.420e+02,\n",
       "        2.000e+02, 1.840e+02, 1.540e+02, 1.360e+02, 9.400e+01, 9.100e+01,\n",
       "        6.000e+01, 8.300e+01, 6.200e+01, 5.400e+01, 4.000e+01, 4.600e+01,\n",
       "        3.800e+01, 3.000e+01, 2.800e+01, 2.100e+01, 2.300e+01, 2.000e+01,\n",
       "        1.100e+01, 7.000e+00, 1.200e+01, 1.100e+01, 4.000e+00, 8.000e+00,\n",
       "        1.000e+01, 2.000e+00, 4.000e+00, 3.000e+00, 3.000e+00, 4.000e+00,\n",
       "        1.000e+00, 2.000e+00, 0.000e+00, 0.000e+00, 0.000e+00, 0.000e+00,\n",
       "        1.000e+00, 1.000e+00, 0.000e+00, 1.000e+00]),\n",
       " array([0.0118821 , 0.10856156, 0.20524101, 0.30192046, 0.39859992,\n",
       "        0.49527937, 0.59195882, 0.68863827, 0.78531773, 0.88199718,\n",
       "        0.97867663, 1.07535609, 1.17203554, 1.26871499, 1.36539444,\n",
       "        1.4620739 , 1.55875335, 1.6554328 , 1.75211226, 1.84879171,\n",
       "        1.94547116, 2.04215061, 2.13883007, 2.23550952, 2.33218897,\n",
       "        2.42886843, 2.52554788, 2.62222733, 2.71890679, 2.81558624,\n",
       "        2.91226569, 3.00894514, 3.1056246 , 3.20230405, 3.2989835 ,\n",
       "        3.39566296, 3.49234241, 3.58902186, 3.68570131, 3.78238077,\n",
       "        3.87906022, 3.97573967, 4.07241913, 4.16909858, 4.26577803,\n",
       "        4.36245748, 4.45913694, 4.55581639, 4.65249584, 4.7491753 ,\n",
       "        4.84585475, 4.9425342 , 5.03921365, 5.13589311, 5.23257256,\n",
       "        5.32925201, 5.42593147, 5.52261092, 5.61929037, 5.71596982,\n",
       "        5.81264928, 5.90932873, 6.00600818, 6.10268764, 6.19936709,\n",
       "        6.29604654, 6.39272599, 6.48940545, 6.5860849 , 6.68276435,\n",
       "        6.77944381, 6.87612326, 6.97280271, 7.06948217, 7.16616162,\n",
       "        7.26284107, 7.35952052, 7.45619998, 7.55287943, 7.64955888,\n",
       "        7.74623834, 7.84291779, 7.93959724, 8.03627669, 8.13295615,\n",
       "        8.2296356 , 8.32631505, 8.42299451, 8.51967396, 8.61635341,\n",
       "        8.71303286, 8.80971232, 8.90639177, 9.00307122, 9.09975068,\n",
       "        9.19643013, 9.29310958, 9.38978903, 9.48646849, 9.58314794,\n",
       "        9.67982739]),\n",
       " <BarContainer object of 100 artists>)"
      ]
     },
     "execution_count": 25,
     "metadata": {},
     "output_type": "execute_result"
    },
    {
     "data": {
      "image/png": "[encoded data removed]",
      "text/plain": [
       "<Figure size 640x480 with 1 Axes>"
      ]
     },
     "metadata": {},
     "output_type": "display_data"
    }
   ],
   "source": [
    "# Create a figure.\n",
    "fig, ax = plt.subplots()\n",
    "\n",
    "# Create histogram.\n",
    "ax.hist(samples_2, bins=100)\n",
    "\n"
   ]
  },
  {
   "cell_type": "markdown",
   "id": "77f3dd5b",
   "metadata": {},
   "source": [
    "## Gumbel Distribution"
   ]
  },
  {
   "cell_type": "markdown",
   "id": "33c3d4b5",
   "metadata": {},
   "source": [
    "The Gumbel distribution is a continuous distribution named after Emil Julius Gumbel who was a German mathematician. \n",
    "One of its uses is to analyze such variables as monthly and annual maximum values of daily rainfall"
   ]
  },
  {
   "cell_type": "markdown",
   "id": "4a100585",
   "metadata": {},
   "source": [
    "**Gumbel distribution method**<br>\n",
    "random.Generator.gumbel(loc=0.0, scale=1.0, size=None)"
   ]
  },
  {
   "cell_type": "code",
   "execution_count": null,
   "id": "b5a6918d",
   "metadata": {},
   "outputs": [],
   "source": [
    "# Create new, seeded random number generator.\n",
    "rng = np.random.default_rng(0)"
   ]
  },
  {
   "cell_type": "code",
   "execution_count": 30,
   "id": "4a5b5885",
   "metadata": {},
   "outputs": [],
   "source": [
    "# loc = 25, scale - 1.5 (standard deviation) and size = 100000\n",
    "rayleighSamples = rng.gumbel(12,1.5, 100000)"
   ]
  },
  {
   "cell_type": "code",
   "execution_count": 31,
   "id": "cfab4f88",
   "metadata": {},
   "outputs": [
    {
     "data": {
      "text/plain": [
       "(array([6.000e+00, 8.000e+00, 1.800e+01, 6.100e+01, 9.900e+01, 2.280e+02,\n",
       "        3.550e+02, 6.180e+02, 9.060e+02, 1.317e+03, 1.744e+03, 2.331e+03,\n",
       "        2.675e+03, 3.243e+03, 3.541e+03, 4.034e+03, 4.258e+03, 4.548e+03,\n",
       "        4.640e+03, 4.516e+03, 4.651e+03, 4.498e+03, 4.367e+03, 4.081e+03,\n",
       "        4.044e+03, 3.617e+03, 3.471e+03, 3.063e+03, 2.897e+03, 2.677e+03,\n",
       "        2.480e+03, 2.351e+03, 1.999e+03, 1.839e+03, 1.654e+03, 1.455e+03,\n",
       "        1.321e+03, 1.190e+03, 1.098e+03, 9.570e+02, 8.130e+02, 7.320e+02,\n",
       "        6.660e+02, 6.150e+02, 4.810e+02, 4.340e+02, 4.190e+02, 3.630e+02,\n",
       "        2.860e+02, 2.910e+02, 2.270e+02, 2.290e+02, 2.030e+02, 1.670e+02,\n",
       "        1.430e+02, 1.290e+02, 1.050e+02, 1.070e+02, 9.200e+01, 6.900e+01,\n",
       "        7.300e+01, 5.500e+01, 5.400e+01, 2.500e+01, 3.800e+01, 5.100e+01,\n",
       "        3.700e+01, 3.300e+01, 1.600e+01, 1.800e+01, 1.700e+01, 2.300e+01,\n",
       "        1.900e+01, 1.200e+01, 9.000e+00, 1.400e+01, 5.000e+00, 1.000e+01,\n",
       "        1.000e+01, 1.000e+01, 6.000e+00, 2.000e+00, 3.000e+00, 4.000e+00,\n",
       "        4.000e+00, 5.000e+00, 2.000e+00, 1.000e+00, 2.000e+00, 2.000e+00,\n",
       "        4.000e+00, 1.000e+00, 4.000e+00, 2.000e+00, 0.000e+00, 0.000e+00,\n",
       "        0.000e+00, 1.000e+00, 0.000e+00, 1.000e+00]),\n",
       " array([ 8.29766336,  8.48711596,  8.67656856,  8.86602117,  9.05547377,\n",
       "         9.24492637,  9.43437897,  9.62383158,  9.81328418, 10.00273678,\n",
       "        10.19218938, 10.38164198, 10.57109459, 10.76054719, 10.94999979,\n",
       "        11.13945239, 11.328905  , 11.5183576 , 11.7078102 , 11.8972628 ,\n",
       "        12.0867154 , 12.27616801, 12.46562061, 12.65507321, 12.84452581,\n",
       "        13.03397842, 13.22343102, 13.41288362, 13.60233622, 13.79178882,\n",
       "        13.98124143, 14.17069403, 14.36014663, 14.54959923, 14.73905184,\n",
       "        14.92850444, 15.11795704, 15.30740964, 15.49686224, 15.68631485,\n",
       "        15.87576745, 16.06522005, 16.25467265, 16.44412526, 16.63357786,\n",
       "        16.82303046, 17.01248306, 17.20193566, 17.39138827, 17.58084087,\n",
       "        17.77029347, 17.95974607, 18.14919868, 18.33865128, 18.52810388,\n",
       "        18.71755648, 18.90700908, 19.09646169, 19.28591429, 19.47536689,\n",
       "        19.66481949, 19.8542721 , 20.0437247 , 20.2331773 , 20.4226299 ,\n",
       "        20.6120825 , 20.80153511, 20.99098771, 21.18044031, 21.36989291,\n",
       "        21.55934552, 21.74879812, 21.93825072, 22.12770332, 22.31715592,\n",
       "        22.50660853, 22.69606113, 22.88551373, 23.07496633, 23.26441894,\n",
       "        23.45387154, 23.64332414, 23.83277674, 24.02222934, 24.21168195,\n",
       "        24.40113455, 24.59058715, 24.78003975, 24.96949236, 25.15894496,\n",
       "        25.34839756, 25.53785016, 25.72730277, 25.91675537, 26.10620797,\n",
       "        26.29566057, 26.48511317, 26.67456578, 26.86401838, 27.05347098,\n",
       "        27.24292358]),\n",
       " <BarContainer object of 100 artists>)"
      ]
     },
     "execution_count": 31,
     "metadata": {},
     "output_type": "execute_result"
    },
    {
     "data": {
      "image/png": "[encoded data removed]",
      "text/plain": [
       "<Figure size 640x480 with 1 Axes>"
      ]
     },
     "metadata": {},
     "output_type": "display_data"
    }
   ],
   "source": [
    "# Create a figure.\n",
    "fig, ax = plt.subplots()\n",
    "\n",
    "# Create histogram.\n",
    "ax.hist(rayleighSamples, bins=100)"
   ]
  },
  {
   "cell_type": "markdown",
   "id": "93a39fd7",
   "metadata": {},
   "source": [
    "## Chisquare Distribution"
   ]
  },
  {
   "cell_type": "markdown",
   "id": "249b1dad",
   "metadata": {},
   "source": [
    "A chisquare distribution is a continuous distribution with K degress of freedom.\n",
    "The chisquare Distribution is used alot in inferential statistics"
   ]
  },
  {
   "cell_type": "markdown",
   "id": "80880890",
   "metadata": {},
   "source": [
    "**Chisquare distribution method**<br>\n",
    "random.Generator.chisquare(df, size=None)"
   ]
  },
  {
   "cell_type": "code",
   "execution_count": 57,
   "id": "9f5dbdf0",
   "metadata": {},
   "outputs": [],
   "source": [
    "# degrees of freedon = 25, size = 100000\n",
    "chisquareSamples = rng.chisquare(3, 100000)"
   ]
  },
  {
   "cell_type": "code",
   "execution_count": 58,
   "id": "101e37e4",
   "metadata": {},
   "outputs": [
    {
     "data": {
      "text/plain": [
       "(array([3.680e+03, 5.830e+03, 6.454e+03, 6.712e+03, 6.637e+03, 6.328e+03,\n",
       "        5.913e+03, 5.687e+03, 5.216e+03, 4.840e+03, 4.367e+03, 4.009e+03,\n",
       "        3.552e+03, 3.289e+03, 2.899e+03, 2.731e+03, 2.446e+03, 2.220e+03,\n",
       "        1.948e+03, 1.703e+03, 1.499e+03, 1.390e+03, 1.215e+03, 1.108e+03,\n",
       "        9.320e+02, 8.760e+02, 8.140e+02, 6.580e+02, 5.700e+02, 5.340e+02,\n",
       "        4.910e+02, 4.180e+02, 3.770e+02, 3.080e+02, 2.680e+02, 2.370e+02,\n",
       "        2.470e+02, 1.910e+02, 1.650e+02, 1.620e+02, 1.340e+02, 1.180e+02,\n",
       "        9.800e+01, 8.700e+01, 8.900e+01, 7.100e+01, 5.400e+01, 4.200e+01,\n",
       "        3.900e+01, 5.200e+01, 4.400e+01, 3.400e+01, 2.700e+01, 2.200e+01,\n",
       "        2.800e+01, 2.000e+01, 1.300e+01, 1.800e+01, 1.100e+01, 9.000e+00,\n",
       "        1.000e+01, 8.000e+00, 6.000e+00, 6.000e+00, 5.000e+00, 4.000e+00,\n",
       "        4.000e+00, 2.000e+00, 3.000e+00, 1.000e+00, 3.000e+00, 1.000e+00,\n",
       "        1.000e+00, 3.000e+00, 2.000e+00, 3.000e+00, 1.000e+00, 0.000e+00,\n",
       "        1.000e+00, 1.000e+00, 0.000e+00, 0.000e+00, 0.000e+00, 2.000e+00,\n",
       "        0.000e+00, 1.000e+00, 0.000e+00, 0.000e+00, 0.000e+00, 0.000e+00,\n",
       "        0.000e+00, 0.000e+00, 0.000e+00, 0.000e+00, 0.000e+00, 0.000e+00,\n",
       "        0.000e+00, 0.000e+00, 0.000e+00, 1.000e+00]),\n",
       " array([6.85478113e-04, 2.79135422e-01, 5.57585366e-01, 8.36035310e-01,\n",
       "        1.11448525e+00, 1.39293520e+00, 1.67138514e+00, 1.94983509e+00,\n",
       "        2.22828503e+00, 2.50673497e+00, 2.78518492e+00, 3.06363486e+00,\n",
       "        3.34208481e+00, 3.62053475e+00, 3.89898469e+00, 4.17743464e+00,\n",
       "        4.45588458e+00, 4.73433452e+00, 5.01278447e+00, 5.29123441e+00,\n",
       "        5.56968436e+00, 5.84813430e+00, 6.12658424e+00, 6.40503419e+00,\n",
       "        6.68348413e+00, 6.96193408e+00, 7.24038402e+00, 7.51883396e+00,\n",
       "        7.79728391e+00, 8.07573385e+00, 8.35418380e+00, 8.63263374e+00,\n",
       "        8.91108368e+00, 9.18953363e+00, 9.46798357e+00, 9.74643352e+00,\n",
       "        1.00248835e+01, 1.03033334e+01, 1.05817833e+01, 1.08602333e+01,\n",
       "        1.11386832e+01, 1.14171332e+01, 1.16955831e+01, 1.19740331e+01,\n",
       "        1.22524830e+01, 1.25309330e+01, 1.28093829e+01, 1.30878328e+01,\n",
       "        1.33662828e+01, 1.36447327e+01, 1.39231827e+01, 1.42016326e+01,\n",
       "        1.44800826e+01, 1.47585325e+01, 1.50369824e+01, 1.53154324e+01,\n",
       "        1.55938823e+01, 1.58723323e+01, 1.61507822e+01, 1.64292322e+01,\n",
       "        1.67076821e+01, 1.69861321e+01, 1.72645820e+01, 1.75430319e+01,\n",
       "        1.78214819e+01, 1.80999318e+01, 1.83783818e+01, 1.86568317e+01,\n",
       "        1.89352817e+01, 1.92137316e+01, 1.94921816e+01, 1.97706315e+01,\n",
       "        2.00490814e+01, 2.03275314e+01, 2.06059813e+01, 2.08844313e+01,\n",
       "        2.11628812e+01, 2.14413312e+01, 2.17197811e+01, 2.19982310e+01,\n",
       "        2.22766810e+01, 2.25551309e+01, 2.28335809e+01, 2.31120308e+01,\n",
       "        2.33904808e+01, 2.36689307e+01, 2.39473807e+01, 2.42258306e+01,\n",
       "        2.45042805e+01, 2.47827305e+01, 2.50611804e+01, 2.53396304e+01,\n",
       "        2.56180803e+01, 2.58965303e+01, 2.61749802e+01, 2.64534302e+01,\n",
       "        2.67318801e+01, 2.70103300e+01, 2.72887800e+01, 2.75672299e+01,\n",
       "        2.78456799e+01]),\n",
       " <BarContainer object of 100 artists>)"
      ]
     },
     "execution_count": 58,
     "metadata": {},
     "output_type": "execute_result"
    },
    {
     "data": {
      "image/png": "[encoded data removed]",
      "text/plain": [
       "<Figure size 640x480 with 1 Axes>"
      ]
     },
     "metadata": {},
     "output_type": "display_data"
    }
   ],
   "source": [
    "# Create a figure.\n",
    "fig, ax = plt.subplots()\n",
    "\n",
    "# Create histogram.\n",
    "ax.hist(chisquareSamples, bins=100)"
   ]
  },
  {
   "cell_type": "markdown",
   "id": "edd358eb",
   "metadata": {},
   "source": [
    "# Logistic Distribution"
   ]
  },
  {
   "cell_type": "markdown",
   "id": "76d08554",
   "metadata": {},
   "source": [
    "The logistic distribution is a continuous probability distribution.\n",
    "Its used for chess ratings and in Logistic regression"
   ]
  },
  {
   "cell_type": "code",
   "execution_count": null,
   "id": "83dae07b",
   "metadata": {},
   "outputs": [],
   "source": [
    "random.Generator.logistic(loc=0.0, scale=1.0, size=None)"
   ]
  },
  {
   "cell_type": "code",
   "execution_count": 65,
   "id": "affbb72d",
   "metadata": {},
   "outputs": [],
   "source": [
    "# loc = 25, scale = 1.0, size = 100000\n",
    "logisticSamples = rng.logistic(18,3.0, 100000)"
   ]
  },
  {
   "cell_type": "code",
   "execution_count": 66,
   "id": "bc8bef07",
   "metadata": {},
   "outputs": [
    {
     "data": {
      "text/plain": [
       "(array([1.000e+00, 1.000e+00, 3.000e+00, 0.000e+00, 0.000e+00, 0.000e+00,\n",
       "        4.000e+00, 3.000e+00, 2.000e+00, 5.000e+00, 8.000e+00, 8.000e+00,\n",
       "        1.100e+01, 1.500e+01, 1.300e+01, 1.800e+01, 2.200e+01, 3.600e+01,\n",
       "        3.800e+01, 4.400e+01, 6.500e+01, 7.900e+01, 8.900e+01, 1.420e+02,\n",
       "        1.810e+02, 2.220e+02, 3.100e+02, 3.800e+02, 4.180e+02, 5.900e+02,\n",
       "        7.530e+02, 9.800e+02, 1.172e+03, 1.445e+03, 1.731e+03, 2.267e+03,\n",
       "        2.694e+03, 3.128e+03, 3.713e+03, 4.423e+03, 4.876e+03, 5.437e+03,\n",
       "        6.006e+03, 6.062e+03, 6.156e+03, 6.046e+03, 5.845e+03, 5.313e+03,\n",
       "        4.881e+03, 4.296e+03, 3.747e+03, 3.109e+03, 2.590e+03, 2.111e+03,\n",
       "        1.739e+03, 1.438e+03, 1.118e+03, 9.030e+02, 7.190e+02, 5.650e+02,\n",
       "        4.310e+02, 3.500e+02, 2.550e+02, 1.910e+02, 1.970e+02, 1.280e+02,\n",
       "        9.700e+01, 8.500e+01, 6.600e+01, 5.400e+01, 4.300e+01, 3.300e+01,\n",
       "        2.300e+01, 9.000e+00, 1.300e+01, 1.000e+01, 9.000e+00, 4.000e+00,\n",
       "        6.000e+00, 1.000e+00, 9.000e+00, 3.000e+00, 2.000e+00, 1.000e+00,\n",
       "        3.000e+00, 2.000e+00, 0.000e+00, 1.000e+00, 0.000e+00, 0.000e+00,\n",
       "        0.000e+00, 0.000e+00, 1.000e+00, 1.000e+00, 0.000e+00, 0.000e+00,\n",
       "        0.000e+00, 0.000e+00, 0.000e+00, 1.000e+00]),\n",
       " array([-14.98156434, -14.23891057, -13.4962568 , -12.75360303,\n",
       "        -12.01094925, -11.26829548, -10.52564171,  -9.78298793,\n",
       "         -9.04033416,  -8.29768039,  -7.55502662,  -6.81237284,\n",
       "         -6.06971907,  -5.3270653 ,  -4.58441152,  -3.84175775,\n",
       "         -3.09910398,  -2.35645021,  -1.61379643,  -0.87114266,\n",
       "         -0.12848889,   0.61416488,   1.35681866,   2.09947243,\n",
       "          2.8421262 ,   3.58477998,   4.32743375,   5.07008752,\n",
       "          5.81274129,   6.55539507,   7.29804884,   8.04070261,\n",
       "          8.78335639,   9.52601016,  10.26866393,  11.0113177 ,\n",
       "         11.75397148,  12.49662525,  13.23927902,  13.9819328 ,\n",
       "         14.72458657,  15.46724034,  16.20989411,  16.95254789,\n",
       "         17.69520166,  18.43785543,  19.18050921,  19.92316298,\n",
       "         20.66581675,  21.40847052,  22.1511243 ,  22.89377807,\n",
       "         23.63643184,  24.37908561,  25.12173939,  25.86439316,\n",
       "         26.60704693,  27.34970071,  28.09235448,  28.83500825,\n",
       "         29.57766202,  30.3203158 ,  31.06296957,  31.80562334,\n",
       "         32.54827712,  33.29093089,  34.03358466,  34.77623843,\n",
       "         35.51889221,  36.26154598,  37.00419975,  37.74685353,\n",
       "         38.4895073 ,  39.23216107,  39.97481484,  40.71746862,\n",
       "         41.46012239,  42.20277616,  42.94542993,  43.68808371,\n",
       "         44.43073748,  45.17339125,  45.91604503,  46.6586988 ,\n",
       "         47.40135257,  48.14400634,  48.88666012,  49.62931389,\n",
       "         50.37196766,  51.11462144,  51.85727521,  52.59992898,\n",
       "         53.34258275,  54.08523653,  54.8278903 ,  55.57054407,\n",
       "         56.31319785,  57.05585162,  57.79850539,  58.54115916,\n",
       "         59.28381294]),\n",
       " <BarContainer object of 100 artists>)"
      ]
     },
     "execution_count": 66,
     "metadata": {},
     "output_type": "execute_result"
    },
    {
     "data": {
      "image/png": "[encoded data removed]",
      "text/plain": [
       "<Figure size 640x480 with 1 Axes>"
      ]
     },
     "metadata": {},
     "output_type": "display_data"
    }
   ],
   "source": [
    "# Create a figure.\n",
    "fig, ax = plt.subplots()\n",
    "\n",
    "# Create histogram.\n",
    "ax.hist(logisticSamples, bins=100)"
   ]
  },
  {
   "cell_type": "markdown",
   "id": "17ab2a88",
   "metadata": {},
   "source": [
    "## References\n",
    "\n",
    "https://numpy.org/doc/stable/reference/random/generator.html#distributions\n",
    "\n",
    "https://en.wikipedia.org/wiki/Rayleigh_distribution\n",
    "\n",
    "https://www.sciencedirect.com/topics/mathematics/chi-square-distribution"
   ]
  },
  {
   "cell_type": "markdown",
   "id": "942afc90",
   "metadata": {},
   "source": [
    "***\n",
    "# END\n",
    "***"
   ]
  }
 ],
 "metadata": {
  "kernelspec": {
   "display_name": "Python 3 (ipykernel)",
   "language": "python",
   "name": "python3"
  },
  "language_info": {
   "codemirror_mode": {
    "name": "ipython",
    "version": 3
   },
   "file_extension": ".py",
   "mimetype": "text/x-python",
   "name": "python",
   "nbconvert_exporter": "python",
   "pygments_lexer": "ipython3",
   "version": "3.9.13"
  }
 },
 "nbformat": 4,
 "nbformat_minor": 5
}
