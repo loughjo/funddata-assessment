{
 "cells": [
  {
   "cell_type": "markdown",
   "id": "b495c969",
   "metadata": {},
   "source": [
    "# Assesments"
   ]
  },
  {
   "cell_type": "code",
   "execution_count": 33,
   "id": "766b623c",
   "metadata": {},
   "outputs": [],
   "source": [
    "# For generating numbers.\n",
    "import numpy as np\n",
    "\n",
    "# Plotting.\n",
    "import matplotlib.pyplot as plt"
   ]
  },
  {
   "cell_type": "markdown",
   "id": "80732aa1",
   "metadata": {},
   "source": [
    "## Standard Normal"
   ]
  },
  {
   "cell_type": "code",
   "execution_count": 34,
   "id": "74f5d448",
   "metadata": {},
   "outputs": [],
   "source": [
    "# Create new, seeded random number generator.\n",
    "rng = np.random.default_rng(0)\n",
    "\n",
    "# Generate 1000 numbers on a standard normal distribution.\n",
    "samples = rng.standard_normal(10000)"
   ]
  },
  {
   "cell_type": "code",
   "execution_count": 3,
   "id": "d82c9944",
   "metadata": {},
   "outputs": [
    {
     "data": {
      "text/plain": [
       "(array([  1.,   1.,   0.,   0.,   0.,   0.,   1.,   2.,   2.,   2.,   3.,\n",
       "          0.,   6.,   6.,  10.,   7.,   6.,  12.,  21.,   8.,  15.,  20.,\n",
       "         21.,  26.,  33.,  36.,  44.,  56.,  49.,  51.,  74.,  93.,  84.,\n",
       "         97., 103., 148., 144., 147., 182., 187., 189., 200., 233., 241.,\n",
       "        244., 266., 278., 233., 292., 316., 298., 296., 283., 249., 270.,\n",
       "        290., 273., 279., 254., 260., 265., 254., 225., 231., 204., 194.,\n",
       "        194., 179., 131., 153., 138., 112., 100.,  82.,  91.,  65.,  57.,\n",
       "         62.,  52.,  53.,  30.,  30.,  26.,  25.,  24.,  21.,  12.,  10.,\n",
       "          8.,  10.,   1.,   7.,   0.,   4.,   3.,   3.,   1.,   0.,   0.,\n",
       "          1.]),\n",
       " array([-3.89942173, -3.82560914, -3.75179655, -3.67798396, -3.60417137,\n",
       "        -3.53035878, -3.45654619, -3.3827336 , -3.30892101, -3.23510842,\n",
       "        -3.16129583, -3.08748324, -3.01367065, -2.93985806, -2.86604547,\n",
       "        -2.79223288, -2.7184203 , -2.64460771, -2.57079512, -2.49698253,\n",
       "        -2.42316994, -2.34935735, -2.27554476, -2.20173217, -2.12791958,\n",
       "        -2.05410699, -1.9802944 , -1.90648181, -1.83266922, -1.75885663,\n",
       "        -1.68504404, -1.61123145, -1.53741886, -1.46360627, -1.38979368,\n",
       "        -1.31598109, -1.2421685 , -1.16835591, -1.09454332, -1.02073073,\n",
       "        -0.94691814, -0.87310555, -0.79929296, -0.72548037, -0.65166778,\n",
       "        -0.57785519, -0.5040426 , -0.43023002, -0.35641743, -0.28260484,\n",
       "        -0.20879225, -0.13497966, -0.06116707,  0.01264552,  0.08645811,\n",
       "         0.1602707 ,  0.23408329,  0.30789588,  0.38170847,  0.45552106,\n",
       "         0.52933365,  0.60314624,  0.67695883,  0.75077142,  0.82458401,\n",
       "         0.8983966 ,  0.97220919,  1.04602178,  1.11983437,  1.19364696,\n",
       "         1.26745955,  1.34127214,  1.41508473,  1.48889732,  1.56270991,\n",
       "         1.6365225 ,  1.71033509,  1.78414768,  1.85796026,  1.93177285,\n",
       "         2.00558544,  2.07939803,  2.15321062,  2.22702321,  2.3008358 ,\n",
       "         2.37464839,  2.44846098,  2.52227357,  2.59608616,  2.66989875,\n",
       "         2.74371134,  2.81752393,  2.89133652,  2.96514911,  3.0389617 ,\n",
       "         3.11277429,  3.18658688,  3.26039947,  3.33421206,  3.40802465,\n",
       "         3.48183724]),\n",
       " <BarContainer object of 100 artists>)"
      ]
     },
     "execution_count": 3,
     "metadata": {},
     "output_type": "execute_result"
    },
    {
     "data": {
      "image/png": "[encoded data removed]",
      "text/plain": [
       "<Figure size 432x288 with 1 Axes>"
      ]
     },
     "metadata": {
      "needs_background": "light"
     },
     "output_type": "display_data"
    }
   ],
   "source": [
    "# Create a figure.\n",
    "fig, ax = plt.subplots()\n",
    "\n",
    "# Create histogram.\n",
    "ax.hist(samples, bins=100)"
   ]
  },
  {
   "cell_type": "markdown",
   "id": "d5d3a407",
   "metadata": {},
   "source": [
    "# Exercise 1"
   ]
  },
  {
   "cell_type": "markdown",
   "id": "92d31d18",
   "metadata": {},
   "source": [
    "*It is somewhat interesting that (5 * 4 * 3 * 2 * 1) perfectly divides (10 * 9 * 8 * 7 * 6) - there's no remainder.*\n",
    "\n",
    "*If we only wanted exactly four heads as opposed to five, the equivalent calculation would be (10 * 9 * 8 * 7) / (4 * 3 * 2 * 1).*\n",
    "*Does that evenly divide too? What is the formula in general?*\n",
    "\n",
    "*Does it always come out as a positive whole number?*"
   ]
  },
  {
   "cell_type": "markdown",
   "id": "b1bc682e",
   "metadata": {},
   "source": [
    "**Does that evenly divide too?**<br>\n",
    "Below you can see when we divide (10 * 9 * 8 * 7)  by (4 * 3 * 2 * 1) its a positive number and it divides evenly."
   ]
  },
  {
   "cell_type": "code",
   "execution_count": 1,
   "id": "c6566e85",
   "metadata": {},
   "outputs": [
    {
     "data": {
      "text/plain": [
       "210.0"
      ]
     },
     "execution_count": 1,
     "metadata": {},
     "output_type": "execute_result"
    }
   ],
   "source": [
    "(10 * 9 * 8 * 7) / (4 * 3 * 2 * 1)"
   ]
  },
  {
   "cell_type": "markdown",
   "id": "44f46f8c",
   "metadata": {},
   "source": [
    "**What is the formula in general?**<br>\n",
    "The formula in general is as follows :"
   ]
  },
  {
   "cell_type": "markdown",
   "id": "a7e2e39b",
   "metadata": {},
   "source": [
    "$$\\binom{n}{k} = \\frac{n!}{k!(n - k)!}$$"
   ]
  },
  {
   "cell_type": "markdown",
   "id": "aaccb61f",
   "metadata": {},
   "source": [
    "Where :\n",
    "- **n** = total number\n",
    "- **k** = number we want\n",
    "- **!** = means factorial"
   ]
  },
  {
   "cell_type": "markdown",
   "id": "e336fed8",
   "metadata": {},
   "source": [
    "So for above where there are 10 Coin tosses and we want 4 heads :\n",
    "- **n** = 10\n",
    "- **k** = 4"
   ]
  },
  {
   "cell_type": "markdown",
   "id": "a7b22caa",
   "metadata": {},
   "source": [
    "We substitute in the values into the formula :"
   ]
  },
  {
   "cell_type": "markdown",
   "id": "d7c24010",
   "metadata": {},
   "source": [
    "$$\\binom{10}{4} = \\frac{10!}{4!(10 - 4)!}$$"
   ]
  },
  {
   "cell_type": "markdown",
   "id": "e4967520",
   "metadata": {},
   "source": [
    "We expand out the formula :"
   ]
  },
  {
   "cell_type": "markdown",
   "id": "3d43d457",
   "metadata": {},
   "source": [
    "$$\\binom{10}{4} = \\frac{10*9*8*7*6*5*4*3*2*1!}{4*3*2*1!(6*5*4*3*2*1)!}$$"
   ]
  },
  {
   "cell_type": "markdown",
   "id": "a96c5947",
   "metadata": {},
   "source": [
    "Since we have (6x5x4x3x2x1) we can cancel this above and below the line to get : "
   ]
  },
  {
   "cell_type": "markdown",
   "id": "d0800946",
   "metadata": {},
   "source": [
    "$$= \\frac{10*9*8*7}{4*3*2*1}$$"
   ]
  },
  {
   "cell_type": "markdown",
   "id": "502d4767",
   "metadata": {},
   "source": [
    "Multiply it out and we get :"
   ]
  },
  {
   "cell_type": "markdown",
   "id": "9a668dc4",
   "metadata": {},
   "source": [
    "$$= \\frac{5040}{24}$$"
   ]
  },
  {
   "cell_type": "markdown",
   "id": "2a846723",
   "metadata": {},
   "source": [
    "There are 210 ways we can get exactly four heads"
   ]
  },
  {
   "cell_type": "markdown",
   "id": "8126bc62",
   "metadata": {},
   "source": [
    "**Does it always come out as a positive whole number?**<br>\n",
    "For the Coin toss example no matter what value we use as **k** (number we want) in the formula it will always come out as a postive whole number."
   ]
  },
  {
   "cell_type": "code",
   "execution_count": null,
   "id": "a455ac06",
   "metadata": {},
   "outputs": [],
   "source": []
  },
  {
   "cell_type": "code",
   "execution_count": 2,
   "id": "5b77d16d",
   "metadata": {},
   "outputs": [
    {
     "name": "stdout",
     "output_type": "stream",
     "text": [
      "( 1, 2)\n",
      "( 1, 3)\n",
      "( 1, 4)\n",
      "( 1, 5)\n",
      "( 1, 6)\n",
      "( 1, 7)\n",
      "( 1, 8)\n",
      "( 1, 9)\n",
      "( 1,10)\n",
      "( 2, 1)\n",
      "( 2, 3)\n",
      "( 2, 4)\n",
      "( 2, 5)\n",
      "( 2, 6)\n",
      "( 2, 7)\n",
      "( 2, 8)\n",
      "( 2, 9)\n",
      "( 2,10)\n",
      "( 3, 1)\n",
      "( 3, 2)\n",
      "( 3, 4)\n",
      "( 3, 5)\n",
      "( 3, 6)\n",
      "( 3, 7)\n",
      "( 3, 8)\n",
      "( 3, 9)\n",
      "( 3,10)\n",
      "( 4, 1)\n",
      "( 4, 2)\n",
      "( 4, 3)\n",
      "( 4, 5)\n",
      "( 4, 6)\n",
      "( 4, 7)\n",
      "( 4, 8)\n",
      "( 4, 9)\n",
      "( 4,10)\n",
      "( 5, 1)\n",
      "( 5, 2)\n",
      "( 5, 3)\n",
      "( 5, 4)\n",
      "( 5, 6)\n",
      "( 5, 7)\n",
      "( 5, 8)\n",
      "( 5, 9)\n",
      "( 5,10)\n",
      "( 6, 1)\n",
      "( 6, 2)\n",
      "( 6, 3)\n",
      "( 6, 4)\n",
      "( 6, 5)\n",
      "( 6, 7)\n",
      "( 6, 8)\n",
      "( 6, 9)\n",
      "( 6,10)\n",
      "( 7, 1)\n",
      "( 7, 2)\n",
      "( 7, 3)\n",
      "( 7, 4)\n",
      "( 7, 5)\n",
      "( 7, 6)\n",
      "( 7, 8)\n",
      "( 7, 9)\n",
      "( 7,10)\n",
      "( 8, 1)\n",
      "( 8, 2)\n",
      "( 8, 3)\n",
      "( 8, 4)\n",
      "( 8, 5)\n",
      "( 8, 6)\n",
      "( 8, 7)\n",
      "( 8, 9)\n",
      "( 8,10)\n",
      "( 9, 1)\n",
      "( 9, 2)\n",
      "( 9, 3)\n",
      "( 9, 4)\n",
      "( 9, 5)\n",
      "( 9, 6)\n",
      "( 9, 7)\n",
      "( 9, 8)\n",
      "( 9,10)\n",
      "(10, 1)\n",
      "(10, 2)\n",
      "(10, 3)\n",
      "(10, 4)\n",
      "(10, 5)\n",
      "(10, 6)\n",
      "(10, 7)\n",
      "(10, 8)\n",
      "(10, 9)\n",
      "Total combinations is 90.\n"
     ]
    }
   ],
   "source": [
    "# Number of combinations.\n",
    "no_combs = 0\n",
    "\n",
    "# Select the first position.\n",
    "for first in [1, 2, 3, 4, 5, 6, 7, 8, 9, 10]:\n",
    "    # Select the position for the second position.\n",
    "    for second in [1, 2, 3, 4, 5, 6, 7, 8, 9, 10]:\n",
    "        # Make sure the first and second positions are different.\n",
    "        if not first == second:\n",
    "            # Print the combination.\n",
    "            print(f'({first:2},{second:2})')\n",
    "            # Add one to number of combinations.\n",
    "            no_combs = no_combs + 1\n",
    "\n",
    "# Print total number of combinations.\n",
    "print(f'Total combinations is {no_combs}.')"
   ]
  },
  {
   "cell_type": "markdown",
   "id": "1386f78d",
   "metadata": {},
   "source": [
    "# Exercise 2"
   ]
  },
  {
   "cell_type": "markdown",
   "id": "0335ac03",
   "metadata": {},
   "source": [
    "Note that there are the same number of ways to get 4 tails as there to get 4 heads. Explain why this is."
   ]
  },
  {
   "cell_type": "markdown",
   "id": "d12ef429",
   "metadata": {},
   "source": [
    "To get 4 tails or 4 heads is the same probability\n",
    "\n",
    "T T T T H H H H H H"
   ]
  },
  {
   "cell_type": "markdown",
   "id": "653dac2e",
   "metadata": {},
   "source": [
    "So for above where there are 10 Coin tosses and we want 4 heads :\n",
    "\n",
    "n = 10<br>\n",
    "k = 4"
   ]
  },
  {
   "cell_type": "markdown",
   "id": "e90410ac",
   "metadata": {},
   "source": [
    "$$\\binom{10}{4} = \\frac{10!}{4!(10 - 4)!}$$"
   ]
  },
  {
   "cell_type": "markdown",
   "id": "9c3f9b1e",
   "metadata": {},
   "source": [
    "$$= \\frac{10*9*8*7}{4*3*2*1}$$"
   ]
  },
  {
   "cell_type": "code",
   "execution_count": null,
   "id": "ae3fec10",
   "metadata": {},
   "outputs": [],
   "source": []
  },
  {
   "cell_type": "markdown",
   "id": "9b5c23da",
   "metadata": {},
   "source": [
    "So for above where there are 10 Coin tosses and we want 4 tails and k  :\n",
    "\n",
    "n = 10<br>\n",
    "k = 6"
   ]
  },
  {
   "cell_type": "markdown",
   "id": "23cbf228",
   "metadata": {},
   "source": [
    "$$\\binom{10}{6} = \\frac{10!}{6!(10 - 6)!}$$"
   ]
  },
  {
   "cell_type": "code",
   "execution_count": 27,
   "id": "5252fc36",
   "metadata": {},
   "outputs": [
    {
     "data": {
      "text/plain": [
       "210"
      ]
     },
     "execution_count": 27,
     "metadata": {},
     "output_type": "execute_result"
    }
   ],
   "source": [
    "(10 * 9 * 8 * 7) // (4 * 3 * 2 * 1)"
   ]
  },
  {
   "cell_type": "markdown",
   "id": "54816b55",
   "metadata": {},
   "source": [
    "There is only 1 way to get 10 Heads or indeed 10 Tails"
   ]
  },
  {
   "cell_type": "code",
   "execution_count": 9,
   "id": "91ee9853",
   "metadata": {},
   "outputs": [
    {
     "data": {
      "text/plain": [
       "1"
      ]
     },
     "execution_count": 9,
     "metadata": {},
     "output_type": "execute_result"
    }
   ],
   "source": [
    "(10 * 9 * 8 * 7 * 6 * 5 * 4 * 3 * 2 * 1) // (10 * 9 * 8 * 7 * 6 * 5 * 4 * 3 * 2 * 1)"
   ]
  },
  {
   "cell_type": "markdown",
   "id": "ae3f8ed9",
   "metadata": {},
   "source": [
    "There are 10 ways to get exactly 9 heads"
   ]
  },
  {
   "cell_type": "code",
   "execution_count": 10,
   "id": "550058dd",
   "metadata": {},
   "outputs": [
    {
     "data": {
      "text/plain": [
       "10"
      ]
     },
     "execution_count": 10,
     "metadata": {},
     "output_type": "execute_result"
    }
   ],
   "source": [
    "(10 * 9 * 8 * 7 * 6 * 5 * 4 * 3 * 2) // (9 * 8 * 7 * 6 * 5 * 4 * 3 * 2 * 1)"
   ]
  },
  {
   "cell_type": "code",
   "execution_count": null,
   "id": "e4810484",
   "metadata": {},
   "outputs": [],
   "source": [
    "There are 45 ways to get exactly 8 Heads"
   ]
  },
  {
   "cell_type": "code",
   "execution_count": 11,
   "id": "aaf4b8e6",
   "metadata": {},
   "outputs": [
    {
     "data": {
      "text/plain": [
       "45"
      ]
     },
     "execution_count": 11,
     "metadata": {},
     "output_type": "execute_result"
    }
   ],
   "source": [
    "(10 * 9 * 8 * 7 * 6 * 5 * 4 * 3) // (8 * 7 * 6 * 5 * 4 * 3 * 2 * 1)"
   ]
  },
  {
   "cell_type": "code",
   "execution_count": null,
   "id": "02a76404",
   "metadata": {},
   "outputs": [],
   "source": [
    "There are 120 ways to get exactly 7 Heads"
   ]
  },
  {
   "cell_type": "code",
   "execution_count": 12,
   "id": "a36c953b",
   "metadata": {},
   "outputs": [
    {
     "data": {
      "text/plain": [
       "120"
      ]
     },
     "execution_count": 12,
     "metadata": {},
     "output_type": "execute_result"
    }
   ],
   "source": [
    "(10 * 9 * 8 * 7 * 6 * 5 * 4) // (7 * 6 * 5 * 4 * 3 * 2 * 1)"
   ]
  },
  {
   "cell_type": "code",
   "execution_count": null,
   "id": "41cb3082",
   "metadata": {},
   "outputs": [],
   "source": [
    "There are 210 ways to get exactly 6 Heads"
   ]
  },
  {
   "cell_type": "code",
   "execution_count": 13,
   "id": "e9507619",
   "metadata": {},
   "outputs": [
    {
     "data": {
      "text/plain": [
       "210"
      ]
     },
     "execution_count": 13,
     "metadata": {},
     "output_type": "execute_result"
    }
   ],
   "source": [
    "(10 * 9 * 8 * 7 * 6 * 5) // (6 * 5 * 4 * 3 * 2 * 1)"
   ]
  },
  {
   "cell_type": "code",
   "execution_count": null,
   "id": "d535d176",
   "metadata": {},
   "outputs": [],
   "source": [
    "There are 252 ways to get exactly 5 Heads"
   ]
  },
  {
   "cell_type": "code",
   "execution_count": 14,
   "id": "c7767469",
   "metadata": {},
   "outputs": [
    {
     "data": {
      "text/plain": [
       "252"
      ]
     },
     "execution_count": 14,
     "metadata": {},
     "output_type": "execute_result"
    }
   ],
   "source": [
    "(10 * 9 * 8 * 7 * 6) // (5 * 4 * 3 * 2 * 1)"
   ]
  },
  {
   "cell_type": "markdown",
   "id": "9f10ea0e",
   "metadata": {},
   "source": [
    "There are 210 ways to get exactly 4 Heads"
   ]
  },
  {
   "cell_type": "code",
   "execution_count": 16,
   "id": "4274b0b3",
   "metadata": {},
   "outputs": [
    {
     "data": {
      "text/plain": [
       "210"
      ]
     },
     "execution_count": 16,
     "metadata": {},
     "output_type": "execute_result"
    }
   ],
   "source": [
    "(10 * 9 * 8 * 7) // (4 * 3 * 2 * 1)"
   ]
  },
  {
   "cell_type": "markdown",
   "id": "c488d9eb",
   "metadata": {},
   "source": [
    "There are 120 ways to get exactly 3 Heads"
   ]
  },
  {
   "cell_type": "code",
   "execution_count": 17,
   "id": "14c20504",
   "metadata": {},
   "outputs": [
    {
     "data": {
      "text/plain": [
       "120"
      ]
     },
     "execution_count": 17,
     "metadata": {},
     "output_type": "execute_result"
    }
   ],
   "source": [
    "(10 * 9 * 8) // (3 * 2 * 1)"
   ]
  },
  {
   "cell_type": "markdown",
   "id": "991e684d",
   "metadata": {},
   "source": [
    "There are 45 ways to get exactly 2 Heads"
   ]
  },
  {
   "cell_type": "code",
   "execution_count": 18,
   "id": "4ec43e87",
   "metadata": {},
   "outputs": [
    {
     "data": {
      "text/plain": [
       "45"
      ]
     },
     "execution_count": 18,
     "metadata": {},
     "output_type": "execute_result"
    }
   ],
   "source": [
    "(10 * 9) // (2 * 1)"
   ]
  },
  {
   "cell_type": "markdown",
   "id": "cdc83b1a",
   "metadata": {},
   "source": [
    "There are 10 ways to get exactly 1 Heads"
   ]
  },
  {
   "cell_type": "code",
   "execution_count": 19,
   "id": "9d94a0f5",
   "metadata": {},
   "outputs": [
    {
     "data": {
      "text/plain": [
       "10"
      ]
     },
     "execution_count": 19,
     "metadata": {},
     "output_type": "execute_result"
    }
   ],
   "source": [
    "(10) // (1)"
   ]
  },
  {
   "cell_type": "code",
   "execution_count": 18,
   "id": "2d4001c2",
   "metadata": {},
   "outputs": [],
   "source": [
    "import random\n",
    "HeadsORTails = ['T','H']\n",
    "#randomLetter = random.choice(HeadsORTails)"
   ]
  },
  {
   "cell_type": "code",
   "execution_count": 19,
   "id": "f2efccad",
   "metadata": {},
   "outputs": [],
   "source": [
    "#randomLetter"
   ]
  },
  {
   "cell_type": "code",
   "execution_count": 37,
   "id": "c4efdbed",
   "metadata": {},
   "outputs": [
    {
     "data": {
      "text/plain": [
       "'THHTTHTHTTH'"
      ]
     },
     "execution_count": 37,
     "metadata": {},
     "output_type": "execute_result"
    }
   ],
   "source": [
    "num = 0\n",
    "while num < 10:\n",
    "    randomLetter = randomLetter + random.choice(HeadsORTails)\n",
    "    num = num + 1\n",
    "    occurences = \n",
    "randomLetter"
   ]
  },
  {
   "cell_type": "code",
   "execution_count": 6,
   "id": "910f208e",
   "metadata": {},
   "outputs": [
    {
     "name": "stdout",
     "output_type": "stream",
     "text": [
      "[0 1 1 1 1 1 1 1 1 1]\n",
      "[1 1 1 1 1 1 1 0 1 1]\n",
      "[1 1 1 1 1 1 0 1 1 1]\n",
      "Total generated: 318\n"
     ]
    }
   ],
   "source": [
    "# For generating numbers.\n",
    "import numpy as np\n",
    "# Keep flipping coins until we get three examples of getting five heads in ten coin tosses.\n",
    "\n",
    "# Number of examples.\n",
    "N = 3\n",
    "\n",
    "# Keep track of number of arrays generated.\n",
    "total_no = 0\n",
    "\n",
    "# Keep trying until we get three examples.\n",
    "while N > 0:\n",
    "    # Add 1 to total.\n",
    "    total_no = total_no + 1\n",
    "    # Toss 10 coins.\n",
    "    tosses = np.random.binomial(1, 0.5, 10)\n",
    "    # Check if we got five heads.\n",
    "    if tosses.sum() == 4:\n",
    "        # If we got 5 heads, print the list of heads/tails.\n",
    "        print(tosses)\n",
    "        # Reduce the number of examples left to find by 1.\n",
    "        N = N - 1\n",
    "\n",
    "print(f'Total generated: {total_no}')"
   ]
  },
  {
   "cell_type": "code",
   "execution_count": 8,
   "id": "5acb08f5",
   "metadata": {},
   "outputs": [
    {
     "name": "stdout",
     "output_type": "stream",
     "text": [
      "false\n"
     ]
    }
   ],
   "source": [
    "if [1,0,1] == [1,0,0]:\n",
    "    print(\"true\")\n",
    "else:\n",
    "    print(\"false\")"
   ]
  },
  {
   "cell_type": "code",
   "execution_count": 14,
   "id": "85616e12",
   "metadata": {},
   "outputs": [
    {
     "name": "stdout",
     "output_type": "stream",
     "text": [
      "[1, 0, 1, 0, 1, 0]\n",
      "[0, 1, 1, 1, 1, 1]\n"
     ]
    }
   ],
   "source": [
    "a = [1,0,1,0,1,0]\n",
    "list =[[1,0,1,0,1,0],[0,1,1,1,1,1]]\n",
    "list[0]\n",
    "for index in list:\n",
    "    if index != a:\n",
    "        \n"
   ]
  },
  {
   "cell_type": "code",
   "execution_count": 25,
   "id": "97a9339b",
   "metadata": {},
   "outputs": [],
   "source": [
    "tosses = np.random.binomial(1, 0.5, 10)"
   ]
  },
  {
   "cell_type": "code",
   "execution_count": 26,
   "id": "cbe31289",
   "metadata": {},
   "outputs": [
    {
     "data": {
      "text/plain": [
       "array([1, 1, 0, 1, 1, 0, 1, 0, 0, 1])"
      ]
     },
     "execution_count": 26,
     "metadata": {},
     "output_type": "execute_result"
    }
   ],
   "source": [
    "tosses"
   ]
  },
  {
   "cell_type": "markdown",
   "id": "758ecfbb",
   "metadata": {},
   "source": [
    "# Exercise 3"
   ]
  },
  {
   "cell_type": "markdown",
   "id": "f076adff",
   "metadata": {},
   "source": [
    "Plot bar charts or histograms of any three different distributions listed at the following link:\n",
    "\n",
    "https://numpy.org/doc/stable/reference/random/generator.html#distributions"
   ]
  },
  {
   "cell_type": "markdown",
   "id": "5a54e085",
   "metadata": {},
   "source": [
    "### Gamma Distribution"
   ]
  },
  {
   "cell_type": "code",
   "execution_count": 10,
   "id": "bb52826a",
   "metadata": {},
   "outputs": [],
   "source": [
    "shape, scale = 2., 2.\n",
    "s = np.random.gamma(shape, scale, 1000)"
   ]
  },
  {
   "cell_type": "code",
   "execution_count": 12,
   "id": "978343b4",
   "metadata": {},
   "outputs": [
    {
     "data": {
      "image/png": "[encoded data removed]",
      "text/plain": [
       "<Figure size 432x288 with 1 Axes>"
      ]
     },
     "metadata": {
      "needs_background": "light"
     },
     "output_type": "display_data"
    }
   ],
   "source": [
    "import matplotlib.pyplot as plt\n",
    "import scipy.special as sps  \n",
    "count, bins, ignored = plt.hist(s, 50, density=True)\n",
    "y = bins**(shape-1)*(np.exp(-bins/scale) /  \n",
    "                     (sps.gamma(shape)*scale**shape))\n",
    "plt.plot(bins, y, linewidth=2, color='r')  \n",
    "plt.show()"
   ]
  },
  {
   "cell_type": "code",
   "execution_count": 19,
   "id": "e8be2719",
   "metadata": {},
   "outputs": [],
   "source": [
    "# Generate 1000 numbers on a standard normal distribution.\n",
    "samples_1 = rng.gamma(2,2,10000)"
   ]
  },
  {
   "cell_type": "code",
   "execution_count": 2,
   "id": "b8e7b482",
   "metadata": {},
   "outputs": [
    {
     "ename": "NameError",
     "evalue": "name 'plt' is not defined",
     "output_type": "error",
     "traceback": [
      "\u001b[1;31m---------------------------------------------------------------------------\u001b[0m",
      "\u001b[1;31mNameError\u001b[0m                                 Traceback (most recent call last)",
      "\u001b[1;32m~\\AppData\\Local\\Temp/ipykernel_40564/1084689669.py\u001b[0m in \u001b[0;36m<module>\u001b[1;34m\u001b[0m\n\u001b[0;32m      1\u001b[0m \u001b[1;31m# Create a figure.\u001b[0m\u001b[1;33m\u001b[0m\u001b[1;33m\u001b[0m\u001b[0m\n\u001b[1;32m----> 2\u001b[1;33m \u001b[0mfig\u001b[0m\u001b[1;33m,\u001b[0m \u001b[0max\u001b[0m \u001b[1;33m=\u001b[0m \u001b[0mplt\u001b[0m\u001b[1;33m.\u001b[0m\u001b[0msubplots\u001b[0m\u001b[1;33m(\u001b[0m\u001b[1;33m)\u001b[0m\u001b[1;33m\u001b[0m\u001b[1;33m\u001b[0m\u001b[0m\n\u001b[0m\u001b[0;32m      3\u001b[0m \u001b[1;33m\u001b[0m\u001b[0m\n\u001b[0;32m      4\u001b[0m \u001b[1;31m# Create histogram.\u001b[0m\u001b[1;33m\u001b[0m\u001b[1;33m\u001b[0m\u001b[0m\n\u001b[0;32m      5\u001b[0m \u001b[0max\u001b[0m\u001b[1;33m.\u001b[0m\u001b[0mhist\u001b[0m\u001b[1;33m(\u001b[0m\u001b[0msamples_1\u001b[0m\u001b[1;33m,\u001b[0m \u001b[0mbins\u001b[0m\u001b[1;33m=\u001b[0m\u001b[1;36m100\u001b[0m\u001b[1;33m)\u001b[0m\u001b[1;33m\u001b[0m\u001b[1;33m\u001b[0m\u001b[0m\n",
      "\u001b[1;31mNameError\u001b[0m: name 'plt' is not defined"
     ]
    }
   ],
   "source": [
    "# Create a figure.\n",
    "fig, ax = plt.subplots()\n",
    "\n",
    "# Create histogram.\n",
    "ax.hist(samples_1, bins=100)\n",
    "\n",
    "\n"
   ]
  },
  {
   "cell_type": "markdown",
   "id": "72334532",
   "metadata": {},
   "source": [
    "### Pareto"
   ]
  },
  {
   "cell_type": "code",
   "execution_count": 35,
   "id": "0aa5929b",
   "metadata": {},
   "outputs": [],
   "source": [
    "samples_2 = rng.rayleigh(2, 100000)"
   ]
  },
  {
   "cell_type": "code",
   "execution_count": 36,
   "id": "ca496729",
   "metadata": {},
   "outputs": [
    {
     "data": {
      "text/plain": [
       "(array([1.380e+02, 3.200e+02, 6.160e+02, 8.360e+02, 1.160e+03, 1.268e+03,\n",
       "        1.502e+03, 1.689e+03, 1.857e+03, 2.066e+03, 2.154e+03, 2.313e+03,\n",
       "        2.453e+03, 2.629e+03, 2.672e+03, 2.735e+03, 2.891e+03, 2.848e+03,\n",
       "        2.888e+03, 2.926e+03, 2.910e+03, 2.935e+03, 2.888e+03, 2.885e+03,\n",
       "        2.872e+03, 2.707e+03, 2.660e+03, 2.610e+03, 2.548e+03, 2.486e+03,\n",
       "        2.372e+03, 2.345e+03, 2.236e+03, 2.057e+03, 1.985e+03, 1.835e+03,\n",
       "        1.838e+03, 1.686e+03, 1.591e+03, 1.469e+03, 1.325e+03, 1.323e+03,\n",
       "        1.150e+03, 1.106e+03, 9.500e+02, 9.530e+02, 8.390e+02, 7.940e+02,\n",
       "        6.900e+02, 6.680e+02, 5.980e+02, 5.320e+02, 5.100e+02, 4.410e+02,\n",
       "        3.810e+02, 3.660e+02, 2.980e+02, 2.860e+02, 2.280e+02, 2.370e+02,\n",
       "        1.990e+02, 1.860e+02, 1.530e+02, 1.400e+02, 9.500e+01, 9.000e+01,\n",
       "        6.600e+01, 8.600e+01, 6.300e+01, 5.100e+01, 3.600e+01, 4.300e+01,\n",
       "        4.000e+01, 2.900e+01, 2.900e+01, 1.800e+01, 2.200e+01, 2.000e+01,\n",
       "        1.000e+01, 8.000e+00, 1.200e+01, 1.100e+01, 4.000e+00, 6.000e+00,\n",
       "        1.000e+01, 2.000e+00, 4.000e+00, 3.000e+00, 3.000e+00, 4.000e+00,\n",
       "        1.000e+00, 2.000e+00, 0.000e+00, 0.000e+00, 0.000e+00, 0.000e+00,\n",
       "        1.000e+00, 1.000e+00, 0.000e+00, 1.000e+00]),\n",
       " array([0.0104591 , 0.10715278, 0.20384646, 0.30054014, 0.39723383,\n",
       "        0.49392751, 0.59062119, 0.68731488, 0.78400856, 0.88070224,\n",
       "        0.97739593, 1.07408961, 1.17078329, 1.26747697, 1.36417066,\n",
       "        1.46086434, 1.55755802, 1.65425171, 1.75094539, 1.84763907,\n",
       "        1.94433275, 2.04102644, 2.13772012, 2.2344138 , 2.33110749,\n",
       "        2.42780117, 2.52449485, 2.62118854, 2.71788222, 2.8145759 ,\n",
       "        2.91126958, 3.00796327, 3.10465695, 3.20135063, 3.29804432,\n",
       "        3.394738  , 3.49143168, 3.58812537, 3.68481905, 3.78151273,\n",
       "        3.87820641, 3.9749001 , 4.07159378, 4.16828746, 4.26498115,\n",
       "        4.36167483, 4.45836851, 4.5550622 , 4.65175588, 4.74844956,\n",
       "        4.84514324, 4.94183693, 5.03853061, 5.13522429, 5.23191798,\n",
       "        5.32861166, 5.42530534, 5.52199903, 5.61869271, 5.71538639,\n",
       "        5.81208007, 5.90877376, 6.00546744, 6.10216112, 6.19885481,\n",
       "        6.29554849, 6.39224217, 6.48893585, 6.58562954, 6.68232322,\n",
       "        6.7790169 , 6.87571059, 6.97240427, 7.06909795, 7.16579164,\n",
       "        7.26248532, 7.359179  , 7.45587268, 7.55256637, 7.64926005,\n",
       "        7.74595373, 7.84264742, 7.9393411 , 8.03603478, 8.13272847,\n",
       "        8.22942215, 8.32611583, 8.42280951, 8.5195032 , 8.61619688,\n",
       "        8.71289056, 8.80958425, 8.90627793, 9.00297161, 9.0996653 ,\n",
       "        9.19635898, 9.29305266, 9.38974634, 9.48644003, 9.58313371,\n",
       "        9.67982739]),\n",
       " <BarContainer object of 100 artists>)"
      ]
     },
     "execution_count": 36,
     "metadata": {},
     "output_type": "execute_result"
    },
    {
     "data": {
      "image/png": "[encoded data removed]",
      "text/plain": [
       "<Figure size 640x480 with 1 Axes>"
      ]
     },
     "metadata": {},
     "output_type": "display_data"
    }
   ],
   "source": [
    "# Create a figure.\n",
    "fig, ax = plt.subplots()\n",
    "\n",
    "# Create histogram.\n",
    "ax.hist(samples_2, bins=100)\n",
    "\n"
   ]
  },
  {
   "cell_type": "code",
   "execution_count": null,
   "id": "f9251083",
   "metadata": {},
   "outputs": [],
   "source": []
  }
 ],
 "metadata": {
  "kernelspec": {
   "display_name": "Python 3 (ipykernel)",
   "language": "python",
   "name": "python3"
  },
  "language_info": {
   "codemirror_mode": {
    "name": "ipython",
    "version": 3
   },
   "file_extension": ".py",
   "mimetype": "text/x-python",
   "name": "python",
   "nbconvert_exporter": "python",
   "pygments_lexer": "ipython3",
   "version": "3.9.13"
  }
 },
 "nbformat": 4,
 "nbformat_minor": 5
}
