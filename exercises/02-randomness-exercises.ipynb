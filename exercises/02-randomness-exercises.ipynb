{
 "cells": [
  {
   "cell_type": "markdown",
   "id": "b495c969",
   "metadata": {},
   "source": [
    "# Randomness\n",
    "***\n",
    "G00388113 John Loughnane. Fundamentals of Data Analysis is a module of the Higher Diploma in Data Analytics in Computing."
   ]
  },
  {
   "cell_type": "code",
   "execution_count": 1,
   "id": "766b623c",
   "metadata": {},
   "outputs": [],
   "source": [
    "# For generating numbers.\n",
    "import numpy as np\n",
    "\n",
    "import random\n",
    "\n",
    "# Plotting.\n",
    "import matplotlib.pyplot as plt"
   ]
  },
  {
   "cell_type": "markdown",
   "id": "80732aa1",
   "metadata": {},
   "source": [
    "## Standard Normal"
   ]
  },
  {
   "cell_type": "code",
   "execution_count": 2,
   "id": "74f5d448",
   "metadata": {},
   "outputs": [],
   "source": [
    "# Create new, seeded random number generator.\n",
    "rng = np.random.default_rng(0)\n",
    "\n",
    "# Generate 1000 numbers on a standard normal distribution.\n",
    "samples = rng.standard_normal(10000)"
   ]
  },
  {
   "cell_type": "code",
   "execution_count": 3,
   "id": "d82c9944",
   "metadata": {},
   "outputs": [
    {
     "data": {
      "text/plain": [
       "(array([  1.,   1.,   0.,   0.,   0.,   0.,   1.,   2.,   2.,   2.,   3.,\n",
       "          0.,   6.,   6.,  10.,   7.,   6.,  12.,  21.,   8.,  15.,  20.,\n",
       "         21.,  26.,  33.,  36.,  44.,  56.,  49.,  51.,  74.,  93.,  84.,\n",
       "         97., 103., 148., 144., 147., 182., 187., 189., 200., 233., 241.,\n",
       "        244., 266., 278., 233., 292., 316., 298., 296., 283., 249., 270.,\n",
       "        290., 273., 279., 254., 260., 265., 254., 225., 231., 204., 194.,\n",
       "        194., 179., 131., 153., 138., 112., 100.,  82.,  91.,  65.,  57.,\n",
       "         62.,  52.,  53.,  30.,  30.,  26.,  25.,  24.,  21.,  12.,  10.,\n",
       "          8.,  10.,   1.,   7.,   0.,   4.,   3.,   3.,   1.,   0.,   0.,\n",
       "          1.]),\n",
       " array([-3.89942173, -3.82560914, -3.75179655, -3.67798396, -3.60417137,\n",
       "        -3.53035878, -3.45654619, -3.3827336 , -3.30892101, -3.23510842,\n",
       "        -3.16129583, -3.08748324, -3.01367065, -2.93985806, -2.86604547,\n",
       "        -2.79223288, -2.7184203 , -2.64460771, -2.57079512, -2.49698253,\n",
       "        -2.42316994, -2.34935735, -2.27554476, -2.20173217, -2.12791958,\n",
       "        -2.05410699, -1.9802944 , -1.90648181, -1.83266922, -1.75885663,\n",
       "        -1.68504404, -1.61123145, -1.53741886, -1.46360627, -1.38979368,\n",
       "        -1.31598109, -1.2421685 , -1.16835591, -1.09454332, -1.02073073,\n",
       "        -0.94691814, -0.87310555, -0.79929296, -0.72548037, -0.65166778,\n",
       "        -0.57785519, -0.5040426 , -0.43023002, -0.35641743, -0.28260484,\n",
       "        -0.20879225, -0.13497966, -0.06116707,  0.01264552,  0.08645811,\n",
       "         0.1602707 ,  0.23408329,  0.30789588,  0.38170847,  0.45552106,\n",
       "         0.52933365,  0.60314624,  0.67695883,  0.75077142,  0.82458401,\n",
       "         0.8983966 ,  0.97220919,  1.04602178,  1.11983437,  1.19364696,\n",
       "         1.26745955,  1.34127214,  1.41508473,  1.48889732,  1.56270991,\n",
       "         1.6365225 ,  1.71033509,  1.78414768,  1.85796026,  1.93177285,\n",
       "         2.00558544,  2.07939803,  2.15321062,  2.22702321,  2.3008358 ,\n",
       "         2.37464839,  2.44846098,  2.52227357,  2.59608616,  2.66989875,\n",
       "         2.74371134,  2.81752393,  2.89133652,  2.96514911,  3.0389617 ,\n",
       "         3.11277429,  3.18658688,  3.26039947,  3.33421206,  3.40802465,\n",
       "         3.48183724]),\n",
       " <BarContainer object of 100 artists>)"
      ]
     },
     "execution_count": 3,
     "metadata": {},
     "output_type": "execute_result"
    },
    {
     "data": {
      "image/png": "[encoded data removed]",
      "text/plain": [
       "<Figure size 640x480 with 1 Axes>"
      ]
     },
     "metadata": {},
     "output_type": "display_data"
    }
   ],
   "source": [
    "# Create a figure.\n",
    "fig, ax = plt.subplots()\n",
    "\n",
    "# Create histogram.\n",
    "ax.hist(samples, bins=100)"
   ]
  },
  {
   "cell_type": "markdown",
   "id": "d5d3a407",
   "metadata": {},
   "source": [
    "# Exercise 1"
   ]
  },
  {
   "cell_type": "markdown",
   "id": "92d31d18",
   "metadata": {},
   "source": [
    "*It is somewhat interesting that (5 * 4 * 3 * 2 * 1) perfectly divides (10 * 9 * 8 * 7 * 6) - there's no remainder.*\n",
    "\n",
    "*If we only wanted exactly four heads as opposed to five, the equivalent calculation would be (10 * 9 * 8 * 7) / (4 * 3 * 2 * 1).*\n",
    "*Does that evenly divide too? What is the formula in general?*\n",
    "\n",
    "*Does it always come out as a positive whole number?*"
   ]
  },
  {
   "cell_type": "markdown",
   "id": "b1bc682e",
   "metadata": {},
   "source": [
    "**Does that evenly divide too?**<br>\n",
    "Below you can see when we divide (10 * 9 * 8 * 7)  by (4 * 3 * 2 * 1) its a positive number and it divides evenly."
   ]
  },
  {
   "cell_type": "code",
   "execution_count": 4,
   "id": "c6566e85",
   "metadata": {},
   "outputs": [
    {
     "data": {
      "text/plain": [
       "210.0"
      ]
     },
     "execution_count": 4,
     "metadata": {},
     "output_type": "execute_result"
    }
   ],
   "source": [
    "(10 * 9 * 8 * 7) / (4 * 3 * 2 * 1)"
   ]
  },
  {
   "cell_type": "markdown",
   "id": "44f46f8c",
   "metadata": {},
   "source": [
    "**What is the formula in general?**<br>\n",
    "The formula in general is as follows :"
   ]
  },
  {
   "cell_type": "markdown",
   "id": "a7e2e39b",
   "metadata": {},
   "source": [
    "$$\\binom{n}{k} = \\frac{n!}{k!(n - k)!}$$"
   ]
  },
  {
   "cell_type": "markdown",
   "id": "aaccb61f",
   "metadata": {},
   "source": [
    "Where :\n",
    "- **n** = total number\n",
    "- **k** = number we want\n",
    "- **!** = means factorial"
   ]
  },
  {
   "cell_type": "markdown",
   "id": "e336fed8",
   "metadata": {},
   "source": [
    "So for above where there are 10 Coin tosses and we want 4 heads :\n",
    "- **n** = 10\n",
    "- **k** = 4"
   ]
  },
  {
   "cell_type": "markdown",
   "id": "a7b22caa",
   "metadata": {},
   "source": [
    "We substitute in the values into the formula :"
   ]
  },
  {
   "cell_type": "markdown",
   "id": "d7c24010",
   "metadata": {},
   "source": [
    "$$\\binom{10}{4} = \\frac{10!}{4!(10 - 4)!}$$"
   ]
  },
  {
   "cell_type": "markdown",
   "id": "e4967520",
   "metadata": {},
   "source": [
    "We expand out the formula :"
   ]
  },
  {
   "cell_type": "markdown",
   "id": "3d43d457",
   "metadata": {},
   "source": [
    "$$\\binom{10}{4} = \\frac{10*9*8*7*6*5*4*3*2*1!}{4*3*2*1!(6*5*4*3*2*1)!}$$"
   ]
  },
  {
   "cell_type": "markdown",
   "id": "a96c5947",
   "metadata": {},
   "source": [
    "Since we have (6x5x4x3x2x1) we can cancel this above and below the line to get : "
   ]
  },
  {
   "cell_type": "markdown",
   "id": "d0800946",
   "metadata": {},
   "source": [
    "$$= \\frac{10*9*8*7}{4*3*2*1}$$"
   ]
  },
  {
   "cell_type": "markdown",
   "id": "502d4767",
   "metadata": {},
   "source": [
    "Multiply it out and we get :"
   ]
  },
  {
   "cell_type": "markdown",
   "id": "9a668dc4",
   "metadata": {},
   "source": [
    "$$= \\frac{5040}{24}$$"
   ]
  },
  {
   "cell_type": "markdown",
   "id": "2a846723",
   "metadata": {},
   "source": [
    "There are **210** ways we can get exactly four heads"
   ]
  },
  {
   "cell_type": "markdown",
   "id": "8126bc62",
   "metadata": {},
   "source": [
    "**Does it always come out as a positive whole number?**<br>\n",
    "For the Coin toss example no matter what value we use as **k** (number we want) in the formula it will always come out as a postive whole number."
   ]
  },
  {
   "cell_type": "markdown",
   "id": "1386f78d",
   "metadata": {},
   "source": [
    "# Exercise 2"
   ]
  },
  {
   "cell_type": "markdown",
   "id": "0335ac03",
   "metadata": {},
   "source": [
    "**Note that there are the same number of ways to get 4 tails as there to get 4 heads. Explain why this is.**"
   ]
  },
  {
   "cell_type": "markdown",
   "id": "48b9dda3",
   "metadata": {},
   "source": [
    "So from Exercise 1 above the number of ways to get 4 heads in 10 Coin tosses is :\n",
    "\n",
    "n = 10<br>\n",
    "k = 4\n",
    "\n",
    "$$\\binom{10}{4} = \\frac{10!}{4!(10 - 4)!}$$"
   ]
  },
  {
   "cell_type": "markdown",
   "id": "518ebe4a",
   "metadata": {},
   "source": [
    "$$= \\frac{10*9*8*7}{4*3*2*1}$$"
   ]
  },
  {
   "cell_type": "markdown",
   "id": "fc853b7b",
   "metadata": {},
   "source": [
    "Number of ways to get 4 heads from 10 Coin tosses is : 210"
   ]
  },
  {
   "cell_type": "markdown",
   "id": "1c543e59",
   "metadata": {},
   "source": [
    "Since there are only two sides to a coin you can only either get Heads (H) or Tails (T), there are no other options.<br>\n",
    "So, there has to be the same number of ways to get 4 Tails as 4 Heads."
   ]
  },
  {
   "cell_type": "markdown",
   "id": "6f70bc19",
   "metadata": {},
   "source": [
    "If there are 10 Coin tosses there is a 0.5 probability of getting a Tail and a 0.5 probability of getting a Head providing it is a fair coin. If each underscore represents a coin toss the first Coin toss could be a **H** like below\n",
    "\n",
    "H _ _ _ _ _ _ _ _ _ \n",
    "\n",
    "But it could also be a **Tail** as there is also a 0.5 probability\n",
    "\n",
    "T _ _ _ _ _ _ _ _ _\n",
    "\n",
    "So, there is the same probability of getting 4 Heads in 10 Coin Tosses (210 ways) like below \n",
    "\n",
    "H H H H T T T T T T\n",
    "\n",
    "As there are getting 4 Tails\n",
    "\n",
    "T T T T H H H H H H "
   ]
  },
  {
   "cell_type": "markdown",
   "id": "14b378e5",
   "metadata": {},
   "source": [
    "If we simplify it and just reduce the number of Coin tosses to 3, how many ways are there to get 2 Heads ?"
   ]
  },
  {
   "cell_type": "markdown",
   "id": "4de35e34",
   "metadata": {},
   "source": [
    "Let's use the Binomial Formula where the number of Coin Tosses is 3 and number we want is 2: "
   ]
  },
  {
   "cell_type": "markdown",
   "id": "1c1028ea",
   "metadata": {},
   "source": [
    "n = 3<br>\n",
    "k = 2\n",
    "\n",
    "$$\\binom{3}{2} = \\frac{3!}{2!(3 - 2)!}$$"
   ]
  },
  {
   "cell_type": "markdown",
   "id": "8dd55f00",
   "metadata": {},
   "source": [
    "$$= \\frac{3*2*1}{2*1*1}$$"
   ]
  },
  {
   "cell_type": "markdown",
   "id": "947ab9da",
   "metadata": {},
   "source": [
    "$$= \\frac{6}{2}$$"
   ]
  },
  {
   "cell_type": "markdown",
   "id": "da64a025",
   "metadata": {},
   "source": [
    "So there are 3 ways to get 2 Heads from 3 Coin tosses"
   ]
  },
  {
   "cell_type": "code",
   "execution_count": 5,
   "id": "7fb5f124",
   "metadata": {},
   "outputs": [
    {
     "data": {
      "text/plain": [
       "8"
      ]
     },
     "execution_count": 5,
     "metadata": {},
     "output_type": "execute_result"
    }
   ],
   "source": [
    "## First how many Outcomes are there if we toss a coin 3 times\n",
    "\n",
    "2**3"
   ]
  },
  {
   "cell_type": "markdown",
   "id": "0dd41e37",
   "metadata": {},
   "source": [
    "So, there are 8 Possible Outcomes if we toss a Coin 3 times :"
   ]
  },
  {
   "cell_type": "markdown",
   "id": "d834dfaa",
   "metadata": {},
   "source": [
    "Outcome 1 = **T T T** => 3 Tails<BR>\n",
    "Outcome 2 = **T T H** => <span style=\"color:blue\">2 Tails</span>.<BR>\n",
    "Outcome 3 = **T H T** => <span style=\"color:blue\">2 Tails</span>.<BR>\n",
    "Outcome 4 = **T H H** => <span style=\"color:Green\">2 Heads</span>.<BR>\n",
    "Outcome 5 = **H T T** => <span style=\"color:blue\">2 Tails</span>.<BR>\n",
    "Outcome 6 = **H H T** => <span style=\"color:Green\">2 Heads</span>.<BR>\n",
    "Outcome 7 = **H T H** => <span style=\"color:Green\">2 Heads</span>.<BR>\n",
    "Outcome 8 = **H H H** => 3 Heads<BR>"
   ]
  },
  {
   "cell_type": "markdown",
   "id": "ad5fe860",
   "metadata": {},
   "source": [
    "We can see All 8 Outcomes above and Outcomes 4, 6 & 7 show that there are 3 ways to get 2 *Heads* and equally we can see from Outcomes 2, 3 & 5 there are 3 possible ways to get 3 *Tails*.\n",
    "\n",
    "We can deduce from this that if we Toss a coin 10 times there are 210 possible ways of getting exactly 4 Heads but equally we can say there are 210 ways of getting 4 Tails."
   ]
  },
  {
   "cell_type": "markdown",
   "id": "3fb46a1f",
   "metadata": {},
   "source": [
    "We know there are $2^{10}$ Outcomes which 1024"
   ]
  },
  {
   "cell_type": "markdown",
   "id": "41de396e",
   "metadata": {},
   "source": [
    "Number of outcomes we want X Probability of each outcome "
   ]
  },
  {
   "cell_type": "code",
   "execution_count": 6,
   "id": "bb859328",
   "metadata": {},
   "outputs": [
    {
     "data": {
      "text/plain": [
       "0.205078125"
      ]
     },
     "execution_count": 6,
     "metadata": {},
     "output_type": "execute_result"
    }
   ],
   "source": [
    "# Probability of getting five heads when flipping a coin ten times.\n",
    "210 * (1/1024)"
   ]
  },
  {
   "cell_type": "markdown",
   "id": "90a4d590",
   "metadata": {},
   "source": [
    "So there is a 20% chance of getting 4 Heads and there is also a 20% chance of getting 4 tails."
   ]
  },
  {
   "cell_type": "markdown",
   "id": "758ecfbb",
   "metadata": {},
   "source": [
    "# Exercise 3"
   ]
  },
  {
   "cell_type": "markdown",
   "id": "f076adff",
   "metadata": {},
   "source": [
    "Plot bar charts or histograms of any three different distributions listed at the following link:\n",
    "\n",
    "https://numpy.org/doc/stable/reference/random/generator.html#distributions"
   ]
  },
  {
   "cell_type": "markdown",
   "id": "5a54e085",
   "metadata": {},
   "source": [
    "### Gamma Distribution"
   ]
  },
  {
   "cell_type": "markdown",
   "id": "76ea7531",
   "metadata": {},
   "source": [
    "The Gamma distribution is a continuous distribution which is used in models such as the amount of rainfall accumulated in a reservoir, the size of loan defaults or aggregate insurance claims"
   ]
  },
  {
   "cell_type": "markdown",
   "id": "f729bbdf",
   "metadata": {},
   "source": [
    "Method to generate samples for a Rayleigh Distribution:\n",
    "    \n",
    "random.gamma(shape, scale=1.0, size=None)"
   ]
  },
  {
   "cell_type": "code",
   "execution_count": 7,
   "id": "aacaa0ca",
   "metadata": {},
   "outputs": [],
   "source": [
    "# Create new, seeded random number generator.\n",
    "rng = np.random.default_rng(10)"
   ]
  },
  {
   "cell_type": "code",
   "execution_count": 8,
   "id": "e8be2719",
   "metadata": {},
   "outputs": [],
   "source": [
    "# Generate 10000 numbers with shape = 2 and scale = 2 \n",
    "samples_1 = rng.gamma(2,2,10000)"
   ]
  },
  {
   "cell_type": "code",
   "execution_count": 9,
   "id": "b8e7b482",
   "metadata": {},
   "outputs": [
    {
     "data": {
      "text/plain": [
       "(array([ 92., 194., 260., 355., 388., 377., 436., 407., 454., 423., 448.,\n",
       "        415., 378., 370., 416., 345., 327., 302., 321., 264., 244., 236.,\n",
       "        249., 206., 174., 165., 149., 136., 154., 130., 106., 104.,  78.,\n",
       "         93.,  81.,  51.,  76.,  51.,  59.,  42.,  37.,  41.,  41.,  34.,\n",
       "         35.,  14.,  29.,  23.,  15.,  11.,  20.,  14.,  15.,  12.,  10.,\n",
       "          9.,   9.,   6.,   6.,   4.,   5.,   3.,   5.,   1.,   3.,   7.,\n",
       "          2.,   5.,   2.,   2.,   3.,   3.,   1.,   3.,   1.,   3.,   2.,\n",
       "          1.,   1.,   3.,   0.,   0.,   1.,   0.,   0.,   0.,   0.,   0.,\n",
       "          0.,   0.,   0.,   0.,   0.,   0.,   0.,   1.,   0.,   0.,   0.,\n",
       "          1.]),\n",
       " array([1.93286454e-02, 2.60226029e-01, 5.01123413e-01, 7.42020796e-01,\n",
       "        9.82918180e-01, 1.22381556e+00, 1.46471295e+00, 1.70561033e+00,\n",
       "        1.94650771e+00, 2.18740510e+00, 2.42830248e+00, 2.66919986e+00,\n",
       "        2.91009725e+00, 3.15099463e+00, 3.39189202e+00, 3.63278940e+00,\n",
       "        3.87368678e+00, 4.11458417e+00, 4.35548155e+00, 4.59637893e+00,\n",
       "        4.83727632e+00, 5.07817370e+00, 5.31907108e+00, 5.55996847e+00,\n",
       "        5.80086585e+00, 6.04176323e+00, 6.28266062e+00, 6.52355800e+00,\n",
       "        6.76445539e+00, 7.00535277e+00, 7.24625015e+00, 7.48714754e+00,\n",
       "        7.72804492e+00, 7.96894230e+00, 8.20983969e+00, 8.45073707e+00,\n",
       "        8.69163445e+00, 8.93253184e+00, 9.17342922e+00, 9.41432660e+00,\n",
       "        9.65522399e+00, 9.89612137e+00, 1.01370188e+01, 1.03779161e+01,\n",
       "        1.06188135e+01, 1.08597109e+01, 1.11006083e+01, 1.13415057e+01,\n",
       "        1.15824031e+01, 1.18233004e+01, 1.20641978e+01, 1.23050952e+01,\n",
       "        1.25459926e+01, 1.27868900e+01, 1.30277874e+01, 1.32686847e+01,\n",
       "        1.35095821e+01, 1.37504795e+01, 1.39913769e+01, 1.42322743e+01,\n",
       "        1.44731717e+01, 1.47140690e+01, 1.49549664e+01, 1.51958638e+01,\n",
       "        1.54367612e+01, 1.56776586e+01, 1.59185560e+01, 1.61594533e+01,\n",
       "        1.64003507e+01, 1.66412481e+01, 1.68821455e+01, 1.71230429e+01,\n",
       "        1.73639403e+01, 1.76048376e+01, 1.78457350e+01, 1.80866324e+01,\n",
       "        1.83275298e+01, 1.85684272e+01, 1.88093246e+01, 1.90502219e+01,\n",
       "        1.92911193e+01, 1.95320167e+01, 1.97729141e+01, 2.00138115e+01,\n",
       "        2.02547089e+01, 2.04956062e+01, 2.07365036e+01, 2.09774010e+01,\n",
       "        2.12182984e+01, 2.14591958e+01, 2.17000932e+01, 2.19409905e+01,\n",
       "        2.21818879e+01, 2.24227853e+01, 2.26636827e+01, 2.29045801e+01,\n",
       "        2.31454775e+01, 2.33863749e+01, 2.36272722e+01, 2.38681696e+01,\n",
       "        2.41090670e+01]),\n",
       " <BarContainer object of 100 artists>)"
      ]
     },
     "execution_count": 9,
     "metadata": {},
     "output_type": "execute_result"
    },
    {
     "data": {
      "image/png": "[encoded data removed]",
      "text/plain": [
       "<Figure size 640x480 with 1 Axes>"
      ]
     },
     "metadata": {},
     "output_type": "display_data"
    }
   ],
   "source": [
    "# Create a figure.\n",
    "#fig, ax = plt.subplots()\n",
    "\n",
    "# Create histogram.\n",
    "#ax.hist(samples_1, bins=100)\n",
    "# Create a figure.\n",
    "fig, ax = plt.subplots()\n",
    "\n",
    "# Create histogram.\n",
    "ax.hist(samples_1, bins=100)\n",
    "\n",
    "\n"
   ]
  },
  {
   "cell_type": "markdown",
   "id": "72334532",
   "metadata": {},
   "source": [
    "## Rayleigh Distribution"
   ]
  },
  {
   "cell_type": "markdown",
   "id": "f5256bb0",
   "metadata": {},
   "source": [
    "The Rayleigh distribution is a continuous probability distribution named after Lord Rayleigh\n",
    "Its found :\n",
    "- In the field of nutrition for linking dietary nutrient levels and human and animal responses\n",
    "- In physical oceanography, the distribution of significant wave height approximately follows a Rayleigh distribution\n",
    "- Used in ballistics used for calculating a measure of a weapons precision"
   ]
  },
  {
   "cell_type": "markdown",
   "id": "68e970eb",
   "metadata": {},
   "source": [
    "Method to generate samples for a Rayleigh Distribution:<br>\n",
    "\n",
    "random.Generator.rayleigh(scale=1.0, size=None)"
   ]
  },
  {
   "cell_type": "code",
   "execution_count": 10,
   "id": "ef0f8ad9",
   "metadata": {},
   "outputs": [],
   "source": [
    "# Create new, seeded random number generator.\n",
    "rng = np.random.default_rng(0)"
   ]
  },
  {
   "cell_type": "code",
   "execution_count": 11,
   "id": "0aa5929b",
   "metadata": {},
   "outputs": [],
   "source": [
    "# scale - 2 (standard deviation) and size = 100000\n",
    "samples_2 = rng.rayleigh(2, 100000)"
   ]
  },
  {
   "cell_type": "code",
   "execution_count": 12,
   "id": "ca496729",
   "metadata": {},
   "outputs": [
    {
     "data": {
      "text/plain": [
       "(array([1.430e+02, 3.240e+02, 6.150e+02, 8.380e+02, 1.137e+03, 1.241e+03,\n",
       "        1.484e+03, 1.683e+03, 1.828e+03, 2.105e+03, 2.146e+03, 2.330e+03,\n",
       "        2.487e+03, 2.673e+03, 2.668e+03, 2.762e+03, 2.854e+03, 2.849e+03,\n",
       "        2.917e+03, 2.949e+03, 2.937e+03, 2.893e+03, 2.897e+03, 2.867e+03,\n",
       "        2.838e+03, 2.720e+03, 2.647e+03, 2.638e+03, 2.491e+03, 2.507e+03,\n",
       "        2.383e+03, 2.345e+03, 2.260e+03, 2.046e+03, 1.952e+03, 1.837e+03,\n",
       "        1.806e+03, 1.647e+03, 1.613e+03, 1.458e+03, 1.324e+03, 1.323e+03,\n",
       "        1.135e+03, 1.109e+03, 9.860e+02, 9.270e+02, 8.510e+02, 8.120e+02,\n",
       "        6.770e+02, 6.800e+02, 6.130e+02, 5.240e+02, 5.170e+02, 4.510e+02,\n",
       "        3.860e+02, 3.670e+02, 3.120e+02, 2.680e+02, 2.320e+02, 2.420e+02,\n",
       "        2.000e+02, 1.840e+02, 1.540e+02, 1.360e+02, 9.400e+01, 9.100e+01,\n",
       "        6.000e+01, 8.300e+01, 6.200e+01, 5.400e+01, 4.000e+01, 4.600e+01,\n",
       "        3.800e+01, 3.000e+01, 2.800e+01, 2.100e+01, 2.300e+01, 2.000e+01,\n",
       "        1.100e+01, 7.000e+00, 1.200e+01, 1.100e+01, 4.000e+00, 8.000e+00,\n",
       "        1.000e+01, 2.000e+00, 4.000e+00, 3.000e+00, 3.000e+00, 4.000e+00,\n",
       "        1.000e+00, 2.000e+00, 0.000e+00, 0.000e+00, 0.000e+00, 0.000e+00,\n",
       "        1.000e+00, 1.000e+00, 0.000e+00, 1.000e+00]),\n",
       " array([0.0118821 , 0.10856156, 0.20524101, 0.30192046, 0.39859992,\n",
       "        0.49527937, 0.59195882, 0.68863827, 0.78531773, 0.88199718,\n",
       "        0.97867663, 1.07535609, 1.17203554, 1.26871499, 1.36539444,\n",
       "        1.4620739 , 1.55875335, 1.6554328 , 1.75211226, 1.84879171,\n",
       "        1.94547116, 2.04215061, 2.13883007, 2.23550952, 2.33218897,\n",
       "        2.42886843, 2.52554788, 2.62222733, 2.71890679, 2.81558624,\n",
       "        2.91226569, 3.00894514, 3.1056246 , 3.20230405, 3.2989835 ,\n",
       "        3.39566296, 3.49234241, 3.58902186, 3.68570131, 3.78238077,\n",
       "        3.87906022, 3.97573967, 4.07241913, 4.16909858, 4.26577803,\n",
       "        4.36245748, 4.45913694, 4.55581639, 4.65249584, 4.7491753 ,\n",
       "        4.84585475, 4.9425342 , 5.03921365, 5.13589311, 5.23257256,\n",
       "        5.32925201, 5.42593147, 5.52261092, 5.61929037, 5.71596982,\n",
       "        5.81264928, 5.90932873, 6.00600818, 6.10268764, 6.19936709,\n",
       "        6.29604654, 6.39272599, 6.48940545, 6.5860849 , 6.68276435,\n",
       "        6.77944381, 6.87612326, 6.97280271, 7.06948217, 7.16616162,\n",
       "        7.26284107, 7.35952052, 7.45619998, 7.55287943, 7.64955888,\n",
       "        7.74623834, 7.84291779, 7.93959724, 8.03627669, 8.13295615,\n",
       "        8.2296356 , 8.32631505, 8.42299451, 8.51967396, 8.61635341,\n",
       "        8.71303286, 8.80971232, 8.90639177, 9.00307122, 9.09975068,\n",
       "        9.19643013, 9.29310958, 9.38978903, 9.48646849, 9.58314794,\n",
       "        9.67982739]),\n",
       " <BarContainer object of 100 artists>)"
      ]
     },
     "execution_count": 12,
     "metadata": {},
     "output_type": "execute_result"
    },
    {
     "data": {
      "image/png": "[encoded data removed]",
      "text/plain": [
       "<Figure size 640x480 with 1 Axes>"
      ]
     },
     "metadata": {},
     "output_type": "display_data"
    }
   ],
   "source": [
    "# Create a figure.\n",
    "fig, ax = plt.subplots()\n",
    "\n",
    "# Create histogram.\n",
    "ax.hist(samples_2, bins=100)\n",
    "\n"
   ]
  },
  {
   "cell_type": "markdown",
   "id": "77f3dd5b",
   "metadata": {},
   "source": [
    "## Gumbel Distribution"
   ]
  },
  {
   "cell_type": "markdown",
   "id": "33c3d4b5",
   "metadata": {},
   "source": [
    "The Gumbel distribution is a continuous distribution named after Emil Julius Gumbel who was a German mathematician. \n",
    "One of its uses is to analyze such variables as monthly and annual maximum values of daily rainfall"
   ]
  },
  {
   "cell_type": "markdown",
   "id": "4a100585",
   "metadata": {},
   "source": [
    "**Gumbel distribution method**<br>\n",
    "random.Generator.gumbel(loc=0.0, scale=1.0, size=None)"
   ]
  },
  {
   "cell_type": "code",
   "execution_count": 13,
   "id": "b5a6918d",
   "metadata": {},
   "outputs": [],
   "source": [
    "# Create new, seeded random number generator.\n",
    "rng = np.random.default_rng(0)"
   ]
  },
  {
   "cell_type": "code",
   "execution_count": 14,
   "id": "4a5b5885",
   "metadata": {},
   "outputs": [],
   "source": [
    "# loc = 12, scale - 1.5 (standard deviation) and size = 100000\n",
    "rayleighSamples = rng.gumbel(12,1.5, 100000)"
   ]
  },
  {
   "cell_type": "code",
   "execution_count": 15,
   "id": "cfab4f88",
   "metadata": {},
   "outputs": [
    {
     "data": {
      "text/plain": [
       "(array([3.000e+00, 8.000e+00, 3.000e+01, 5.800e+01, 1.640e+02, 3.620e+02,\n",
       "        6.300e+02, 1.050e+03, 1.561e+03, 2.246e+03, 2.850e+03, 3.526e+03,\n",
       "        4.288e+03, 4.732e+03, 5.328e+03, 5.510e+03, 5.512e+03, 5.519e+03,\n",
       "        5.290e+03, 5.277e+03, 5.005e+03, 4.582e+03, 4.188e+03, 3.717e+03,\n",
       "        3.410e+03, 3.068e+03, 2.676e+03, 2.358e+03, 2.179e+03, 1.930e+03,\n",
       "        1.676e+03, 1.529e+03, 1.388e+03, 1.125e+03, 1.035e+03, 8.640e+02,\n",
       "        7.790e+02, 6.760e+02, 5.000e+02, 4.480e+02, 3.990e+02, 3.520e+02,\n",
       "        3.360e+02, 2.580e+02, 2.140e+02, 1.940e+02, 1.420e+02, 1.560e+02,\n",
       "        1.260e+02, 1.060e+02, 8.500e+01, 8.300e+01, 7.600e+01, 6.200e+01,\n",
       "        5.000e+01, 3.900e+01, 4.500e+01, 2.500e+01, 2.000e+01, 2.100e+01,\n",
       "        2.000e+01, 1.600e+01, 1.400e+01, 6.000e+00, 7.000e+00, 6.000e+00,\n",
       "        8.000e+00, 5.000e+00, 8.000e+00, 5.000e+00, 6.000e+00, 7.000e+00,\n",
       "        3.000e+00, 4.000e+00, 3.000e+00, 0.000e+00, 1.000e+00, 2.000e+00,\n",
       "        4.000e+00, 1.000e+00, 0.000e+00, 0.000e+00, 1.000e+00, 1.000e+00,\n",
       "        0.000e+00, 2.000e+00, 0.000e+00, 1.000e+00, 0.000e+00, 1.000e+00,\n",
       "        0.000e+00, 0.000e+00, 1.000e+00, 0.000e+00, 0.000e+00, 0.000e+00,\n",
       "        0.000e+00, 0.000e+00, 0.000e+00, 1.000e+00]),\n",
       " array([ 8.19446145,  8.42099365,  8.64752584,  8.87405803,  9.10059023,\n",
       "         9.32712242,  9.55365462,  9.78018681, 10.006719  , 10.2332512 ,\n",
       "        10.45978339, 10.68631559, 10.91284778, 11.13937997, 11.36591217,\n",
       "        11.59244436, 11.81897656, 12.04550875, 12.27204095, 12.49857314,\n",
       "        12.72510533, 12.95163753, 13.17816972, 13.40470192, 13.63123411,\n",
       "        13.8577663 , 14.0842985 , 14.31083069, 14.53736289, 14.76389508,\n",
       "        14.99042727, 15.21695947, 15.44349166, 15.67002386, 15.89655605,\n",
       "        16.12308824, 16.34962044, 16.57615263, 16.80268483, 17.02921702,\n",
       "        17.25574922, 17.48228141, 17.7088136 , 17.9353458 , 18.16187799,\n",
       "        18.38841019, 18.61494238, 18.84147457, 19.06800677, 19.29453896,\n",
       "        19.52107116, 19.74760335, 19.97413554, 20.20066774, 20.42719993,\n",
       "        20.65373213, 20.88026432, 21.10679651, 21.33332871, 21.5598609 ,\n",
       "        21.7863931 , 22.01292529, 22.23945749, 22.46598968, 22.69252187,\n",
       "        22.91905407, 23.14558626, 23.37211846, 23.59865065, 23.82518284,\n",
       "        24.05171504, 24.27824723, 24.50477943, 24.73131162, 24.95784381,\n",
       "        25.18437601, 25.4109082 , 25.6374404 , 25.86397259, 26.09050478,\n",
       "        26.31703698, 26.54356917, 26.77010137, 26.99663356, 27.22316576,\n",
       "        27.44969795, 27.67623014, 27.90276234, 28.12929453, 28.35582673,\n",
       "        28.58235892, 28.80889111, 29.03542331, 29.2619555 , 29.4884877 ,\n",
       "        29.71501989, 29.94155208, 30.16808428, 30.39461647, 30.62114867,\n",
       "        30.84768086]),\n",
       " <BarContainer object of 100 artists>)"
      ]
     },
     "execution_count": 15,
     "metadata": {},
     "output_type": "execute_result"
    },
    {
     "data": {
      "image/png": "[encoded data removed]",
      "text/plain": [
       "<Figure size 640x480 with 1 Axes>"
      ]
     },
     "metadata": {},
     "output_type": "display_data"
    }
   ],
   "source": [
    "# Create a figure.\n",
    "fig, ax = plt.subplots()\n",
    "\n",
    "# Create histogram.\n",
    "ax.hist(rayleighSamples, bins=100)"
   ]
  },
  {
   "cell_type": "markdown",
   "id": "93a39fd7",
   "metadata": {},
   "source": [
    "## Chisquare Distribution"
   ]
  },
  {
   "cell_type": "markdown",
   "id": "249b1dad",
   "metadata": {},
   "source": [
    "A chisquare distribution is a continuous distribution with K degress of freedom.\n",
    "The chisquare Distribution is used alot in inferential statistics"
   ]
  },
  {
   "cell_type": "markdown",
   "id": "80880890",
   "metadata": {},
   "source": [
    "**Chisquare distribution method**<br>\n",
    "random.Generator.chisquare(df, size=None)"
   ]
  },
  {
   "cell_type": "code",
   "execution_count": 16,
   "id": "9f5dbdf0",
   "metadata": {},
   "outputs": [],
   "source": [
    "# degrees of freedom = 3, size = 100000\n",
    "chisquareSamples = rng.chisquare(3, 100000)"
   ]
  },
  {
   "cell_type": "code",
   "execution_count": 17,
   "id": "101e37e4",
   "metadata": {},
   "outputs": [
    {
     "data": {
      "text/plain": [
       "(array([3.377e+03, 5.522e+03, 6.265e+03, 6.312e+03, 6.337e+03, 6.159e+03,\n",
       "        5.832e+03, 5.566e+03, 5.250e+03, 4.783e+03, 4.329e+03, 4.046e+03,\n",
       "        3.754e+03, 3.227e+03, 3.006e+03, 2.742e+03, 2.507e+03, 2.260e+03,\n",
       "        2.028e+03, 1.792e+03, 1.598e+03, 1.454e+03, 1.314e+03, 1.166e+03,\n",
       "        1.081e+03, 8.890e+02, 8.290e+02, 7.450e+02, 6.710e+02, 5.940e+02,\n",
       "        5.150e+02, 4.650e+02, 4.100e+02, 3.420e+02, 3.090e+02, 2.780e+02,\n",
       "        2.480e+02, 2.370e+02, 2.020e+02, 1.720e+02, 1.580e+02, 1.570e+02,\n",
       "        1.070e+02, 1.080e+02, 9.000e+01, 8.000e+01, 8.400e+01, 6.900e+01,\n",
       "        5.800e+01, 7.700e+01, 4.900e+01, 4.900e+01, 2.400e+01, 2.700e+01,\n",
       "        2.600e+01, 3.000e+01, 2.500e+01, 1.200e+01, 2.000e+01, 1.900e+01,\n",
       "        1.100e+01, 1.000e+01, 8.000e+00, 7.000e+00, 1.100e+01, 1.100e+01,\n",
       "        7.000e+00, 5.000e+00, 3.000e+00, 9.000e+00, 4.000e+00, 5.000e+00,\n",
       "        3.000e+00, 6.000e+00, 1.000e+00, 3.000e+00, 1.000e+00, 1.000e+00,\n",
       "        3.000e+00, 4.000e+00, 0.000e+00, 0.000e+00, 0.000e+00, 1.000e+00,\n",
       "        0.000e+00, 0.000e+00, 0.000e+00, 1.000e+00, 0.000e+00, 0.000e+00,\n",
       "        2.000e+00, 0.000e+00, 0.000e+00, 0.000e+00, 0.000e+00, 0.000e+00,\n",
       "        0.000e+00, 0.000e+00, 0.000e+00, 1.000e+00]),\n",
       " array([1.34730226e-03, 2.68637001e-01, 5.35926700e-01, 8.03216399e-01,\n",
       "        1.07050610e+00, 1.33779580e+00, 1.60508550e+00, 1.87237519e+00,\n",
       "        2.13966489e+00, 2.40695459e+00, 2.67424429e+00, 2.94153399e+00,\n",
       "        3.20882369e+00, 3.47611339e+00, 3.74340309e+00, 4.01069278e+00,\n",
       "        4.27798248e+00, 4.54527218e+00, 4.81256188e+00, 5.07985158e+00,\n",
       "        5.34714128e+00, 5.61443098e+00, 5.88172068e+00, 6.14901037e+00,\n",
       "        6.41630007e+00, 6.68358977e+00, 6.95087947e+00, 7.21816917e+00,\n",
       "        7.48545887e+00, 7.75274857e+00, 8.02003827e+00, 8.28732796e+00,\n",
       "        8.55461766e+00, 8.82190736e+00, 9.08919706e+00, 9.35648676e+00,\n",
       "        9.62377646e+00, 9.89106616e+00, 1.01583559e+01, 1.04256456e+01,\n",
       "        1.06929353e+01, 1.09602250e+01, 1.12275147e+01, 1.14948044e+01,\n",
       "        1.17620940e+01, 1.20293837e+01, 1.22966734e+01, 1.25639631e+01,\n",
       "        1.28312528e+01, 1.30985425e+01, 1.33658322e+01, 1.36331219e+01,\n",
       "        1.39004116e+01, 1.41677013e+01, 1.44349910e+01, 1.47022807e+01,\n",
       "        1.49695704e+01, 1.52368601e+01, 1.55041498e+01, 1.57714395e+01,\n",
       "        1.60387292e+01, 1.63060189e+01, 1.65733086e+01, 1.68405983e+01,\n",
       "        1.71078880e+01, 1.73751777e+01, 1.76424674e+01, 1.79097571e+01,\n",
       "        1.81770468e+01, 1.84443365e+01, 1.87116262e+01, 1.89789159e+01,\n",
       "        1.92462056e+01, 1.95134953e+01, 1.97807850e+01, 2.00480747e+01,\n",
       "        2.03153644e+01, 2.05826541e+01, 2.08499438e+01, 2.11172335e+01,\n",
       "        2.13845232e+01, 2.16518129e+01, 2.19191026e+01, 2.21863923e+01,\n",
       "        2.24536820e+01, 2.27209717e+01, 2.29882614e+01, 2.32555511e+01,\n",
       "        2.35228408e+01, 2.37901305e+01, 2.40574202e+01, 2.43247099e+01,\n",
       "        2.45919996e+01, 2.48592893e+01, 2.51265790e+01, 2.53938687e+01,\n",
       "        2.56611584e+01, 2.59284481e+01, 2.61957378e+01, 2.64630275e+01,\n",
       "        2.67303172e+01]),\n",
       " <BarContainer object of 100 artists>)"
      ]
     },
     "execution_count": 17,
     "metadata": {},
     "output_type": "execute_result"
    },
    {
     "data": {
      "image/png": "[encoded data removed]",
      "text/plain": [
       "<Figure size 640x480 with 1 Axes>"
      ]
     },
     "metadata": {},
     "output_type": "display_data"
    }
   ],
   "source": [
    "# Create a figure.\n",
    "fig, ax = plt.subplots()\n",
    "\n",
    "# Create histogram.\n",
    "ax.hist(chisquareSamples, bins=100)"
   ]
  },
  {
   "cell_type": "markdown",
   "id": "edd358eb",
   "metadata": {},
   "source": [
    "# Logistic Distribution"
   ]
  },
  {
   "cell_type": "markdown",
   "id": "76d08554",
   "metadata": {},
   "source": [
    "The logistic distribution is a continuous probability distribution.\n",
    "Its used for chess ratings and in Logistic regression"
   ]
  },
  {
   "cell_type": "markdown",
   "id": "6b3fea7d",
   "metadata": {},
   "source": [
    "random.Generator.logistic(loc=0.0, scale=1.0, size=None)"
   ]
  },
  {
   "cell_type": "code",
   "execution_count": 18,
   "id": "affbb72d",
   "metadata": {},
   "outputs": [],
   "source": [
    "# loc = 25, scale = 1.0, size = 100000\n",
    "logisticSamples = rng.logistic(18,3.0, 100000)"
   ]
  },
  {
   "cell_type": "code",
   "execution_count": 19,
   "id": "bc8bef07",
   "metadata": {},
   "outputs": [
    {
     "data": {
      "text/plain": [
       "(array([1.000e+00, 1.000e+00, 0.000e+00, 2.000e+00, 6.000e+00, 7.000e+00,\n",
       "        2.000e+00, 3.000e+00, 7.000e+00, 9.000e+00, 4.000e+00, 1.200e+01,\n",
       "        1.800e+01, 1.200e+01, 1.900e+01, 2.400e+01, 3.600e+01, 2.900e+01,\n",
       "        5.000e+01, 7.100e+01, 6.400e+01, 7.900e+01, 1.160e+02, 1.350e+02,\n",
       "        1.800e+02, 2.150e+02, 2.730e+02, 3.650e+02, 4.010e+02, 5.210e+02,\n",
       "        6.400e+02, 7.510e+02, 1.007e+03, 1.167e+03, 1.419e+03, 1.803e+03,\n",
       "        2.082e+03, 2.445e+03, 2.931e+03, 3.363e+03, 3.760e+03, 4.184e+03,\n",
       "        4.487e+03, 5.008e+03, 5.197e+03, 5.382e+03, 5.475e+03, 5.443e+03,\n",
       "        5.065e+03, 4.804e+03, 4.528e+03, 4.017e+03, 3.541e+03, 3.063e+03,\n",
       "        2.700e+03, 2.273e+03, 1.939e+03, 1.585e+03, 1.405e+03, 1.098e+03,\n",
       "        8.840e+02, 7.630e+02, 6.180e+02, 4.550e+02, 4.290e+02, 2.940e+02,\n",
       "        2.610e+02, 2.240e+02, 1.580e+02, 1.220e+02, 1.100e+02, 8.900e+01,\n",
       "        7.400e+01, 5.700e+01, 5.300e+01, 3.400e+01, 3.200e+01, 1.700e+01,\n",
       "        1.200e+01, 2.400e+01, 1.300e+01, 1.400e+01, 9.000e+00, 1.000e+00,\n",
       "        4.000e+00, 3.000e+00, 5.000e+00, 3.000e+00, 3.000e+00, 1.000e+00,\n",
       "        2.000e+00, 2.000e+00, 0.000e+00, 0.000e+00, 1.000e+00, 1.000e+00,\n",
       "        2.000e+00, 1.000e+00, 0.000e+00, 1.000e+00]),\n",
       " array([-1.24857892e+01, -1.18268874e+01, -1.11679855e+01, -1.05090836e+01,\n",
       "        -9.85018171e+00, -9.19127983e+00, -8.53237795e+00, -7.87347606e+00,\n",
       "        -7.21457418e+00, -6.55567230e+00, -5.89677041e+00, -5.23786853e+00,\n",
       "        -4.57896665e+00, -3.92006476e+00, -3.26116288e+00, -2.60226100e+00,\n",
       "        -1.94335911e+00, -1.28445723e+00, -6.25555348e-01,  3.33465353e-02,\n",
       "         6.92248419e-01,  1.35115030e+00,  2.01005219e+00,  2.66895407e+00,\n",
       "         3.32785595e+00,  3.98675784e+00,  4.64565972e+00,  5.30456160e+00,\n",
       "         5.96346349e+00,  6.62236537e+00,  7.28126725e+00,  7.94016914e+00,\n",
       "         8.59907102e+00,  9.25797290e+00,  9.91687479e+00,  1.05757767e+01,\n",
       "         1.12346786e+01,  1.18935804e+01,  1.25524823e+01,  1.32113842e+01,\n",
       "         1.38702861e+01,  1.45291880e+01,  1.51880899e+01,  1.58469917e+01,\n",
       "         1.65058936e+01,  1.71647955e+01,  1.78236974e+01,  1.84825993e+01,\n",
       "         1.91415012e+01,  1.98004030e+01,  2.04593049e+01,  2.11182068e+01,\n",
       "         2.17771087e+01,  2.24360106e+01,  2.30949125e+01,  2.37538143e+01,\n",
       "         2.44127162e+01,  2.50716181e+01,  2.57305200e+01,  2.63894219e+01,\n",
       "         2.70483238e+01,  2.77072256e+01,  2.83661275e+01,  2.90250294e+01,\n",
       "         2.96839313e+01,  3.03428332e+01,  3.10017351e+01,  3.16606369e+01,\n",
       "         3.23195388e+01,  3.29784407e+01,  3.36373426e+01,  3.42962445e+01,\n",
       "         3.49551464e+01,  3.56140482e+01,  3.62729501e+01,  3.69318520e+01,\n",
       "         3.75907539e+01,  3.82496558e+01,  3.89085577e+01,  3.95674595e+01,\n",
       "         4.02263614e+01,  4.08852633e+01,  4.15441652e+01,  4.22030671e+01,\n",
       "         4.28619690e+01,  4.35208708e+01,  4.41797727e+01,  4.48386746e+01,\n",
       "         4.54975765e+01,  4.61564784e+01,  4.68153803e+01,  4.74742821e+01,\n",
       "         4.81331840e+01,  4.87920859e+01,  4.94509878e+01,  5.01098897e+01,\n",
       "         5.07687916e+01,  5.14276934e+01,  5.20865953e+01,  5.27454972e+01,\n",
       "         5.34043991e+01]),\n",
       " <BarContainer object of 100 artists>)"
      ]
     },
     "execution_count": 19,
     "metadata": {},
     "output_type": "execute_result"
    },
    {
     "data": {
      "image/png": "[encoded data removed]",
      "text/plain": [
       "<Figure size 640x480 with 1 Axes>"
      ]
     },
     "metadata": {},
     "output_type": "display_data"
    }
   ],
   "source": [
    "# Create a figure.\n",
    "fig, ax = plt.subplots()\n",
    "\n",
    "# Create histogram.\n",
    "ax.hist(logisticSamples, bins=100)"
   ]
  },
  {
   "cell_type": "markdown",
   "id": "17ab2a88",
   "metadata": {},
   "source": [
    "## References\n",
    "\n",
    "https://numpy.org/doc/stable/reference/random/generator.html#distributions\n",
    "\n",
    "https://en.wikipedia.org/wiki/Rayleigh_distribution\n",
    "\n",
    "https://www.sciencedirect.com/topics/mathematics/chi-square-distribution\n",
    "\n",
    "https://www.statisticshowto.com/probability-and-statistics/binomial-theorem/binomial-distribution-formula/\n",
    "\n",
    "https://www.mathsisfun.com/data/binomial-distribution.html\n",
    "\n",
    "https://github.com/ianmcloughlin/2223-S1-fund-data-analysis/blob/main/notebooks/02-randomness.ipynb\n"
   ]
  },
  {
   "cell_type": "markdown",
   "id": "942afc90",
   "metadata": {},
   "source": [
    "***\n",
    "# END\n",
    "***"
   ]
  }
 ],
 "metadata": {
  "kernelspec": {
   "display_name": "Python 3 (ipykernel)",
   "language": "python",
   "name": "python3"
  },
  "language_info": {
   "codemirror_mode": {
    "name": "ipython",
    "version": 3
   },
   "file_extension": ".py",
   "mimetype": "text/x-python",
   "name": "python",
   "nbconvert_exporter": "python",
   "pygments_lexer": "ipython3",
   "version": "3.9.13"
  }
 },
 "nbformat": 4,
 "nbformat_minor": 5
}
