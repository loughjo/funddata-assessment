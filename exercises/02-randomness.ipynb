{
 "cells": [
  {
   "cell_type": "markdown",
   "id": "d962231f",
   "metadata": {},
   "source": [
    "# Randomness"
   ]
  },
  {
   "cell_type": "markdown",
   "id": "047a2ac8",
   "metadata": {},
   "source": [
    "## Exercise 1\n",
    "---"
   ]
  },
  {
   "cell_type": "markdown",
   "id": "0172aa16",
   "metadata": {},
   "source": [
    "\n",
    "<font color=\"grey\">It is somewhat interesting that (5 * 4 * 3 * 2 * 1) perfectly divides (10 * 9 * 8 * 7 * 6) - there's no remainder.</font>\n",
    "\n",
    "<font color=\"grey\">If we only wanted exactly four heads as opposed to five, the equivalent calculation would be (10 * 9 * 8 * 7) / (4 * 3 * 2 * 1).</font>\n",
    " <font color=\"grey\">Does that evenly divide too? What is the formula in general?</font>\n",
    "<font color=\"grey\">Does it always come out as a positive whole number?</font>"
   ]
  },
  {
   "cell_type": "code",
   "execution_count": null,
   "id": "1d95c4ad",
   "metadata": {},
   "outputs": [],
   "source": []
  },
  {
   "cell_type": "markdown",
   "id": "0062f3f0",
   "metadata": {},
   "source": [
    "## Exercise 2\n",
    "\n",
    "##### Note that there are the same number of ways to get 4 tails as there to get 4 heads. Explain why this is."
   ]
  },
  {
   "cell_type": "code",
   "execution_count": null,
   "id": "4d3ee03a",
   "metadata": {},
   "outputs": [],
   "source": []
  },
  {
   "cell_type": "markdown",
   "id": "c18384a0",
   "metadata": {},
   "source": [
    "Exercise 3\n",
    "\n",
    "Plot bar charts or histograms of any three different distributions listed at the following link:\n",
    "\n",
    "https://numpy.org/doc/stable/reference/random/generator.html#distributions"
   ]
  },
  {
   "cell_type": "code",
   "execution_count": null,
   "id": "4acb56dc",
   "metadata": {},
   "outputs": [],
   "source": []
  }
 ],
 "metadata": {
  "kernelspec": {
   "display_name": "Python 3 (ipykernel)",
   "language": "python",
   "name": "python3"
  },
  "language_info": {
   "codemirror_mode": {
    "name": "ipython",
    "version": 3
   },
   "file_extension": ".py",
   "mimetype": "text/x-python",
   "name": "python",
   "nbconvert_exporter": "python",
   "pygments_lexer": "ipython3",
   "version": "3.9.7"
  }
 },
 "nbformat": 4,
 "nbformat_minor": 5
}
