{
 "cells": [
  {
   "cell_type": "code",
   "execution_count": null,
   "id": "a7fbbb5d",
   "metadata": {},
   "outputs": [],
   "source": []
  },
  {
   "cell_type": "markdown",
   "id": "673ce35d",
   "metadata": {},
   "source": [
    "# Exercise 1\n",
    "***"
   ]
  },
  {
   "cell_type": "markdown",
   "id": "110cdcb5",
   "metadata": {},
   "source": [
    "Remember to do these exercises in your own notebook in your assessment repository.\n",
    "\n",
    "Give three real-world examples of different types of cognitive bias."
   ]
  },
  {
   "cell_type": "code",
   "execution_count": null,
   "id": "d77a8e34",
   "metadata": {},
   "outputs": [],
   "source": []
  },
  {
   "cell_type": "markdown",
   "id": "7f5f665f",
   "metadata": {},
   "source": [
    "# Exercise 2\n",
    "***"
   ]
  },
  {
   "cell_type": "markdown",
   "id": "d18abe3e",
   "metadata": {},
   "source": [
    "Remember to do these exercises in your own notebook in your assessment repository.\n",
    "\n",
    "Show that the difference between the standard deviation calculations is greatest for small sample sizes."
   ]
  },
  {
   "cell_type": "code",
   "execution_count": null,
   "id": "bf04f0dc",
   "metadata": {},
   "outputs": [],
   "source": []
  }
 ],
 "metadata": {
  "kernelspec": {
   "display_name": "Python 3 (ipykernel)",
   "language": "python",
   "name": "python3"
  },
  "language_info": {
   "codemirror_mode": {
    "name": "ipython",
    "version": 3
   },
   "file_extension": ".py",
   "mimetype": "text/x-python",
   "name": "python",
   "nbconvert_exporter": "python",
   "pygments_lexer": "ipython3",
   "version": "3.9.7"
  }
 },
 "nbformat": 4,
 "nbformat_minor": 5
}
